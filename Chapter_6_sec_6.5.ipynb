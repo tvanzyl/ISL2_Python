{
 "cells": [
  {
   "cell_type": "markdown",
   "metadata": {},
   "source": [
    "# 6.5 Lab: Linear Models and Regularization Methods"
   ]
  },
  {
   "cell_type": "markdown",
   "metadata": {},
   "source": [
    "## 6.5.1 Subset Selection Methods"
   ]
  },
  {
   "cell_type": "code",
   "execution_count": 143,
   "metadata": {},
   "outputs": [],
   "source": [
    "import warnings\n",
    "warnings.filterwarnings('ignore')"
   ]
  },
  {
   "cell_type": "code",
   "execution_count": 144,
   "metadata": {
    "collapsed": true
   },
   "outputs": [
    {
     "data": {
      "text/plain": [
       "'\\nAs we move to more ambgious topics, I would try to add in more comments on the approaches and results.\\n'"
      ]
     },
     "execution_count": 144,
     "metadata": {},
     "output_type": "execute_result"
    }
   ],
   "source": [
    "\"\"\"\n",
    "This notebook contains the code for best subset selection, \n",
    "so this notebook may take longer time to run, for faster run, make\n",
    "max_feature into a smaller number\n",
    "\"\"\"\n",
    "max_feature = 3\n",
    "\"\"\"\n",
    "As we move to more ambgious topics, I would try to add in more comments on the approaches and results.\n",
    "\"\"\""
   ]
  },
  {
   "cell_type": "code",
   "execution_count": 145,
   "metadata": {},
   "outputs": [],
   "source": [
    "import numpy as np\n",
    "import matplotlib.pyplot as plt\n",
    "import scipy\n",
    "import pandas as pd \n",
    "import math\n",
    "import random\n",
    "import itertools\n",
    "import statsmodels.api as sm\n",
    "import statsmodels.formula.api as smf\n",
    "from statsmodels.graphics.regressionplots import *\n",
    "from sklearn import datasets, linear_model\n",
    "from sklearn.decomposition import PCA \n",
    "from sklearn.cross_decomposition import PLSRegression, PLSSVD\n",
    "from sklearn.preprocessing import StandardScaler, scale \n",
    "from sklearn import linear_model \n",
    "from sklearn.model_selection import cross_val_predict \n",
    "from sklearn.metrics import mean_squared_error, r2_score\n",
    "from sklearn.model_selection import train_test_split\n",
    "from sklearn.linear_model import Ridge, RidgeCV, Lasso, LassoCV\n"
   ]
  },
  {
   "cell_type": "code",
   "execution_count": 146,
   "metadata": {
    "collapsed": true
   },
   "outputs": [
    {
     "name": "stdout",
     "output_type": "stream",
     "text": [
      "['AtBat', 'Hits', 'HmRun', 'Runs', 'RBI', 'Walks', 'Years', 'CAtBat', 'CHits', 'CHmRun', 'CRuns', 'CRBI', 'CWalks', 'League', 'Division', 'PutOuts', 'Assists', 'Errors', 'Salary', 'NewLeague']\n",
      "(322, 20)\n"
     ]
    },
    {
     "data": {
      "text/html": [
       "<div>\n",
       "<style scoped>\n",
       "    .dataframe tbody tr th:only-of-type {\n",
       "        vertical-align: middle;\n",
       "    }\n",
       "\n",
       "    .dataframe tbody tr th {\n",
       "        vertical-align: top;\n",
       "    }\n",
       "\n",
       "    .dataframe thead th {\n",
       "        text-align: right;\n",
       "    }\n",
       "</style>\n",
       "<table border=\"1\" class=\"dataframe\">\n",
       "  <thead>\n",
       "    <tr style=\"text-align: right;\">\n",
       "      <th></th>\n",
       "      <th>AtBat</th>\n",
       "      <th>Hits</th>\n",
       "      <th>HmRun</th>\n",
       "      <th>Runs</th>\n",
       "      <th>RBI</th>\n",
       "      <th>Walks</th>\n",
       "      <th>Years</th>\n",
       "      <th>CAtBat</th>\n",
       "      <th>CHits</th>\n",
       "      <th>CHmRun</th>\n",
       "      <th>CRuns</th>\n",
       "      <th>CRBI</th>\n",
       "      <th>CWalks</th>\n",
       "      <th>League</th>\n",
       "      <th>Division</th>\n",
       "      <th>PutOuts</th>\n",
       "      <th>Assists</th>\n",
       "      <th>Errors</th>\n",
       "      <th>Salary</th>\n",
       "      <th>NewLeague</th>\n",
       "    </tr>\n",
       "  </thead>\n",
       "  <tbody>\n",
       "    <tr>\n",
       "      <th>0</th>\n",
       "      <td>293</td>\n",
       "      <td>66</td>\n",
       "      <td>1</td>\n",
       "      <td>30</td>\n",
       "      <td>29</td>\n",
       "      <td>14</td>\n",
       "      <td>1</td>\n",
       "      <td>293</td>\n",
       "      <td>66</td>\n",
       "      <td>1</td>\n",
       "      <td>30</td>\n",
       "      <td>29</td>\n",
       "      <td>14</td>\n",
       "      <td>A</td>\n",
       "      <td>E</td>\n",
       "      <td>446</td>\n",
       "      <td>33</td>\n",
       "      <td>20</td>\n",
       "      <td>NaN</td>\n",
       "      <td>A</td>\n",
       "    </tr>\n",
       "    <tr>\n",
       "      <th>1</th>\n",
       "      <td>315</td>\n",
       "      <td>81</td>\n",
       "      <td>7</td>\n",
       "      <td>24</td>\n",
       "      <td>38</td>\n",
       "      <td>39</td>\n",
       "      <td>14</td>\n",
       "      <td>3449</td>\n",
       "      <td>835</td>\n",
       "      <td>69</td>\n",
       "      <td>321</td>\n",
       "      <td>414</td>\n",
       "      <td>375</td>\n",
       "      <td>N</td>\n",
       "      <td>W</td>\n",
       "      <td>632</td>\n",
       "      <td>43</td>\n",
       "      <td>10</td>\n",
       "      <td>475.0</td>\n",
       "      <td>N</td>\n",
       "    </tr>\n",
       "    <tr>\n",
       "      <th>2</th>\n",
       "      <td>479</td>\n",
       "      <td>130</td>\n",
       "      <td>18</td>\n",
       "      <td>66</td>\n",
       "      <td>72</td>\n",
       "      <td>76</td>\n",
       "      <td>3</td>\n",
       "      <td>1624</td>\n",
       "      <td>457</td>\n",
       "      <td>63</td>\n",
       "      <td>224</td>\n",
       "      <td>266</td>\n",
       "      <td>263</td>\n",
       "      <td>A</td>\n",
       "      <td>W</td>\n",
       "      <td>880</td>\n",
       "      <td>82</td>\n",
       "      <td>14</td>\n",
       "      <td>480.0</td>\n",
       "      <td>A</td>\n",
       "    </tr>\n",
       "    <tr>\n",
       "      <th>3</th>\n",
       "      <td>496</td>\n",
       "      <td>141</td>\n",
       "      <td>20</td>\n",
       "      <td>65</td>\n",
       "      <td>78</td>\n",
       "      <td>37</td>\n",
       "      <td>11</td>\n",
       "      <td>5628</td>\n",
       "      <td>1575</td>\n",
       "      <td>225</td>\n",
       "      <td>828</td>\n",
       "      <td>838</td>\n",
       "      <td>354</td>\n",
       "      <td>N</td>\n",
       "      <td>E</td>\n",
       "      <td>200</td>\n",
       "      <td>11</td>\n",
       "      <td>3</td>\n",
       "      <td>500.0</td>\n",
       "      <td>N</td>\n",
       "    </tr>\n",
       "    <tr>\n",
       "      <th>4</th>\n",
       "      <td>321</td>\n",
       "      <td>87</td>\n",
       "      <td>10</td>\n",
       "      <td>39</td>\n",
       "      <td>42</td>\n",
       "      <td>30</td>\n",
       "      <td>2</td>\n",
       "      <td>396</td>\n",
       "      <td>101</td>\n",
       "      <td>12</td>\n",
       "      <td>48</td>\n",
       "      <td>46</td>\n",
       "      <td>33</td>\n",
       "      <td>N</td>\n",
       "      <td>E</td>\n",
       "      <td>805</td>\n",
       "      <td>40</td>\n",
       "      <td>4</td>\n",
       "      <td>91.5</td>\n",
       "      <td>N</td>\n",
       "    </tr>\n",
       "  </tbody>\n",
       "</table>\n",
       "</div>"
      ],
      "text/plain": [
       "   AtBat  Hits  HmRun  Runs  RBI  Walks  Years  CAtBat  CHits  CHmRun  CRuns  \\\n",
       "0    293    66      1    30   29     14      1     293     66       1     30   \n",
       "1    315    81      7    24   38     39     14    3449    835      69    321   \n",
       "2    479   130     18    66   72     76      3    1624    457      63    224   \n",
       "3    496   141     20    65   78     37     11    5628   1575     225    828   \n",
       "4    321    87     10    39   42     30      2     396    101      12     48   \n",
       "\n",
       "   CRBI  CWalks League Division  PutOuts  Assists  Errors  Salary NewLeague  \n",
       "0    29      14      A        E      446       33      20     NaN         A  \n",
       "1   414     375      N        W      632       43      10   475.0         N  \n",
       "2   266     263      A        W      880       82      14   480.0         A  \n",
       "3   838     354      N        E      200       11       3   500.0         N  \n",
       "4    46      33      N        E      805       40       4    91.5         N  "
      ]
     },
     "execution_count": 146,
     "metadata": {},
     "output_type": "execute_result"
    }
   ],
   "source": [
    "# read the data and take a look at the data\n",
    "Hitters = pd.read_csv('https://raw.githubusercontent.com/tvanzyl/Sharing_ISL_python/master/data/Hitters.csv', header=0, na_values='NA')\n",
    "print(list(Hitters)) # get the header of this data\n",
    "print(Hitters.shape) # get the dimension of this \n",
    "Hitters.head() # pull a sample of this dataset"
   ]
  },
  {
   "cell_type": "code",
   "execution_count": 147,
   "metadata": {
    "collapsed": true
   },
   "outputs": [
    {
     "name": "stdout",
     "output_type": "stream",
     "text": [
      "59\n",
      "59\n",
      "(263, 20)\n",
      "0\n"
     ]
    }
   ],
   "source": [
    "# clean the data a bit to remove NAs\n",
    "print(np.sum(pd.isnull(Hitters['Salary']))) # number of NAs in Salary column'\n",
    "print(Hitters['Salary'].isnull().sum())\n",
    "\n",
    "Hitters = Hitters.dropna().reset_index(drop=True) # drop the observation with NA values and reindex the obs from 0\n",
    "print(Hitters.shape)\n",
    "print(Hitters['Salary'].isnull().sum())"
   ]
  },
  {
   "cell_type": "code",
   "execution_count": 148,
   "metadata": {
    "collapsed": true
   },
   "outputs": [
    {
     "name": "stdout",
     "output_type": "stream",
     "text": [
      "   League_A  League_N  Division_E  Division_W  NewLeague_A  NewLeague_N\n",
      "0         0         1           0           1            0            1\n",
      "1         1         0           0           1            1            0\n",
      "2         0         1           1           0            0            1\n",
      "3         0         1           1           0            0            1\n",
      "4         1         0           0           1            1            0\n"
     ]
    }
   ],
   "source": [
    "# do some feature engineering to prepare for the model training\n",
    "y = Hitters.Salary  \n",
    "\n",
    "\"\"\"\n",
    "take care of the features \n",
    "1. change category into dummy variables \n",
    "2. Choose (n-1) dummy variable into the feature set: n is the unique values of each categorical variable.\n",
    "\"\"\"\n",
    "\n",
    "dummies = pd.get_dummies(Hitters[['League', 'Division', 'NewLeague']])\n",
    "print(dummies.head())\n",
    "X_prep = Hitters.drop (['Salary', 'League', 'Division', 'NewLeague'], axis = 1).astype('float64')\n",
    "X = pd.concat([X_prep,  dummies[['League_A', 'Division_E', 'NewLeague_A']]], axis=1)"
   ]
  },
  {
   "cell_type": "code",
   "execution_count": 149,
   "metadata": {
    "collapsed": true
   },
   "outputs": [],
   "source": [
    "# let us get it ready for best subset selection \n",
    "\"\"\"\n",
    "Since in Python there is no well-defined function for best subset selection, \n",
    "we will need to define some functions ourselves.\n",
    "1. Define a function to run on a subset of feature and extract RSS\n",
    "2. Select the best model (models) for a fix number of features\n",
    "\"\"\"\n",
    "def getRSS(y, X, feature_list):\n",
    "    model = sm.OLS(y, X[list(feature_list)]).fit()\n",
    "    RSS = ((model.predict(X[list(feature_list)]) - y) ** 2).sum()\n",
    "    return {'Model':model, \"RSS\":RSS}\n",
    "\n",
    "def bestModel(y, X, K):\n",
    "    results = []\n",
    "    for c in itertools.combinations(X.columns, K):\n",
    "        results.append(getRSS(y, X, c))     \n",
    "    model_all =  pd.DataFrame(results)\n",
    "    \n",
    "    best_model = model_all.loc[model_all[\"RSS\"].idxmin()] ## this could be modified to have the top several models\n",
    "    return best_model"
   ]
  },
  {
   "cell_type": "code",
   "execution_count": 150,
   "metadata": {
    "collapsed": true
   },
   "outputs": [
    {
     "name": "stdout",
     "output_type": "stream",
     "text": [
      "                                 OLS Regression Results                                \n",
      "=======================================================================================\n",
      "Dep. Variable:                 Salary   R-squared (uncentered):                   0.761\n",
      "Model:                            OLS   Adj. R-squared (uncentered):              0.760\n",
      "Method:                 Least Squares   F-statistic:                              416.7\n",
      "Date:                Mon, 15 Aug 2022   Prob (F-statistic):                    5.80e-82\n",
      "Time:                        13:21:31   Log-Likelihood:                         -1907.6\n",
      "No. Observations:                 263   AIC:                                      3819.\n",
      "Df Residuals:                     261   BIC:                                      3826.\n",
      "Df Model:                           2                                                  \n",
      "Covariance Type:            nonrobust                                                  \n",
      "==============================================================================\n",
      "                 coef    std err          t      P>|t|      [0.025      0.975]\n",
      "------------------------------------------------------------------------------\n",
      "Hits           2.9538      0.261     11.335      0.000       2.441       3.467\n",
      "CRBI           0.6788      0.066     10.295      0.000       0.549       0.809\n",
      "==============================================================================\n",
      "Omnibus:                      117.551   Durbin-Watson:                   1.933\n",
      "Prob(Omnibus):                  0.000   Jarque-Bera (JB):              654.612\n",
      "Skew:                           1.729   Prob(JB):                    7.12e-143\n",
      "Kurtosis:                       9.912   Cond. No.                         5.88\n",
      "==============================================================================\n",
      "\n",
      "Notes:\n",
      "[1] R² is computed without centering (uncentered) since the model does not contain a constant.\n",
      "[2] Standard Errors assume that the covariance matrix of the errors is correctly specified.\n"
     ]
    }
   ],
   "source": [
    "# execute the best model selection \n",
    "models = pd.DataFrame(columns=[\"RSS\", \"Model\"])\n",
    "for i in range(1,(max_feature+1)):  # for illustration purpuse, I just run for 1 - max_fearure features \n",
    "    models.loc[i] = bestModel(y, X, i)\n",
    "    \n",
    "print(models.loc[2, 'Model'].summary())\n"
   ]
  },
  {
   "cell_type": "code",
   "execution_count": 151,
   "metadata": {
    "collapsed": true
   },
   "outputs": [
    {
     "data": {
      "image/png": "[encoded data removed]",
      "text/plain": [
       "<Figure size 432x288 with 1 Axes>"
      ]
     },
     "metadata": {
      "needs_background": "light"
     },
     "output_type": "display_data"
    }
   ],
   "source": [
    "# this show an example to plot the RSS of best models with different number of parameters\n",
    "plt.figure()\n",
    "plt.plot(models[\"RSS\"])\n",
    "plt.xlabel('# features')\n",
    "plt.ylabel('RSS')\n",
    "plt.show()"
   ]
  },
  {
   "cell_type": "code",
   "execution_count": 152,
   "metadata": {
    "collapsed": true
   },
   "outputs": [],
   "source": [
    "# find the adjust R^2, use dir() to identify all available attributes\n",
    "rsquared_adj = models.apply(lambda row: row[1].rsquared_adj, axis=1) "
   ]
  },
  {
   "cell_type": "code",
   "execution_count": 153,
   "metadata": {
    "collapsed": true
   },
   "outputs": [
    {
     "data": {
      "image/png": "[encoded data removed]",
      "text/plain": [
       "<Figure size 432x288 with 1 Axes>"
      ]
     },
     "metadata": {
      "needs_background": "light"
     },
     "output_type": "display_data"
    }
   ],
   "source": [
    "\"\"\"\n",
    "The following graph shows the adj R^2 is still increasing, \n",
    "in this case, it is a good idea trying models with more features. \n",
    "\"\"\"\n",
    "plt.figure()\n",
    "plt.plot(rsquared_adj)\n",
    "plt.xlabel('# features')\n",
    "plt.ylabel('Adjust R^2')\n",
    "plt.show()"
   ]
  },
  {
   "cell_type": "markdown",
   "metadata": {},
   "source": [
    "## 6.5.2 Forward and Backward Stepwise Selection"
   ]
  },
  {
   "cell_type": "markdown",
   "metadata": {},
   "source": [
    "### Forward Stepwise Selection"
   ]
  },
  {
   "cell_type": "code",
   "execution_count": 154,
   "metadata": {
    "collapsed": true
   },
   "outputs": [],
   "source": [
    "# we can use the previous user defined function 'def getRSS(y, X, feature_list)' \n",
    "# to add 1 feature at a time (start from 0 feature) for forward stepwise selection\n",
    "# or delete 1 feature at a time(start from all the features) for backward stepwise selection. \n",
    "def forward_select(y, X, feature_list):\n",
    "    remaining_predictors = [p for p in X.columns if p not in feature_list]\n",
    "    results = []\n",
    "    for p in remaining_predictors:\n",
    "        results.append(getRSS(y, X, feature_list+[p]))\n",
    "\n",
    "    models = pd.DataFrame(results)\n",
    "    best_model = models.loc[models['RSS'].idxmin()]\n",
    "    return best_model  "
   ]
  },
  {
   "cell_type": "code",
   "execution_count": 155,
   "metadata": {
    "collapsed": true
   },
   "outputs": [],
   "source": [
    "models2 = pd.DataFrame(columns=[\"RSS\", \"Model\"])\n",
    "feature_list = []\n",
    "for i in range(1,len(X.columns)+1):\n",
    "    models2.loc[i] = forward_select(y, X, feature_list)\n",
    "    feature_list = models2.loc[i][\"Model\"].model.exog_names"
   ]
  },
  {
   "cell_type": "code",
   "execution_count": 156,
   "metadata": {
    "collapsed": true
   },
   "outputs": [
    {
     "name": "stdout",
     "output_type": "stream",
     "text": [
      "Best max_feature variable from best subset selection on tranining\n",
      "Hits       2.316407\n",
      "CRBI       0.666517\n",
      "PutOuts    0.261395\n",
      "dtype: float64\n",
      "\n",
      "---------------------------------------------\n",
      "Best max_feature variable from forward selection on tranining\n",
      "Hits       2.316407\n",
      "CRBI       0.666517\n",
      "PutOuts    0.261395\n",
      "dtype: float64\n"
     ]
    }
   ],
   "source": [
    "# we can compare the results of best subset selection and the forward selection\n",
    "print('Best max_feature variable from best subset selection on tranining')\n",
    "print(models.loc[max_feature, 'Model'].params)\n",
    "print('\\n---------------------------------------------')\n",
    "print('Best max_feature variable from forward selection on tranining')\n",
    "print(models2.loc[max_feature, 'Model'].params)"
   ]
  },
  {
   "cell_type": "markdown",
   "metadata": {},
   "source": [
    "### Backward Stepwise Selection"
   ]
  },
  {
   "cell_type": "code",
   "execution_count": 157,
   "metadata": {
    "collapsed": true
   },
   "outputs": [],
   "source": [
    "def backward_select(y, X, feature_list):\n",
    "    results = []\n",
    "    for combo in itertools.combinations(feature_list, len(feature_list)-1):\n",
    "        results.append(getRSS(y, X, combo))\n",
    "\n",
    "    models = pd.DataFrame(results)\n",
    "    best_model = models.loc[models['RSS'].idxmin()]\n",
    "    return best_model  "
   ]
  },
  {
   "cell_type": "code",
   "execution_count": 158,
   "metadata": {
    "collapsed": true
   },
   "outputs": [
    {
     "name": "stdout",
     "output_type": "stream",
     "text": [
      "Hits       2.111712\n",
      "CRuns      0.646149\n",
      "PutOuts    0.295625\n",
      "dtype: float64\n"
     ]
    }
   ],
   "source": [
    "# the backward selection starts from all the variables of features\n",
    "models3 = pd.DataFrame(columns=[\"RSS\", \"Model\"], index = range(1,len(X.columns)))\n",
    "feature_list = X.columns\n",
    "\n",
    "while(len(feature_list) > 1):\n",
    "    models3.loc[len(feature_list)-1] = backward_select(y, X, feature_list)\n",
    "    feature_list = models3.loc[len(feature_list)-1][\"Model\"].model.exog_names\n",
    "\n",
    "print(models3.loc[max_feature, \"Model\"].params)"
   ]
  },
  {
   "cell_type": "markdown",
   "metadata": {},
   "source": [
    "## 6.5.3 Choosing Among Models Using the Validation Set Approach and Cross-Validation\n",
    "In previous sections, we defined the 'best' model based on some statistics (R^2, adj R^2, AIC, BIC, etc) of the training dataset. This may cause 'overfitting' problemm which means the best model on training data can not generalize well to new data. In this section, validation approach will be discussed.\n"
   ]
  },
  {
   "cell_type": "code",
   "execution_count": 159,
   "metadata": {
    "collapsed": true
   },
   "outputs": [],
   "source": [
    "# randomly split the data into traning dataset and validation dateset\n",
    "np.random.seed(seed = 21)\n",
    "train_index = np.random.choice([True, False], size = len(y), replace = True, p = [0.7, 0.3]) \n",
    "# random select ~70% of data into traning sample\n",
    "# the rest of the samples will be in testing set.\n",
    "test_index = np.invert(train_index)\n",
    "X_train= X[train_index]\n",
    "y_train = y[train_index]\n",
    "X_test = X[test_index]\n",
    "y_test = y[test_index]"
   ]
  },
  {
   "cell_type": "code",
   "execution_count": 160,
   "metadata": {
    "collapsed": true
   },
   "outputs": [],
   "source": [
    "\"\"\" \n",
    "We can recyle the old functions. Modification is needed to compute the RSS for the testing data. \n",
    "So we need to add both train and test into the function input (Implement)\n",
    "-OR-: we can wrap the train and test split step into the function(Not Implemented)\n",
    "\"\"\"\n",
    "def getRSS_validation(y_train, X_train, y_test, X_test,  feature_list):\n",
    "    model = sm.OLS(y_train, X_train[list(feature_list)]).fit()\n",
    "    RSS = ((model.predict(X_test[list(feature_list)]) - y_test) ** 2).sum()\n",
    "    return {'Model':model, \"RSS\":RSS}\n",
    "\n",
    "def bestModel_validation(y_train, X_train, y_test, X_test, K):\n",
    "    results = []\n",
    "    for c in itertools.combinations(X_train.columns, K):\n",
    "        results.append(getRSS_validation(y_train, X_train, y_test, X_test, c))     \n",
    "    model_all =  pd.DataFrame(results)\n",
    "    \n",
    "    best_model = model_all.loc[model_all[\"RSS\"].idxmin()] ## this could be modified to have the top several models\n",
    "    return best_model\n",
    "\n",
    "\n",
    "def forward_select_validation(y_train, X_train, y_test, X_test,  feature_list):\n",
    "    remaining_predictors = [p for p in X_train.columns if p not in feature_list]\n",
    "    results = []\n",
    "    for p in remaining_predictors:\n",
    "        results.append(getRSS_validation(y_train, X_train, y_test, X_test, feature_list+[p]))\n",
    "\n",
    "    models = pd.DataFrame(results)\n",
    "    best_model = models.loc[models['RSS'].idxmin()]\n",
    "    return best_model\n",
    "\n",
    "def backward_select_validation(y_train, X_train, y_test, X_test,  feature_list):\n",
    "    results = []\n",
    "    for combo in itertools.combinations(feature_list, len(feature_list)-1):\n",
    "        results.append(getRSS_validation(y_train, X_train, y_test, X_test,  combo))\n",
    "\n",
    "    models = pd.DataFrame(results)\n",
    "    best_model = models.loc[models['RSS'].idxmin()]\n",
    "    return best_model  "
   ]
  },
  {
   "cell_type": "code",
   "execution_count": 161,
   "metadata": {
    "collapsed": true
   },
   "outputs": [],
   "source": [
    "models_validation = pd.DataFrame(columns=[\"RSS\", \"Model\"])\n",
    "for i in range(1,(max_feature+1)):  # for illustration purpuse, I just run for 1 - max_fearure features \n",
    "    models_validation.loc[i] = bestModel_validation(y_train, X_train, y_test, X_test, i) \n",
    "    \n",
    "    \n",
    "\"\"\"\n",
    "change the function to  forward_select_validation (.) or backward_select_validation(.) \n",
    "for forward selection or backward selection\n",
    "\"\"\" \n",
    "    \n",
    "models2_forward = pd.DataFrame(columns=[\"RSS\", \"Model\"])\n",
    "feature_list = []\n",
    "for i in range(1,len(X.columns)+1):\n",
    "    models2_forward.loc[i] = forward_select_validation(y_train, X_train, y_test, X_test,  feature_list)\n",
    "    feature_list = models2_forward.loc[i][\"Model\"].model.exog_names    \n"
   ]
  },
  {
   "cell_type": "code",
   "execution_count": 162,
   "metadata": {
    "collapsed": true
   },
   "outputs": [
    {
     "name": "stdout",
     "output_type": "stream",
     "text": [
      "Best max_feature variable from best subset selection on tranining\n",
      "Hits       2.316407\n",
      "CRBI       0.666517\n",
      "PutOuts    0.261395\n",
      "dtype: float64\n",
      "\n",
      "---------------------------------------------\n",
      "Best max_feature variable from forward selection on tranining\n",
      "Hits       2.316407\n",
      "CRBI       0.666517\n",
      "PutOuts    0.261395\n",
      "dtype: float64\n",
      "\n",
      "---------------------------------------------\n",
      "Best max_feature variable from backward selection on tranining\n",
      "Hits       2.111712\n",
      "CRuns      0.646149\n",
      "PutOuts    0.295625\n",
      "dtype: float64\n",
      "\n",
      "---------------------------------------------\n",
      "Best max_feature variable from best subset selection on traning and validation split\n",
      "Hits       2.591880\n",
      "CHmRun     2.675775\n",
      "PutOuts    0.210471\n",
      "dtype: float64\n"
     ]
    }
   ],
   "source": [
    "print('Best max_feature variable from best subset selection on tranining')\n",
    "print(models.loc[max_feature, 'Model'].params)\n",
    "print('\\n---------------------------------------------')\n",
    "print('Best max_feature variable from forward selection on tranining')\n",
    "print(models2.loc[max_feature, 'Model'].params)\n",
    "print('\\n---------------------------------------------')\n",
    "print('Best max_feature variable from backward selection on tranining')\n",
    "print(models3.loc[max_feature, 'Model'].params)\n",
    "print('\\n---------------------------------------------')\n",
    "print('Best max_feature variable from best subset selection on traning and validation split')\n",
    "print(models_validation.loc[max_feature, 'Model'].params)"
   ]
  },
  {
   "cell_type": "code",
   "execution_count": 163,
   "metadata": {
    "collapsed": true
   },
   "outputs": [
    {
     "data": {
      "image/png": "[encoded data removed]",
      "text/plain": [
       "<Figure size 432x288 with 1 Axes>"
      ]
     },
     "metadata": {
      "needs_background": "light"
     },
     "output_type": "display_data"
    }
   ],
   "source": [
    "# this show an example to plot the RSS of best models with different number of parameters for best subset with validation\n",
    "plt.figure()\n",
    "plt.plot(models_validation[\"RSS\"])\n",
    "plt.xlabel('# features')\n",
    "plt.ylabel('RSS')\n",
    "plt.show()"
   ]
  },
  {
   "cell_type": "code",
   "execution_count": 164,
   "metadata": {
    "collapsed": true
   },
   "outputs": [
    {
     "data": {
      "image/png": "[encoded data removed]",
      "text/plain": [
       "<Figure size 432x288 with 1 Axes>"
      ]
     },
     "metadata": {
      "needs_background": "light"
     },
     "output_type": "display_data"
    },
    {
     "data": {
      "text/plain": [
       "'\\nNote:from above graph, that 6 variables model gives us the best RSS under forward selection. \\nTo learn the final model, it is also recommendated to re-train the model on entire data (train + validation). \\n'"
      ]
     },
     "execution_count": 164,
     "metadata": {},
     "output_type": "execute_result"
    }
   ],
   "source": [
    "# this show an example to plot the RSS of best models with different number of parameters for forward selection with validation\n",
    "plt.figure()\n",
    "plt.plot(models2_forward[\"RSS\"])\n",
    "plt.xlabel('# features')\n",
    "plt.ylabel('RSS')\n",
    "plt.show()\n",
    "\"\"\"\n",
    "Note:from above graph, that 6 variables model gives us the best RSS under forward selection. \n",
    "To learn the final model, it is also recommendated to re-train the model on entire data (train + validation). \n",
    "\"\"\""
   ]
  },
  {
   "cell_type": "markdown",
   "metadata": {},
   "source": [
    "### Cross-Validation"
   ]
  },
  {
   "cell_type": "code",
   "execution_count": 165,
   "metadata": {
    "collapsed": true
   },
   "outputs": [],
   "source": [
    "\"\"\"\n",
    "This approach is similar to the previous validation idea. \n",
    "The difference is that we break the entire dataset into K different folds. \n",
    "Each run, the model will be trained on all the data from K-1 folds and tested on the remaining fold.\n",
    "Advantages: \n",
    "1. There will be multiple metrics out of testing results => distribution of testing RSS, etc\n",
    "2. The size of traning dataset is much closer to the size of original dateset. This will remove some biases caused by\n",
    "the size difference.\n",
    "\"\"\"\n",
    "\n",
    "k = 10\n",
    "np.random.seed(seed = 21)\n",
    "train_index = np.random.choice(k, size = len(y), replace = True)  # Randomly assign each observations into folds\n",
    "cv_errors = pd.DataFrame(columns=range(1,k+1), index=range(1,len(X.columns) + 1))"
   ]
  },
  {
   "cell_type": "code",
   "execution_count": 166,
   "metadata": {
    "collapsed": true
   },
   "outputs": [],
   "source": [
    "# train and test on each fold\n",
    "models_cv = pd.DataFrame(columns=[\"RSS\", \"Model\"])\n",
    "for j in range(1,k+1):\n",
    "    feature_list = []\n",
    "    for i in range(1,len(X.columns)+1):\n",
    "        models_cv.loc[i] = forward_select_validation(y[train_index!= (j-1)], X[train_index != (j-1)], \n",
    "                                                     y[train_index == (j-1)],X[train_index == (j-1)], \n",
    "                                                     feature_list)\n",
    "        \n",
    "        cv_errors[j][i] = models_cv.loc[i][\"RSS\"]\n",
    "        feature_list = models_cv.loc[i][\"Model\"].model.exog_names"
   ]
  },
  {
   "cell_type": "code",
   "execution_count": 167,
   "metadata": {
    "collapsed": true
   },
   "outputs": [
    {
     "data": {
      "image/png": "[encoded data removed]",
      "text/plain": [
       "<Figure size 432x288 with 1 Axes>"
      ]
     },
     "metadata": {
      "needs_background": "light"
     },
     "output_type": "display_data"
    }
   ],
   "source": [
    "# similar to above, let us plot the performance of each model \n",
    "cv_errors_mean = cv_errors.mean(axis = 1)\n",
    "plt.figure()\n",
    "plt.plot(cv_errors_mean)\n",
    "plt.xlabel('# features')\n",
    "plt.ylabel('RSS')\n",
    "plt.show()"
   ]
  },
  {
   "cell_type": "code",
   "execution_count": 168,
   "metadata": {
    "collapsed": true
   },
   "outputs": [
    {
     "name": "stdout",
     "output_type": "stream",
     "text": [
      "                                 OLS Regression Results                                \n",
      "=======================================================================================\n",
      "Dep. Variable:                 Salary   R-squared (uncentered):                   0.771\n",
      "Model:                            OLS   Adj. R-squared (uncentered):              0.766\n",
      "Method:                 Least Squares   F-statistic:                              155.0\n",
      "Date:                Mon, 15 Aug 2022   Prob (F-statistic):                    1.40e-71\n",
      "Time:                        13:21:54   Log-Likelihood:                         -1704.1\n",
      "No. Observations:                 235   AIC:                                      3418.\n",
      "Df Residuals:                     230   BIC:                                      3435.\n",
      "Df Model:                           5                                                  \n",
      "Covariance Type:            nonrobust                                                  \n",
      "==============================================================================\n",
      "                 coef    std err          t      P>|t|      [0.025      0.975]\n",
      "------------------------------------------------------------------------------\n",
      "Walks          6.3470      0.934      6.795      0.000       4.507       8.187\n",
      "CHits          1.3658      0.353      3.869      0.000       0.670       2.061\n",
      "CAtBat        -0.2803      0.103     -2.713      0.007      -0.484      -0.077\n",
      "PutOuts        0.2629      0.083      3.167      0.002       0.099       0.426\n",
      "CWalks        -0.1555      0.228     -0.681      0.496      -0.605       0.294\n",
      "==============================================================================\n",
      "Omnibus:                       95.002   Durbin-Watson:                   2.014\n",
      "Prob(Omnibus):                  0.000   Jarque-Bera (JB):              564.877\n",
      "Skew:                           1.469   Prob(JB):                    2.18e-123\n",
      "Kurtosis:                      10.004   Cond. No.                         153.\n",
      "==============================================================================\n",
      "\n",
      "Notes:\n",
      "[1] R² is computed without centering (uncentered) since the model does not contain a constant.\n",
      "[2] Standard Errors assume that the covariance matrix of the errors is correctly specified.\n"
     ]
    }
   ],
   "source": [
    "\"\"\"\n",
    "From the above plot, we can see that the model with 5 variables yielded the smallest RSS.\n",
    "We can take a closer look at that model summary. \n",
    "We can also see that the model performance for variables 4 - 12 are similar.\n",
    "\"\"\"\n",
    "print(models_cv.loc[5, \"Model\"].summary())"
   ]
  },
  {
   "cell_type": "markdown",
   "metadata": {},
   "source": [
    "## 6.5.2 Ridge Regression and the Lasso"
   ]
  },
  {
   "cell_type": "code",
   "execution_count": 169,
   "metadata": {
    "collapsed": true
   },
   "outputs": [],
   "source": [
    "\"\"\"\n",
    "Ridge and Lasso are the two regularization methods to deal with overfitting. \n",
    "We do not to run multiple backward/forward selection. \n",
    "In Ridge and Lasso , we would need to run the regularization strength.\n",
    "\"\"\"\n",
    "\n",
    "# similar to before, we need to prepare the features(indepedent) variables and response(depedent) varisble.\n",
    "Hitters = pd.read_csv('https://raw.githubusercontent.com/tvanzyl/Sharing_ISL_python/master/data/Hitters.csv', header=0, na_values='NA')\n",
    "Hitters = Hitters.dropna().reset_index(drop=True) # drop the observation with NA values and reindex the obs from 0\n",
    "dummies = pd.get_dummies(Hitters[['League', 'Division', 'NewLeague']])\n",
    "\n",
    "y = Hitters.Salary  # the response variable \n",
    "X_prep = Hitters.drop (['Salary', 'League', 'Division', 'NewLeague'], axis = 1).astype('float64')\n",
    "X = pd.concat([X_prep,  dummies[['League_A', 'Division_E', 'NewLeague_A']]], axis=1)"
   ]
  },
  {
   "cell_type": "markdown",
   "metadata": {},
   "source": [
    "### Ridge Regression"
   ]
  },
  {
   "cell_type": "code",
   "execution_count": 170,
   "metadata": {
    "collapsed": true
   },
   "outputs": [
    {
     "name": "stdout",
     "output_type": "stream",
     "text": [
      "[1.00000000e+10 7.56463328e+09 5.72236766e+09 4.32876128e+09\n",
      " 3.27454916e+09 2.47707636e+09 1.87381742e+09 1.41747416e+09\n",
      " 1.07226722e+09 8.11130831e+08 6.13590727e+08 4.64158883e+08\n",
      " 3.51119173e+08 2.65608778e+08 2.00923300e+08 1.51991108e+08\n",
      " 1.14975700e+08 8.69749003e+07 6.57933225e+07 4.97702356e+07\n",
      " 3.76493581e+07 2.84803587e+07 2.15443469e+07 1.62975083e+07\n",
      " 1.23284674e+07 9.32603347e+06 7.05480231e+06 5.33669923e+06\n",
      " 4.03701726e+06 3.05385551e+06 2.31012970e+06 1.74752840e+06\n",
      " 1.32194115e+06 1.00000000e+06 7.56463328e+05 5.72236766e+05\n",
      " 4.32876128e+05 3.27454916e+05 2.47707636e+05 1.87381742e+05\n",
      " 1.41747416e+05 1.07226722e+05 8.11130831e+04 6.13590727e+04\n",
      " 4.64158883e+04 3.51119173e+04 2.65608778e+04 2.00923300e+04\n",
      " 1.51991108e+04 1.14975700e+04 8.69749003e+03 6.57933225e+03\n",
      " 4.97702356e+03 3.76493581e+03 2.84803587e+03 2.15443469e+03\n",
      " 1.62975083e+03 1.23284674e+03 9.32603347e+02 7.05480231e+02\n",
      " 5.33669923e+02 4.03701726e+02 3.05385551e+02 2.31012970e+02\n",
      " 1.74752840e+02 1.32194115e+02 1.00000000e+02 7.56463328e+01\n",
      " 5.72236766e+01 4.32876128e+01 3.27454916e+01 2.47707636e+01\n",
      " 1.87381742e+01 1.41747416e+01 1.07226722e+01 8.11130831e+00\n",
      " 6.13590727e+00 4.64158883e+00 3.51119173e+00 2.65608778e+00\n",
      " 2.00923300e+00 1.51991108e+00 1.14975700e+00 8.69749003e-01\n",
      " 6.57933225e-01 4.97702356e-01 3.76493581e-01 2.84803587e-01\n",
      " 2.15443469e-01 1.62975083e-01 1.23284674e-01 9.32603347e-02\n",
      " 7.05480231e-02 5.33669923e-02 4.03701726e-02 3.05385551e-02\n",
      " 2.31012970e-02 1.74752840e-02 1.32194115e-02 1.00000000e-02]\n"
     ]
    }
   ],
   "source": [
    "# next, we will generate a few canadidates regularization strength(in sklearn, the keyword is alphas) \n",
    "# for our Ridge regression. In R, alpha is a switch for Ridge and Lasso methods.\n",
    "alphas = 10**np.linspace(10,-2,100)\n",
    "print(alphas)"
   ]
  },
  {
   "cell_type": "code",
   "execution_count": 171,
   "metadata": {
    "collapsed": true
   },
   "outputs": [],
   "source": [
    "# associated with each value of alpha is a vector of ridge regression coefficients, \n",
    "# stored in a matrix that can be accessed by coeffs. In this case, it is a 19×100, \n",
    "# 19 is the dimension of the features + (intercept needs to call separately) and 100 \n",
    "# is the len of the alphas. The result is a numpy series with len 100 and len(coffes[0]) is 19. \n",
    "# In this specific implementation, the default is no intercept. \n",
    "# here I used list to store them, we could also use dictionary to store them as we did before.\n",
    "ridge = Ridge(fit_intercept=True, normalize=True)\n",
    "coeffs = []\n",
    "intercepts = []\n",
    "\n",
    "for a in alphas:\n",
    "    ridge.set_params(alpha=a)\n",
    "    ridge.fit(X, y)\n",
    "    coeffs.append(ridge.coef_)\n",
    "    intercepts.append(ridge.intercept_)"
   ]
  },
  {
   "cell_type": "code",
   "execution_count": 172,
   "metadata": {
    "collapsed": true
   },
   "outputs": [
    {
     "name": "stdout",
     "output_type": "stream",
     "text": [
      "100\n",
      "19\n",
      "100\n",
      "535.9258816915063\n"
     ]
    }
   ],
   "source": [
    "print(len(coeffs))\n",
    "print(len(coeffs[0]))\n",
    "print(len(intercepts))\n",
    "print(intercepts[0])"
   ]
  },
  {
   "cell_type": "code",
   "execution_count": 173,
   "metadata": {
    "collapsed": true
   },
   "outputs": [
    {
     "data": {
      "image/png": "[encoded data removed]",
      "text/plain": [
       "<Figure size 432x288 with 1 Axes>"
      ]
     },
     "metadata": {
      "needs_background": "light"
     },
     "output_type": "display_data"
    }
   ],
   "source": [
    "# as design, as alphas get bigger, magnitude of coefficients turn to be closer to zero. \n",
    "# one thing to remember is that the decay is quite smooth\n",
    "ax = plt.gca()\n",
    "ax.plot(alphas, coeffs)\n",
    "\"\"\"\n",
    "Typically, we scale the alpha in log scale.\n",
    "Try to plot it without. \n",
    "\"\"\"\n",
    "ax.set_xscale('log') \n",
    "plt.axis('tight')\n",
    "plt.xlabel('alpha')\n",
    "plt.ylabel('weights')\n",
    "plt.show()"
   ]
  },
  {
   "cell_type": "code",
   "execution_count": 174,
   "metadata": {
    "collapsed": true
   },
   "outputs": [
    {
     "name": "stdout",
     "output_type": "stream",
     "text": [
      "11497.569953977356\n",
      "0.015604015364701391\n",
      "[ 1.05084190e-04  3.81213219e-04  1.53587268e-03  6.44641457e-04\n",
      "  6.80918080e-04  8.01446032e-04  3.27704404e-03  9.02214059e-06\n",
      "  3.32048758e-05  2.50408429e-04  6.66164023e-05  6.87496444e-05\n",
      "  7.27332307e-05  4.21005722e-05  6.87621309e-06 -3.21056660e-05\n",
      "  1.11649125e-03  1.50775795e-02  2.19838773e-04]\n"
     ]
    }
   ],
   "source": [
    "# let us take one example\n",
    "\"\"\"\n",
    "We may notice the coefficients l2 norm is different from R output \n",
    "I tried a few different normalization methods but still did not get the exact same output \n",
    "\"\"\"\n",
    "sample = 49\n",
    "print(alphas[sample])\n",
    "print(math.sqrt(sum(map(lambda x:x*x, coeffs[sample]))))\n",
    "print(coeffs[sample])\n"
   ]
  },
  {
   "cell_type": "code",
   "execution_count": 175,
   "metadata": {
    "collapsed": true
   },
   "outputs": [],
   "source": [
    "# we now split the samples into a training set and a test set in order to estimate \n",
    "# the test error of ridge regression and the lasso. \n",
    "# Python provides a built-in function to produce training and test data set.\n",
    "X_train, X_test , y_train, y_test = train_test_split(X, y, test_size=0.66)"
   ]
  },
  {
   "cell_type": "code",
   "execution_count": 176,
   "metadata": {
    "collapsed": true
   },
   "outputs": [
    {
     "name": "stdout",
     "output_type": "stream",
     "text": [
      "AtBat           0.057770\n",
      "Hits            0.280470\n",
      "HmRun           1.696433\n",
      "Runs            0.344180\n",
      "RBI             0.777681\n",
      "Walks           1.077091\n",
      "Years           3.680301\n",
      "CAtBat          0.009220\n",
      "CHits           0.030704\n",
      "CHmRun          0.534376\n",
      "CRuns           0.066356\n",
      "CRBI            0.103096\n",
      "CWalks          0.086388\n",
      "PutOuts         0.088005\n",
      "Assists         0.036705\n",
      "Errors          0.626791\n",
      "League_A       -2.985694\n",
      "Division_E     36.529828\n",
      "NewLeague_A    -2.102978\n",
      "dtype: float64\n",
      "131344.7402585614\n"
     ]
    }
   ],
   "source": [
    "# train the model and do prediction on test dataset\n",
    "ridge = Ridge(fit_intercept=True, normalize=True, alpha=4)\n",
    "ridge.fit(X_train, y_train)             # Fit a ridge regression on the training data\n",
    "pred = ridge.predict(X_test)           # Use this model to predict the test data\n",
    "print(pd.Series(ridge.coef_, index=X.columns)) # Print coefficients\n",
    "print(mean_squared_error(y_test, pred))        # Calculate the test MSE"
   ]
  },
  {
   "cell_type": "code",
   "execution_count": 177,
   "metadata": {
    "collapsed": true
   },
   "outputs": [
    {
     "data": {
      "text/plain": [
       "0.6579332246575682"
      ]
     },
     "execution_count": 177,
     "metadata": {},
     "output_type": "execute_result"
    }
   ],
   "source": [
    "# to select best alpha, we will use cross validation. \n",
    "# as standard, we will report test set performance as the final performance metric\n",
    "ridgecv =  RidgeCV(alphas, scoring='neg_mean_squared_error', normalize = True)\n",
    "ridgecv.fit(X_train, y_train)\n",
    "ridgecv.alpha_"
   ]
  },
  {
   "cell_type": "code",
   "execution_count": 178,
   "metadata": {
    "collapsed": true
   },
   "outputs": [
    {
     "data": {
      "text/plain": [
       "132809.6101812174"
      ]
     },
     "execution_count": 178,
     "metadata": {},
     "output_type": "execute_result"
    }
   ],
   "source": [
    "# produce the mean squred error of the selected alpha on test dataset\n",
    "ridge_best = Ridge(alpha=ridgecv.alpha_, normalize=True)\n",
    "ridge_best.fit(X_train, y_train)\n",
    "mean_squared_error(y_test, ridge_best.predict(X_test))"
   ]
  },
  {
   "cell_type": "code",
   "execution_count": 179,
   "metadata": {
    "collapsed": true
   },
   "outputs": [
    {
     "data": {
      "text/plain": [
       "AtBat           -0.043690\n",
       "Hits             0.290475\n",
       "HmRun            2.307585\n",
       "Runs             0.010003\n",
       "RBI              1.197184\n",
       "Walks            2.575096\n",
       "Years            3.844652\n",
       "CAtBat           0.009922\n",
       "CHits            0.030502\n",
       "CHmRun           1.165054\n",
       "CRuns            0.079669\n",
       "CRBI             0.181248\n",
       "CWalks           0.088957\n",
       "PutOuts          0.235423\n",
       "Assists          0.146865\n",
       "Errors           1.261345\n",
       "League_A        -6.490527\n",
       "Division_E     109.178051\n",
       "NewLeague_A     -0.939364\n",
       "dtype: float64"
      ]
     },
     "execution_count": 179,
     "metadata": {},
     "output_type": "execute_result"
    }
   ],
   "source": [
    "# we can exame the values of the coefficients \n",
    "\"\"\"\n",
    "If we exam the values of the coefficients, most of them are tiny, but none of them is zero.\n",
    "This is a diff between ridge and lasso. Ridge shrinks the coefficients proportionally.\n",
    "\"\"\"\n",
    "pd.Series(ridge_best.coef_, index=X.columns)"
   ]
  },
  {
   "cell_type": "markdown",
   "metadata": {},
   "source": [
    "###  The Lasso\n",
    "#### We saw that ridge regression with a wise choice of λ can outperform least squares as well as the null model on the Hitters data set. We now ask whether the lasso can yield either a more accurate or a more interpretable model than ridge regression."
   ]
  },
  {
   "cell_type": "code",
   "execution_count": 180,
   "metadata": {
    "collapsed": true
   },
   "outputs": [
    {
     "data": {
      "image/png": "[encoded data removed]",
      "text/plain": [
       "<Figure size 432x288 with 1 Axes>"
      ]
     },
     "metadata": {
      "needs_background": "light"
     },
     "output_type": "display_data"
    },
    {
     "data": {
      "text/plain": [
       "146392.24644458643"
      ]
     },
     "execution_count": 180,
     "metadata": {},
     "output_type": "execute_result"
    }
   ],
   "source": [
    "# same precedure as before, we will use cross validation to select the best alpha\n",
    "lasso= Lasso(normalize=True, max_iter=int(1e5))\n",
    "coeffs = []\n",
    "\n",
    "for a in alphas:\n",
    "    lasso.set_params(alpha=a)\n",
    "    lasso.fit(X_train, y_train)\n",
    "    coeffs.append(lasso.coef_)\n",
    "    \n",
    "ax = plt.gca()\n",
    "ax.plot(alphas, coeffs)\n",
    "ax.set_xscale('log')\n",
    "plt.axis('tight')\n",
    "plt.xlabel('alpha')\n",
    "plt.ylabel('weights')\n",
    "plt.show()\n",
    "\n",
    "lassocv = LassoCV(alphas=None, cv=10, max_iter=int(1e5), normalize=True)\n",
    "lassocv.fit(X_train, y_train)\n",
    "\n",
    "lasso.set_params(alpha=lassocv.alpha_)\n",
    "lasso.fit(X_train, y_train)\n",
    "mean_squared_error(y_test, lasso.predict(X_test))"
   ]
  },
  {
   "cell_type": "code",
   "execution_count": 181,
   "metadata": {
    "collapsed": true
   },
   "outputs": [
    {
     "data": {
      "text/plain": [
       "AtBat           -0.000000\n",
       "Hits             0.000000\n",
       "HmRun            0.000000\n",
       "Runs            -0.000000\n",
       "RBI              0.000000\n",
       "Walks            3.866781\n",
       "Years            0.000000\n",
       "CAtBat           0.000000\n",
       "CHits            0.000000\n",
       "CHmRun           1.946302\n",
       "CRuns            0.000000\n",
       "CRBI             0.435854\n",
       "CWalks           0.000000\n",
       "PutOuts          0.321438\n",
       "Assists          0.251371\n",
       "Errors           0.000000\n",
       "League_A        -0.000000\n",
       "Division_E     151.322929\n",
       "NewLeague_A     -0.000000\n",
       "dtype: float64"
      ]
     },
     "execution_count": 181,
     "metadata": {},
     "output_type": "execute_result"
    }
   ],
   "source": [
    "# some of the coefficients should reduce to exact zero\n",
    "pd.Series(lasso.coef_, index=X.columns)"
   ]
  },
  {
   "cell_type": "markdown",
   "metadata": {},
   "source": [
    "## 6.5.3 PCR and PLS Regression"
   ]
  },
  {
   "cell_type": "markdown",
   "metadata": {},
   "source": [
    "### Principal Components Regression\n",
    "Principal components regression (PCR) can be performed using the PCA function + regression afterwards. The PCA function is part of the scikit-learn module. In this section, we will continue using Hitters data, in order to predict Salary. Again, we will drop NA and deal with the categorical variables from the data set as what we did in Section 6.5. "
   ]
  },
  {
   "cell_type": "code",
   "execution_count": 182,
   "metadata": {
    "collapsed": true
   },
   "outputs": [],
   "source": [
    "Hitters = pd.read_csv('https://raw.githubusercontent.com/tvanzyl/Sharing_ISL_python/master/data/Hitters.csv', header=0, na_values='NA')\n",
    "Hitters = Hitters.dropna().reset_index(drop=True) # drop the observation with NA values and reindex the obs from 0\n",
    "y = Hitters.Salary  # the response variable \n",
    "dummies = pd.get_dummies(Hitters[['League', 'Division', 'NewLeague']])\n",
    "X_prep = Hitters.drop (['Salary', 'League', 'Division', 'NewLeague'], axis = 1).astype('float64')\n",
    "X = pd.concat([X_prep,  dummies[['League_A', 'Division_E', 'NewLeague_A']]], axis=1)"
   ]
  },
  {
   "cell_type": "code",
   "execution_count": 183,
   "metadata": {
    "collapsed": true
   },
   "outputs": [],
   "source": [
    "# let us do PCA on the input dataset. \n",
    "# since the units of the variables are different, it is always recommended to scale the variables.\n",
    "pca = PCA()\n",
    "X_pca = pca.fit_transform(scale(X))\n",
    "regr = linear_model.LinearRegression()"
   ]
  },
  {
   "cell_type": "code",
   "execution_count": 184,
   "metadata": {
    "collapsed": true
   },
   "outputs": [],
   "source": [
    "\"\"\"\n",
    "Here comes a problem, how to choose the number of PCs. We still use cross-validation. \n",
    "We compute MSE for validation set at different number of PCs, \n",
    "and choose the one with lowest validation MSE as the optimal number for PCA dimension reduction. \n",
    "\n",
    "[NOT fully covered here, covered in Chapter 12] We may decide on the number of PCS by the explained variance ratio.\n",
    "\"\"\"\n",
    "\n",
    "def pcr(X,y,pc):\n",
    "    ''' Principal Component Regression in Python'''\n",
    "    ''' Step 1: PCA on input data'''\n",
    "\n",
    "    # Define the PCA object\n",
    "    pca = PCA()\n",
    "\n",
    "    # Preprocessing (1): first derivative\n",
    "    X_pca = pca.fit_transform(scale(X))[:,:pc]\n",
    "\n",
    "    ''' Step 2: regression on selected principal components'''\n",
    "\n",
    "    # Create linear regression object\n",
    "    regr = linear_model.LinearRegression()\n",
    "    \n",
    "    # Fit\n",
    "    regr.fit(X_pca, y)\n",
    "\n",
    "    # Calibration\n",
    "    y_train = regr.predict(X_pca)\n",
    "\n",
    "    # Cross-validation\n",
    "    y_cv = cross_val_predict(regr, X_pca, y, cv=20)\n",
    "\n",
    "    # Calculate scores for training and cross-validation\n",
    "    score_train = r2_score(y, y_train)\n",
    "    score_cv = r2_score(y, y_cv)\n",
    "\n",
    "    # Calculate mean square error for training and cross validation\n",
    "    mse_train = mean_squared_error(y, y_train)\n",
    "    mse_cv = mean_squared_error(y, y_cv)\n",
    "\n",
    "    return(y_cv, score_train, score_cv, mse_train, mse_cv)\n"
   ]
  },
  {
   "cell_type": "code",
   "execution_count": 185,
   "metadata": {
    "collapsed": true
   },
   "outputs": [
    {
     "data": {
      "image/png": "[encoded data removed]",
      "text/plain": [
       "<Figure size 432x288 with 1 Axes>"
      ]
     },
     "metadata": {
      "needs_background": "light"
     },
     "output_type": "display_data"
    },
    {
     "data": {
      "text/plain": [
       "'\\nFrom the above picture, we can observe three things \\n1)PC = 6, 16, 17, 18, 19 give us the small validation MSE; \\n2) for all the PC dimensions,  validation MSE is higher than training MSE, is this normal? \\n3) the training MSE keeps decreasing as PC number goes up, is this as expected?\\n\\n\\nFrom the plot we also see that the cross-validation error is roughly the same when \\nonly one component is included in the model. \\nThis suggests that a model that uses just a small number of components might suffice. \\nIn the book, the authors used train/test to select the best dimension. \\nI will skip that part since most of those were already covered in the previous sections.\\n'"
      ]
     },
     "execution_count": 185,
     "metadata": {},
     "output_type": "execute_result"
    }
   ],
   "source": [
    "mse_train = []\n",
    "mse_cv = []\n",
    "\n",
    "# calculate MSE using CV for the 19 principle components, adding one component at the time.\n",
    "for i in np.arange(1, 20):\n",
    "    results =  pcr(X,y,i)\n",
    "    mse_train.append(results[3])\n",
    "    mse_cv.append(results[4])\n",
    "    \n",
    "# plot results    \n",
    "plt.plot(np.arange(1, 20), mse_cv, '-v', label = 'Validation_MSE')\n",
    "plt.plot(np.arange(1, 20), mse_train, '-v', label = 'Train_MSE')\n",
    "plt.xlabel('Number of principal components in regression')\n",
    "plt.ylabel('MSE')\n",
    "plt.title('Salary')\n",
    "plt.xlim(left=-1)\n",
    "plt.legend()\n",
    "plt.show()\n",
    "\n",
    "\"\"\"\n",
    "From the above picture, we can observe three things \n",
    "1)PC = 6, 16, 17, 18, 19 give us the small validation MSE; \n",
    "2) for all the PC dimensions,  validation MSE is higher than training MSE, is this normal? \n",
    "3) the training MSE keeps decreasing as PC number goes up, is this as expected?\n",
    "\n",
    "\n",
    "From the plot we also see that the cross-validation error is roughly the same when \n",
    "only one component is included in the model. \n",
    "This suggests that a model that uses just a small number of components might suffice. \n",
    "In the book, the authors used train/test to select the best dimension. \n",
    "I will skip that part since most of those were already covered in the previous sections.\n",
    "\"\"\""
   ]
  },
  {
   "cell_type": "code",
   "execution_count": 186,
   "metadata": {
    "collapsed": true
   },
   "outputs": [
    {
     "data": {
      "text/plain": [
       "132398.91735953515"
      ]
     },
     "execution_count": 186,
     "metadata": {},
     "output_type": "execute_result"
    }
   ],
   "source": [
    "# let us move forwward with 6 PCs\n",
    "pcs = 6\n",
    "X_train, X_test , y_train, y_test = train_test_split(X, y, test_size=0.66)\n",
    "\n",
    "pca2 = PCA()\n",
    "# scale the data\n",
    "X_reduced_train = pca2.fit_transform(scale(X_train))\n",
    "X_reduced_test = pca2.transform(scale(X_test))[:,:pcs]\n",
    "# train regression model on training data \n",
    "regr = linear_model.LinearRegression()\n",
    "regr.fit(X_reduced_train[:,:6], y_train)\n",
    "# prediction with test data\n",
    "pred = regr.predict(X_reduced_test)\n",
    "mean_squared_error(y_test, pred)"
   ]
  },
  {
   "cell_type": "code",
   "execution_count": 187,
   "metadata": {
    "collapsed": true
   },
   "outputs": [
    {
     "data": {
      "text/plain": [
       "array([ 38.31423957,  60.15531541,  70.8416746 ,  79.03419435,\n",
       "        84.29027516,  88.63477938,  92.26288766,  94.96304322,\n",
       "        96.28269124,  97.25541298,  97.97775424,  98.64870031,\n",
       "        99.15178693,  99.4730334 ,  99.74659124,  99.89398793,\n",
       "        99.96815949,  99.99375108, 100.        ])"
      ]
     },
     "execution_count": 187,
     "metadata": {},
     "output_type": "execute_result"
    }
   ],
   "source": [
    "\"\"\"\n",
    "We'll do a little math to get the amount of variance explained by adding each consecutive principal component. \n",
    "We can think of this as the amount of information(variance) about the data(X) or the response that is \n",
    "captured using $M$ principal components. \n",
    "For example, setting $M = 1$ only captures 38.31% of all the variance, or information, in the data.\n",
    "\"\"\"\n",
    "np.cumsum(pca.explained_variance_ratio_) * 100"
   ]
  },
  {
   "cell_type": "markdown",
   "metadata": {},
   "source": [
    "### Partial Least Squares\n",
    "#### Scikit-learn has function PLSRegression for partial least squares regression. But, we still need to write a few line of codes to do the cross validation. The logic is same as before. "
   ]
  },
  {
   "cell_type": "code",
   "execution_count": 188,
   "metadata": {
    "collapsed": true
   },
   "outputs": [
    {
     "data": {
      "text/plain": [
       "135884.9331559714"
      ]
     },
     "execution_count": 188,
     "metadata": {},
     "output_type": "execute_result"
    }
   ],
   "source": [
    "X_train, X_test , y_train, y_test = train_test_split(X, y, test_size=0.66)\n",
    "pls = PLSRegression(n_components=2)\n",
    "pls.fit(scale(X_train), y_train)\n",
    "\n",
    "mean_squared_error(y_test, pls.predict(scale(X_test)))"
   ]
  },
  {
   "cell_type": "code",
   "execution_count": 189,
   "metadata": {},
   "outputs": [],
   "source": [
    "# End of Chapter 6"
   ]
  }
 ],
 "metadata": {
  "anaconda-cloud": {},
  "kernelspec": {
   "display_name": "Python 3.10.4 ('jupyter')",
   "language": "python",
   "name": "python3"
  },
  "language_info": {
   "codemirror_mode": {
    "name": "ipython",
    "version": 3
   },
   "file_extension": ".py",
   "mimetype": "text/x-python",
   "name": "python",
   "nbconvert_exporter": "python",
   "pygments_lexer": "ipython3",
   "version": "3.10.4"
  },
  "vscode": {
   "interpreter": {
    "hash": "092633841fae5a453d59f3730329b400a8541b45bc6f2e0a3e6c2e0778ee7c3a"
   }
  }
 },
 "nbformat": 4,
 "nbformat_minor": 1
}

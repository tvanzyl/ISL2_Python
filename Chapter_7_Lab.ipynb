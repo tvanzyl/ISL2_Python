{
 "cells": [
  {
   "cell_type": "markdown",
   "metadata": {},
   "source": [
    "# 7.8 Lab: Non-linear Modeling "
   ]
  },
  {
   "cell_type": "code",
   "execution_count": 1,
   "metadata": {},
   "outputs": [],
   "source": [
    "import warnings\n",
    "warnings.filterwarnings('ignore')"
   ]
  },
  {
   "cell_type": "code",
   "execution_count": 2,
   "metadata": {},
   "outputs": [],
   "source": [
    "import numpy as np\n",
    "import matplotlib.pyplot as plt\n",
    "import scipy\n",
    "import pandas as pd \n",
    "from sklearn.linear_model import LinearRegression\n",
    "from sklearn.metrics import mean_squared_error, r2_score\n",
    "from sklearn.preprocessing import PolynomialFeatures\n",
    "import statsmodels.api as sm\n",
    "from patsy import dmatrix\n",
    "\n",
    "%matplotlib inline\n",
    "import seaborn as sns\n",
    "sns.set_theme()\n",
    "sns.set_style(\"ticks\")"
   ]
  },
  {
   "cell_type": "code",
   "execution_count": 3,
   "metadata": {},
   "outputs": [
    {
     "name": "stdout",
     "output_type": "stream",
     "text": [
      "(3000, 12)\n",
      "   year  age      sex            maritl      race        education  \\\n",
      "0  2006   18  1. Male  1. Never Married  1. White     1. < HS Grad   \n",
      "1  2004   24  1. Male  1. Never Married  1. White  4. College Grad   \n",
      "2  2003   45  1. Male        2. Married  1. White  3. Some College   \n",
      "3  2003   43  1. Male        2. Married  3. Asian  4. College Grad   \n",
      "4  2005   50  1. Male       4. Divorced  1. White       2. HS Grad   \n",
      "\n",
      "               region        jobclass          health health_ins   logwage  \\\n",
      "0  2. Middle Atlantic   1. Industrial       1. <=Good      2. No  4.318063   \n",
      "1  2. Middle Atlantic  2. Information  2. >=Very Good      2. No  4.255273   \n",
      "2  2. Middle Atlantic   1. Industrial       1. <=Good     1. Yes  4.875061   \n",
      "3  2. Middle Atlantic  2. Information  2. >=Very Good     1. Yes  5.041393   \n",
      "4  2. Middle Atlantic  2. Information       1. <=Good     1. Yes  4.318063   \n",
      "\n",
      "         wage  \n",
      "0   75.043154  \n",
      "1   70.476020  \n",
      "2  130.982177  \n",
      "3  154.685293  \n",
      "4   75.043154  \n"
     ]
    }
   ],
   "source": [
    "# in this lab, we will use Wage data. Let us read in the CSV data ans look at a sample of this data.\n",
    "Wage = pd.read_csv('https://raw.githubusercontent.com/tvanzyl/Sharing_ISL_python/master/data/Wage.csv', header=0, na_values='NA')\n",
    "print(Wage.shape)\n",
    "print(Wage.head())"
   ]
  },
  {
   "cell_type": "markdown",
   "metadata": {},
   "source": [
    "## 7.8.1 Polynomial Regression and Step Functions"
   ]
  },
  {
   "cell_type": "code",
   "execution_count": 4,
   "metadata": {},
   "outputs": [
    {
     "name": "stdout",
     "output_type": "stream",
     "text": [
      "[-184.15417976]\n",
      "[[ 0.00000000e+00  2.12455205e+01 -5.63859313e-01  6.81068771e-03\n",
      "  -3.20383038e-05]]\n"
     ]
    }
   ],
   "source": [
    "\"\"\"\n",
    "We will examine how to fit a polynomial regression model on the wage dataset. As all the techniques, \n",
    "we have multiple ways to do this. Here I will use sklearn as we alreadly used statsmodel.api before in Chapter 3. \n",
    "If you are looking for more built-in functions around p-value, significance, confidence intervie, etc., \n",
    "I would recommend to use statsmodel.api. \n",
    "\n",
    "But scikit-learn does not have built error estimates for doing inference. But this problem forces us to \n",
    "think about a more general method to find Confidence Interview (key word: Bootstrap) \n",
    "\n",
    "Numpy also has a nice function to do ploynomial regression: https://www.ritchieng.com/machine-learning-polynomial-regression/\n",
    "\"\"\"\n",
    "\n",
    "n_deg = 4\n",
    "X = Wage.age\n",
    "y = Wage.wage\n",
    "X = X.values.reshape(X.shape[0], 1)\n",
    "y = y.values.reshape(y.shape[0], 1)\n",
    "\n",
    "polynomial_features= PolynomialFeatures(degree=n_deg)\n",
    "X_poly = polynomial_features.fit_transform(X)\n",
    "\n",
    "reg = LinearRegression()\n",
    "reg.fit(X_poly, y)\n",
    "\n",
    "# get coefficients and compare with the numbers \n",
    "print(reg.intercept_)\n",
    "print(reg.coef_)"
   ]
  },
  {
   "cell_type": "code",
   "execution_count": 5,
   "metadata": {},
   "outputs": [
    {
     "data": {
      "image/png": "[encoded data removed]",
      "text/plain": [
       "<Figure size 432x288 with 1 Axes>"
      ]
     },
     "metadata": {},
     "output_type": "display_data"
    }
   ],
   "source": [
    "# we now create a grid of values for age at which we want predictionsm and the call the generic predict() function \n",
    "# generate a sequence of age values spanning the range\n",
    "age_grid = np.arange(Wage.age.min(), Wage.age.max()).reshape(-1,1)\n",
    "\n",
    "# generate test data use PolynomialFeatures and fit_transform\n",
    "X_test = PolynomialFeatures(degree=n_deg).fit_transform(age_grid)\n",
    "\n",
    "# predict the value of the generated ages\n",
    "y_pred = reg.predict(X_test)\n",
    "\n",
    "# creating plots\n",
    "plt.plot(age_grid, y_pred, color='red')\n",
    "plt.show()"
   ]
  },
  {
   "cell_type": "code",
   "execution_count": 6,
   "metadata": {},
   "outputs": [],
   "source": [
    "\"\"\"\n",
    "Next we need to decide the order of the polynomial.\n",
    "In the book, the authors did this by using hypothesis testing.  ANOVA using F-test was explanied. \n",
    "In order to use the ANOVA function, two models $M_1$ and $M_2$ must be nested model: \n",
    "the predictors in $M_1$ must be a subset of the predictors in $M_2$. \n",
    "statsmodel.api has a nice built-in function to do that. \n",
    "\n",
    "As an alternative, we could choose the polynomial degree using cross-validation, as discussed in before. \n",
    "Actually, the cross-validation approach is more commonly used in practice. \n",
    "\"\"\"\n",
    "\n",
    "X1 = PolynomialFeatures(1).fit_transform(X)\n",
    "X2 = PolynomialFeatures(2).fit_transform(X)\n",
    "X3 = PolynomialFeatures(3).fit_transform(X)\n",
    "X4 = PolynomialFeatures(4).fit_transform(X)\n",
    "X5 = PolynomialFeatures(5).fit_transform(X)\n",
    "fit1 = sm.GLS(y, X1).fit()\n",
    "fit2 = sm.GLS(y, X2).fit()\n",
    "fit3 = sm.GLS(y, X3).fit()\n",
    "fit4 = sm.GLS(y, X4).fit()\n",
    "fit5 = sm.GLS(y, X5).fit()"
   ]
  },
  {
   "cell_type": "code",
   "execution_count": 7,
   "metadata": {},
   "outputs": [
    {
     "name": "stdout",
     "output_type": "stream",
     "text": [
      "   df_resid           ssr  df_diff        ss_diff           F        Pr(>F)\n",
      "0    2998.0  5.022216e+06      0.0            NaN         NaN           NaN\n",
      "1    2997.0  4.793430e+06      1.0  228786.010128  143.593107  2.363850e-32\n",
      "2    2996.0  4.777674e+06      1.0   15755.693664    9.888756  1.679202e-03\n",
      "3    2995.0  4.771604e+06      1.0    6070.152124    3.809813  5.104620e-02\n",
      "4    2994.0  4.770322e+06      1.0    1282.563017    0.804976  3.696820e-01\n"
     ]
    },
    {
     "data": {
      "text/plain": [
       "'\\nThe above table, we fit five different models and sequentially compare the simpler model to the more complex model.\\nThe summary above shows the quadratic model fit2 is significantly better than fit1 at p value of $2.36*10^{-32}$.\\nSimilarly, the cubic model is significnatly better than the quadratic model ($p = 1.68 * 10^{-3}$).\\nThe p-value comparing the cubic and degree-4 polynomials, fit3 and fit4, is approximately 0.05 \\nwhile the degree-5 polynomial fit5 seems unnecessary because its p-value is 0.37. \\nHence, either a cubic or a quartic polynomial appear to provide a reasonable fit to the data, \\nbut lower- or higher-order models are not justified.\\n'"
      ]
     },
     "execution_count": 7,
     "metadata": {},
     "output_type": "execute_result"
    }
   ],
   "source": [
    "print(sm.stats.anova_lm(fit1, fit2, fit3, fit4, fit5, type=1))\n",
    "\n",
    "\"\"\"\n",
    "The above table, we fit five different models and sequentially compare the simpler model to the more complex model.\n",
    "The summary above shows the quadratic model fit2 is significantly better than fit1 at p value of $2.36*10^{-32}$.\n",
    "Similarly, the cubic model is significnatly better than the quadratic model ($p = 1.68 * 10^{-3}$).\n",
    "The p-value comparing the cubic and degree-4 polynomials, fit3 and fit4, is approximately 0.05 \n",
    "while the degree-5 polynomial fit5 seems unnecessary because its p-value is 0.37. \n",
    "Hence, either a cubic or a quartic polynomial appear to provide a reasonable fit to the data, \n",
    "but lower- or higher-order models are not justified.\n",
    "\"\"\""
   ]
  },
  {
   "cell_type": "code",
   "execution_count": 8,
   "metadata": {},
   "outputs": [
    {
     "name": "stdout",
     "output_type": "stream",
     "text": [
      "                 Generalized Linear Model Regression Results                  \n",
      "==============================================================================\n",
      "Dep. Variable:                      y   No. Observations:                 3000\n",
      "Model:                            GLM   Df Residuals:                     2995\n",
      "Model Family:                Binomial   Df Model:                            4\n",
      "Link Function:                  Logit   Scale:                          1.0000\n",
      "Method:                          IRLS   Log-Likelihood:                -350.61\n",
      "Date:                Fri, 07 Oct 2022   Deviance:                       701.22\n",
      "Time:                        08:18:55   Pearson chi2:                 3.70e+03\n",
      "No. Iterations:                    10   Pseudo R-squ. (CS):           0.009724\n",
      "Covariance Type:            nonrobust                                         \n",
      "==============================================================================\n",
      "                 coef    std err          z      P>|z|      [0.025      0.975]\n",
      "------------------------------------------------------------------------------\n",
      "const       -109.5530     47.655     -2.299      0.022    -202.956     -16.150\n",
      "x1             8.9950      4.187      2.148      0.032       0.789      17.201\n",
      "x2            -0.2816      0.135     -2.081      0.037      -0.547      -0.016\n",
      "x3             0.0039      0.002      2.022      0.043       0.000       0.008\n",
      "x4         -1.949e-05   9.91e-06     -1.966      0.049   -3.89e-05   -6.41e-08\n",
      "==============================================================================\n"
     ]
    }
   ],
   "source": [
    "# in the book, the authors also discussed logistic regression and the polynomial terms. \n",
    "# in python, sm.GLM function provided some functions similar to glm() in R.\n",
    "logistic_model = sm.GLM ((y>250), X4, family=sm.families.Binomial())\n",
    "logistic_fit = logistic_model.fit()\n",
    "print(logistic_fit.summary())"
   ]
  },
  {
   "cell_type": "code",
   "execution_count": 9,
   "metadata": {},
   "outputs": [
    {
     "data": {
      "text/plain": [
       "' \\nHere cut() automatically picked the cutpoints at 33.5, 49, and 64.5 years of age. \\nWe could also have specified our own cutpoints directly using the breaks option (set bins into a sequence of scalars, e.g. [0, 10, 20, 40, 100]). \\nNote in the following code, I manually added a constant column and dropped the lowest value bin (17.938, 33.5] dummy variable.\\n'"
      ]
     },
     "execution_count": 9,
     "metadata": {},
     "output_type": "execute_result"
    }
   ],
   "source": [
    "# in python, we could use the pd.cut() function to fit a step function.\n",
    "age_cut, bins = pd.cut(Wage.age, bins=4, retbins=True, right=True)\n",
    "age_cut.value_counts(sort=False)\n",
    "\n",
    "\"\"\" \n",
    "Here cut() automatically picked the cutpoints at 33.5, 49, and 64.5 years of age. \n",
    "We could also have specified our own cutpoints directly using the breaks option (set bins into a sequence of scalars, e.g. [0, 10, 20, 40, 100]). \n",
    "Note in the following code, I manually added a constant column and dropped the lowest value bin (17.938, 33.5] dummy variable.\n",
    "\"\"\""
   ]
  },
  {
   "cell_type": "code",
   "execution_count": 10,
   "metadata": {},
   "outputs": [
    {
     "name": "stdout",
     "output_type": "stream",
     "text": [
      "                 Generalized Linear Model Regression Results                  \n",
      "==============================================================================\n",
      "Dep. Variable:                   wage   No. Observations:                 3000\n",
      "Model:                            GLM   Df Residuals:                     2996\n",
      "Model Family:                Gaussian   Df Model:                            3\n",
      "Link Function:               identity   Scale:                          1634.1\n",
      "Method:                          IRLS   Log-Likelihood:                -15353.\n",
      "Date:                Fri, 07 Oct 2022   Deviance:                   4.8957e+06\n",
      "Time:                        08:18:56   Pearson chi2:                 4.90e+06\n",
      "No. Iterations:                     3   Pseudo R-squ. (CS):            0.06441\n",
      "Covariance Type:            nonrobust                                         \n",
      "================================================================================\n",
      "                   coef    std err          z      P>|z|      [0.025      0.975]\n",
      "--------------------------------------------------------------------------------\n",
      "const           94.1584      1.476     63.790      0.000      91.265      97.051\n",
      "(33.5, 49.0]    24.0535      1.829     13.148      0.000      20.468      27.639\n",
      "(49.0, 64.5]    23.6646      2.068     11.443      0.000      19.611      27.718\n",
      "(64.5, 80.0]     7.6406      4.987      1.532      0.126      -2.135      17.416\n",
      "================================================================================\n"
     ]
    }
   ],
   "source": [
    "age_cut_dummies = pd.get_dummies(age_cut)\n",
    "age_cut_dummies = sm.add_constant(age_cut_dummies)\n",
    "fit_age_cut = sm.GLM(Wage.wage, age_cut_dummies.drop(age_cut_dummies.columns[1], axis=1)).fit()\n",
    "print(fit_age_cut.summary())"
   ]
  },
  {
   "cell_type": "markdown",
   "metadata": {},
   "source": [
    "## 7.8.2 Splines"
   ]
  },
  {
   "cell_type": "code",
   "execution_count": 11,
   "metadata": {},
   "outputs": [],
   "source": [
    "# in order to fit regression splines in python, we use the spatsy library. \n",
    "# from patsy import dmatrix\n",
    "\n",
    "\"\"\" \n",
    "In the content of section 7.4, we saw that regression splines can be fit by constructing an appropriate matrix of basis functions. \n",
    "The bs() function generates the entire matrix of bs() basis functions for splines with the specified set of knots. \n",
    "By default, cubic splines are produced. Here we have prespecified knots at ages 25, 40, and 60. \n",
    "This produces a spline with six basis functions. \n",
    "\"\"\"\n",
    "age_grid = np.arange(Wage.age.min(), Wage.age.max()).reshape(-1,1)\n",
    "spline_basis1 = dmatrix(\"bs(Wage.age, knots=(25,40,60), degree=3, include_intercept=False)\", {\"Wage.age\": Wage.age}, return_type='dataframe')"
   ]
  },
  {
   "cell_type": "code",
   "execution_count": 12,
   "metadata": {},
   "outputs": [
    {
     "data": {
      "text/html": [
       "<table class=\"simpletable\">\n",
       "<caption>Generalized Linear Model Regression Results</caption>\n",
       "<tr>\n",
       "  <th>Dep. Variable:</th>         <td>wage</td>       <th>  No. Observations:  </th>   <td>  3000</td>  \n",
       "</tr>\n",
       "<tr>\n",
       "  <th>Model:</th>                  <td>GLM</td>       <th>  Df Residuals:      </th>   <td>  2993</td>  \n",
       "</tr>\n",
       "<tr>\n",
       "  <th>Model Family:</th>        <td>Gaussian</td>     <th>  Df Model:          </th>   <td>     6</td>  \n",
       "</tr>\n",
       "<tr>\n",
       "  <th>Link Function:</th>       <td>identity</td>     <th>  Scale:             </th>  <td>  1594.0</td> \n",
       "</tr>\n",
       "<tr>\n",
       "  <th>Method:</th>                <td>IRLS</td>       <th>  Log-Likelihood:    </th>  <td> -15314.</td> \n",
       "</tr>\n",
       "<tr>\n",
       "  <th>Date:</th>            <td>Fri, 07 Oct 2022</td> <th>  Deviance:          </th> <td>4.7708e+06</td>\n",
       "</tr>\n",
       "<tr>\n",
       "  <th>Time:</th>                <td>08:18:56</td>     <th>  Pearson chi2:      </th>  <td>4.77e+06</td> \n",
       "</tr>\n",
       "<tr>\n",
       "  <th>No. Iterations:</th>          <td>3</td>        <th>  Pseudo R-squ. (CS):</th>   <td>0.09006</td> \n",
       "</tr>\n",
       "<tr>\n",
       "  <th>Covariance Type:</th>     <td>nonrobust</td>    <th>                     </th>      <td> </td>    \n",
       "</tr>\n",
       "</table>\n",
       "<table class=\"simpletable\">\n",
       "<tr>\n",
       "                                     <td></td>                                       <th>coef</th>     <th>std err</th>      <th>z</th>      <th>P>|z|</th>  <th>[0.025</th>    <th>0.975]</th>  \n",
       "</tr>\n",
       "<tr>\n",
       "  <th>Intercept</th>                                                              <td>   60.4937</td> <td>    9.460</td> <td>    6.394</td> <td> 0.000</td> <td>   41.952</td> <td>   79.036</td>\n",
       "</tr>\n",
       "<tr>\n",
       "  <th>bs(Wage.age, knots=(25, 40, 60), degree=3, include_intercept=False)[0]</th> <td>    3.9805</td> <td>   12.538</td> <td>    0.317</td> <td> 0.751</td> <td>  -20.593</td> <td>   28.554</td>\n",
       "</tr>\n",
       "<tr>\n",
       "  <th>bs(Wage.age, knots=(25, 40, 60), degree=3, include_intercept=False)[1]</th> <td>   44.6310</td> <td>    9.626</td> <td>    4.636</td> <td> 0.000</td> <td>   25.764</td> <td>   63.498</td>\n",
       "</tr>\n",
       "<tr>\n",
       "  <th>bs(Wage.age, knots=(25, 40, 60), degree=3, include_intercept=False)[2]</th> <td>   62.8388</td> <td>   10.755</td> <td>    5.843</td> <td> 0.000</td> <td>   41.759</td> <td>   83.919</td>\n",
       "</tr>\n",
       "<tr>\n",
       "  <th>bs(Wage.age, knots=(25, 40, 60), degree=3, include_intercept=False)[3]</th> <td>   55.9908</td> <td>   10.706</td> <td>    5.230</td> <td> 0.000</td> <td>   35.007</td> <td>   76.975</td>\n",
       "</tr>\n",
       "<tr>\n",
       "  <th>bs(Wage.age, knots=(25, 40, 60), degree=3, include_intercept=False)[4]</th> <td>   50.6881</td> <td>   14.402</td> <td>    3.520</td> <td> 0.000</td> <td>   22.461</td> <td>   78.915</td>\n",
       "</tr>\n",
       "<tr>\n",
       "  <th>bs(Wage.age, knots=(25, 40, 60), degree=3, include_intercept=False)[5]</th> <td>   16.6061</td> <td>   19.126</td> <td>    0.868</td> <td> 0.385</td> <td>  -20.881</td> <td>   54.093</td>\n",
       "</tr>\n",
       "</table>"
      ],
      "text/plain": [
       "<class 'statsmodels.iolib.summary.Summary'>\n",
       "\"\"\"\n",
       "                 Generalized Linear Model Regression Results                  \n",
       "==============================================================================\n",
       "Dep. Variable:                   wage   No. Observations:                 3000\n",
       "Model:                            GLM   Df Residuals:                     2993\n",
       "Model Family:                Gaussian   Df Model:                            6\n",
       "Link Function:               identity   Scale:                          1594.0\n",
       "Method:                          IRLS   Log-Likelihood:                -15314.\n",
       "Date:                Fri, 07 Oct 2022   Deviance:                   4.7708e+06\n",
       "Time:                        08:18:56   Pearson chi2:                 4.77e+06\n",
       "No. Iterations:                     3   Pseudo R-squ. (CS):            0.09006\n",
       "Covariance Type:            nonrobust                                         \n",
       "==========================================================================================================================================\n",
       "                                                                             coef    std err          z      P>|z|      [0.025      0.975]\n",
       "------------------------------------------------------------------------------------------------------------------------------------------\n",
       "Intercept                                                                 60.4937      9.460      6.394      0.000      41.952      79.036\n",
       "bs(Wage.age, knots=(25, 40, 60), degree=3, include_intercept=False)[0]     3.9805     12.538      0.317      0.751     -20.593      28.554\n",
       "bs(Wage.age, knots=(25, 40, 60), degree=3, include_intercept=False)[1]    44.6310      9.626      4.636      0.000      25.764      63.498\n",
       "bs(Wage.age, knots=(25, 40, 60), degree=3, include_intercept=False)[2]    62.8388     10.755      5.843      0.000      41.759      83.919\n",
       "bs(Wage.age, knots=(25, 40, 60), degree=3, include_intercept=False)[3]    55.9908     10.706      5.230      0.000      35.007      76.975\n",
       "bs(Wage.age, knots=(25, 40, 60), degree=3, include_intercept=False)[4]    50.6881     14.402      3.520      0.000      22.461      78.915\n",
       "bs(Wage.age, knots=(25, 40, 60), degree=3, include_intercept=False)[5]    16.6061     19.126      0.868      0.385     -20.881      54.093\n",
       "==========================================================================================================================================\n",
       "\"\"\""
      ]
     },
     "execution_count": 12,
     "metadata": {},
     "output_type": "execute_result"
    }
   ],
   "source": [
    "# now we can fit the model using the spline basis functions\n",
    "spline_fit1 = sm.GLM(Wage.wage, spline_basis1).fit()\n",
    "spline_fit1.summary()"
   ]
  },
  {
   "cell_type": "code",
   "execution_count": 13,
   "metadata": {},
   "outputs": [
    {
     "data": {
      "text/html": [
       "<table class=\"simpletable\">\n",
       "<caption>Generalized Linear Model Regression Results</caption>\n",
       "<tr>\n",
       "  <th>Dep. Variable:</th>         <td>wage</td>       <th>  No. Observations:  </th>   <td>  3000</td>  \n",
       "</tr>\n",
       "<tr>\n",
       "  <th>Model:</th>                  <td>GLM</td>       <th>  Df Residuals:      </th>   <td>  2993</td>  \n",
       "</tr>\n",
       "<tr>\n",
       "  <th>Model Family:</th>        <td>Gaussian</td>     <th>  Df Model:          </th>   <td>     6</td>  \n",
       "</tr>\n",
       "<tr>\n",
       "  <th>Link Function:</th>       <td>identity</td>     <th>  Scale:             </th>  <td>  1592.5</td> \n",
       "</tr>\n",
       "<tr>\n",
       "  <th>Method:</th>                <td>IRLS</td>       <th>  Log-Likelihood:    </th>  <td> -15313.</td> \n",
       "</tr>\n",
       "<tr>\n",
       "  <th>Date:</th>            <td>Fri, 07 Oct 2022</td> <th>  Deviance:          </th> <td>4.7662e+06</td>\n",
       "</tr>\n",
       "<tr>\n",
       "  <th>Time:</th>                <td>08:18:56</td>     <th>  Pearson chi2:      </th>  <td>4.77e+06</td> \n",
       "</tr>\n",
       "<tr>\n",
       "  <th>No. Iterations:</th>          <td>3</td>        <th>  Pseudo R-squ. (CS):</th>   <td>0.09101</td> \n",
       "</tr>\n",
       "<tr>\n",
       "  <th>Covariance Type:</th>     <td>nonrobust</td>    <th>                     </th>      <td> </td>    \n",
       "</tr>\n",
       "</table>\n",
       "<table class=\"simpletable\">\n",
       "<tr>\n",
       "                         <td></td>                           <th>coef</th>     <th>std err</th>      <th>z</th>      <th>P>|z|</th>  <th>[0.025</th>    <th>0.975]</th>  \n",
       "</tr>\n",
       "<tr>\n",
       "  <th>Intercept</th>                                      <td>   56.3138</td> <td>    7.258</td> <td>    7.759</td> <td> 0.000</td> <td>   42.088</td> <td>   70.539</td>\n",
       "</tr>\n",
       "<tr>\n",
       "  <th>bs(Wage.age, df=6, include_intercept=False)[0]</th> <td>   27.8240</td> <td>   12.435</td> <td>    2.238</td> <td> 0.025</td> <td>    3.453</td> <td>   52.195</td>\n",
       "</tr>\n",
       "<tr>\n",
       "  <th>bs(Wage.age, df=6, include_intercept=False)[1]</th> <td>   54.0625</td> <td>    7.127</td> <td>    7.585</td> <td> 0.000</td> <td>   40.093</td> <td>   68.032</td>\n",
       "</tr>\n",
       "<tr>\n",
       "  <th>bs(Wage.age, df=6, include_intercept=False)[2]</th> <td>   65.8284</td> <td>    8.323</td> <td>    7.909</td> <td> 0.000</td> <td>   49.515</td> <td>   82.142</td>\n",
       "</tr>\n",
       "<tr>\n",
       "  <th>bs(Wage.age, df=6, include_intercept=False)[3]</th> <td>   55.8127</td> <td>    8.724</td> <td>    6.398</td> <td> 0.000</td> <td>   38.714</td> <td>   72.911</td>\n",
       "</tr>\n",
       "<tr>\n",
       "  <th>bs(Wage.age, df=6, include_intercept=False)[4]</th> <td>   72.1315</td> <td>   13.745</td> <td>    5.248</td> <td> 0.000</td> <td>   45.192</td> <td>   99.071</td>\n",
       "</tr>\n",
       "<tr>\n",
       "  <th>bs(Wage.age, df=6, include_intercept=False)[5]</th> <td>   14.7509</td> <td>   16.209</td> <td>    0.910</td> <td> 0.363</td> <td>  -17.018</td> <td>   46.519</td>\n",
       "</tr>\n",
       "</table>"
      ],
      "text/plain": [
       "<class 'statsmodels.iolib.summary.Summary'>\n",
       "\"\"\"\n",
       "                 Generalized Linear Model Regression Results                  \n",
       "==============================================================================\n",
       "Dep. Variable:                   wage   No. Observations:                 3000\n",
       "Model:                            GLM   Df Residuals:                     2993\n",
       "Model Family:                Gaussian   Df Model:                            6\n",
       "Link Function:               identity   Scale:                          1592.5\n",
       "Method:                          IRLS   Log-Likelihood:                -15313.\n",
       "Date:                Fri, 07 Oct 2022   Deviance:                   4.7662e+06\n",
       "Time:                        08:18:56   Pearson chi2:                 4.77e+06\n",
       "No. Iterations:                     3   Pseudo R-squ. (CS):            0.09101\n",
       "Covariance Type:            nonrobust                                         \n",
       "==================================================================================================================\n",
       "                                                     coef    std err          z      P>|z|      [0.025      0.975]\n",
       "------------------------------------------------------------------------------------------------------------------\n",
       "Intercept                                         56.3138      7.258      7.759      0.000      42.088      70.539\n",
       "bs(Wage.age, df=6, include_intercept=False)[0]    27.8240     12.435      2.238      0.025       3.453      52.195\n",
       "bs(Wage.age, df=6, include_intercept=False)[1]    54.0625      7.127      7.585      0.000      40.093      68.032\n",
       "bs(Wage.age, df=6, include_intercept=False)[2]    65.8284      8.323      7.909      0.000      49.515      82.142\n",
       "bs(Wage.age, df=6, include_intercept=False)[3]    55.8127      8.724      6.398      0.000      38.714      72.911\n",
       "bs(Wage.age, df=6, include_intercept=False)[4]    72.1315     13.745      5.248      0.000      45.192      99.071\n",
       "bs(Wage.age, df=6, include_intercept=False)[5]    14.7509     16.209      0.910      0.363     -17.018      46.519\n",
       "==================================================================================================================\n",
       "\"\"\""
      ]
     },
     "execution_count": 13,
     "metadata": {},
     "output_type": "execute_result"
    }
   ],
   "source": [
    "# another approach is to fix the degree of freedom and let the code to automatically choose the knots.\n",
    "spline_basis2 = dmatrix(\"bs(Wage.age, df=6, include_intercept=False)\",\n",
    "                        {\"Wage.age\": Wage.age}, return_type='dataframe')\n",
    "spline_fit2 = sm.GLM(Wage.wage, spline_basis2).fit()\n",
    "spline_fit2.summary()"
   ]
  },
  {
   "cell_type": "code",
   "execution_count": 14,
   "metadata": {},
   "outputs": [
    {
     "data": {
      "text/html": [
       "<table class=\"simpletable\">\n",
       "<caption>Generalized Linear Model Regression Results</caption>\n",
       "<tr>\n",
       "  <th>Dep. Variable:</th>         <td>wage</td>       <th>  No. Observations:  </th>   <td>  3000</td>  \n",
       "</tr>\n",
       "<tr>\n",
       "  <th>Model:</th>                  <td>GLM</td>       <th>  Df Residuals:      </th>   <td>  2996</td>  \n",
       "</tr>\n",
       "<tr>\n",
       "  <th>Model Family:</th>        <td>Gaussian</td>     <th>  Df Model:          </th>   <td>     3</td>  \n",
       "</tr>\n",
       "<tr>\n",
       "  <th>Link Function:</th>       <td>identity</td>     <th>  Scale:             </th>  <td>  1596.4</td> \n",
       "</tr>\n",
       "<tr>\n",
       "  <th>Method:</th>                <td>IRLS</td>       <th>  Log-Likelihood:    </th>  <td> -15318.</td> \n",
       "</tr>\n",
       "<tr>\n",
       "  <th>Date:</th>            <td>Fri, 07 Oct 2022</td> <th>  Deviance:          </th> <td>4.7827e+06</td>\n",
       "</tr>\n",
       "<tr>\n",
       "  <th>Time:</th>                <td>08:18:56</td>     <th>  Pearson chi2:      </th>  <td>4.78e+06</td> \n",
       "</tr>\n",
       "<tr>\n",
       "  <th>No. Iterations:</th>          <td>3</td>        <th>  Pseudo R-squ. (CS):</th>   <td>0.08766</td> \n",
       "</tr>\n",
       "<tr>\n",
       "  <th>Covariance Type:</th>     <td>nonrobust</td>    <th>                     </th>      <td> </td>    \n",
       "</tr>\n",
       "</table>\n",
       "<table class=\"simpletable\">\n",
       "<tr>\n",
       "            <td></td>               <th>coef</th>     <th>std err</th>      <th>z</th>      <th>P>|z|</th>  <th>[0.025</th>    <th>0.975]</th>  \n",
       "</tr>\n",
       "<tr>\n",
       "  <th>Intercept</th>             <td>   79.6421</td> <td>    1.773</td> <td>   44.918</td> <td> 0.000</td> <td>   76.167</td> <td>   83.117</td>\n",
       "</tr>\n",
       "<tr>\n",
       "  <th>cr(Wage.age, df=4)[0]</th> <td>  -14.6678</td> <td>    3.436</td> <td>   -4.269</td> <td> 0.000</td> <td>  -21.402</td> <td>   -7.934</td>\n",
       "</tr>\n",
       "<tr>\n",
       "  <th>cr(Wage.age, df=4)[1]</th> <td>   36.8111</td> <td>    1.950</td> <td>   18.881</td> <td> 0.000</td> <td>   32.990</td> <td>   40.632</td>\n",
       "</tr>\n",
       "<tr>\n",
       "  <th>cr(Wage.age, df=4)[2]</th> <td>   35.9349</td> <td>    2.056</td> <td>   17.476</td> <td> 0.000</td> <td>   31.905</td> <td>   39.965</td>\n",
       "</tr>\n",
       "<tr>\n",
       "  <th>cr(Wage.age, df=4)[3]</th> <td>   21.5639</td> <td>    6.989</td> <td>    3.085</td> <td> 0.002</td> <td>    7.865</td> <td>   35.263</td>\n",
       "</tr>\n",
       "</table>"
      ],
      "text/plain": [
       "<class 'statsmodels.iolib.summary.Summary'>\n",
       "\"\"\"\n",
       "                 Generalized Linear Model Regression Results                  \n",
       "==============================================================================\n",
       "Dep. Variable:                   wage   No. Observations:                 3000\n",
       "Model:                            GLM   Df Residuals:                     2996\n",
       "Model Family:                Gaussian   Df Model:                            3\n",
       "Link Function:               identity   Scale:                          1596.4\n",
       "Method:                          IRLS   Log-Likelihood:                -15318.\n",
       "Date:                Fri, 07 Oct 2022   Deviance:                   4.7827e+06\n",
       "Time:                        08:18:56   Pearson chi2:                 4.78e+06\n",
       "No. Iterations:                     3   Pseudo R-squ. (CS):            0.08766\n",
       "Covariance Type:            nonrobust                                         \n",
       "=========================================================================================\n",
       "                            coef    std err          z      P>|z|      [0.025      0.975]\n",
       "-----------------------------------------------------------------------------------------\n",
       "Intercept                79.6421      1.773     44.918      0.000      76.167      83.117\n",
       "cr(Wage.age, df=4)[0]   -14.6678      3.436     -4.269      0.000     -21.402      -7.934\n",
       "cr(Wage.age, df=4)[1]    36.8111      1.950     18.881      0.000      32.990      40.632\n",
       "cr(Wage.age, df=4)[2]    35.9349      2.056     17.476      0.000      31.905      39.965\n",
       "cr(Wage.age, df=4)[3]    21.5639      6.989      3.085      0.002       7.865      35.263\n",
       "=========================================================================================\n",
       "\"\"\""
      ]
     },
     "execution_count": 14,
     "metadata": {},
     "output_type": "execute_result"
    }
   ],
   "source": [
    "# package patsy also has a nice function to do natural spline using cr()\n",
    "spline_basis3 = dmatrix(\"cr(Wage.age, df=4)\", {\"Wage.age\": Wage.age}, return_type='dataframe')\n",
    "spline_fit3 = sm.GLM(Wage.wage, spline_basis3).fit()\n",
    "spline_fit3.summary()"
   ]
  },
  {
   "cell_type": "code",
   "execution_count": 15,
   "metadata": {
    "collapsed": true
   },
   "outputs": [],
   "source": [
    "# finally, let us make some predictions\n",
    "pred1 = spline_fit1.predict(dmatrix(\"bs(age_grid, knots=(25,40,60), include_intercept=False)\",{\"age_grid\": age_grid}, return_type='dataframe'))\n",
    "pred2 = spline_fit2.predict(dmatrix(\"bs(age_grid, df=6, include_intercept=False)\",{\"age_grid\": age_grid}, return_type='dataframe'))\n",
    "pred3 = spline_fit3.predict(dmatrix(\"cr(age_grid, df=4)\", {\"age_grid\": age_grid}, return_type='dataframe'))"
   ]
  },
  {
   "cell_type": "code",
   "execution_count": 16,
   "metadata": {},
   "outputs": [
    {
     "data": {
      "image/png": "[encoded data removed]",
      "text/plain": [
       "<Figure size 432x288 with 1 Axes>"
      ]
     },
     "metadata": {},
     "output_type": "display_data"
    }
   ],
   "source": [
    "# plot the splines and error bands\n",
    "plt.scatter(Wage.age, Wage.wage, facecolor='None', edgecolor='k', alpha=0.1)\n",
    "plt.plot(age_grid, pred1, color='r', label='Cubic spine with knots at [25, 40, 60]')\n",
    "plt.plot(age_grid, pred2, color='g', label='Cubic spine with df=6')\n",
    "plt.plot(age_grid, pred3, color='b', label='Natural spline df=4')\n",
    "plt.legend()\n",
    "plt.xlim(15,85)\n",
    "plt.ylim(0,350)\n",
    "plt.xlabel('age')\n",
    "plt.ylabel('wage')\n",
    "plt.show()"
   ]
  },
  {
   "cell_type": "markdown",
   "metadata": {},
   "source": [
    "## 7.8.3 GAMs"
   ]
  },
  {
   "cell_type": "code",
   "execution_count": 17,
   "metadata": {},
   "outputs": [],
   "source": [
    "# we now fit a GAM to predict wage using natural spline functions of year and age, treating education as a qualitative (i.e. categorical) predictor.\n",
    "age_basis = dmatrix(\"cr(Wage.age, df=5)\", {\"Wage.age\": Wage.age}, return_type='dataframe')\n",
    "year_basis = dmatrix(\"cr(Wage.year, df=4)\", {\"Wage.year\": Wage.year}, return_type='dataframe').drop (['Intercept'], axis = 1)\n",
    "education_dummies = pd.get_dummies(Wage.education)\n",
    "education_dummies = education_dummies.drop([education_dummies.columns[0]], axis = 1)\n",
    "\n",
    "# we concatenate all the predictors\n",
    "x_all = pd.concat([age_basis, year_basis, education_dummies], axis=1)"
   ]
  },
  {
   "cell_type": "code",
   "execution_count": 18,
   "metadata": {
    "collapsed": true
   },
   "outputs": [
    {
     "name": "stdout",
     "output_type": "stream",
     "text": [
      "                            OLS Regression Results                            \n",
      "==============================================================================\n",
      "Dep. Variable:                   wage   R-squared:                       0.292\n",
      "Model:                            OLS   Adj. R-squared:                  0.289\n",
      "Method:                 Least Squares   F-statistic:                     111.8\n",
      "Date:                Fri, 07 Oct 2022   Prob (F-statistic):          2.63e-214\n",
      "Time:                        08:18:58   Log-Likelihood:                -14933.\n",
      "No. Observations:                3000   AIC:                         2.989e+04\n",
      "Df Residuals:                    2988   BIC:                         2.996e+04\n",
      "Df Model:                          11                                         \n",
      "Covariance Type:            nonrobust                                         \n",
      "==========================================================================================\n",
      "                             coef    std err          t      P>|t|      [0.025      0.975]\n",
      "------------------------------------------------------------------------------------------\n",
      "Intercept                 52.0059      2.009     25.892      0.000      48.068      55.944\n",
      "cr(Wage.age, df=5)[0]    -19.1099      3.298     -5.795      0.000     -25.576     -12.644\n",
      "cr(Wage.age, df=5)[1]     18.6087      2.336      7.967      0.000      14.029      23.188\n",
      "cr(Wage.age, df=5)[2]     27.4048      1.986     13.800      0.000      23.511      31.298\n",
      "cr(Wage.age, df=5)[3]     22.3674      2.535      8.822      0.000      17.396      27.339\n",
      "cr(Wage.age, df=5)[4]      2.7349      7.927      0.345      0.730     -12.807      18.277\n",
      "cr(Wage.year, df=4)[0]     8.5675      1.375      6.232      0.000       5.872      11.263\n",
      "cr(Wage.year, df=4)[1]    12.9712      1.269     10.223      0.000      10.483      15.459\n",
      "cr(Wage.year, df=4)[2]    14.5819      1.309     11.139      0.000      12.015      17.149\n",
      "cr(Wage.year, df=4)[3]    15.8853      1.528     10.398      0.000      12.890      18.881\n",
      "2. HS Grad                10.7858      2.431      4.438      0.000       6.020      15.551\n",
      "3. Some College           23.1820      2.560      9.055      0.000      18.162      28.202\n",
      "4. College Grad           37.8598      2.543     14.889      0.000      32.874      42.846\n",
      "5. Advanced Degree        62.3017      2.762     22.556      0.000      56.886      67.717\n",
      "==============================================================================\n",
      "Omnibus:                     1040.588   Durbin-Watson:                   1.977\n",
      "Prob(Omnibus):                  0.000   Jarque-Bera (JB):             5586.798\n",
      "Skew:                           1.557   Prob(JB):                         0.00\n",
      "Kurtosis:                       8.916   Cond. No.                     1.01e+16\n",
      "==============================================================================\n",
      "\n",
      "Notes:\n",
      "[1] Standard Errors assume that the covariance matrix of the errors is correctly specified.\n",
      "[2] The smallest eigenvalue is 5.42e-29. This might indicate that there are\n",
      "strong multicollinearity problems or that the design matrix is singular.\n"
     ]
    },
    {
     "data": {
      "text/plain": [
       "' \\nWe could apply similar analysis procedure to this analysis, \\nsuch as ANOVA, construction of a classification model and visually inspecting the model performance.\\n'"
      ]
     },
     "execution_count": 18,
     "metadata": {},
     "output_type": "execute_result"
    }
   ],
   "source": [
    "# fit a model and print the summary\n",
    "gam1_fit = sm.OLS(Wage.wage, x_all).fit()\n",
    "print(gam1_fit.summary())\n",
    "\n",
    "\"\"\" \n",
    "We could apply similar analysis procedure to this analysis, \n",
    "such as ANOVA, construction of a classification model and visually inspecting the model performance.\n",
    "\"\"\""
   ]
  },
  {
   "cell_type": "code",
   "execution_count": 19,
   "metadata": {},
   "outputs": [],
   "source": [
    "# End of Chapter 7"
   ]
  }
 ],
 "metadata": {
  "kernelspec": {
   "display_name": "Python 3.10.4 ('jupyter')",
   "language": "python",
   "name": "python3"
  },
  "language_info": {
   "codemirror_mode": {
    "name": "ipython",
    "version": 3
   },
   "file_extension": ".py",
   "mimetype": "text/x-python",
   "name": "python",
   "nbconvert_exporter": "python",
   "pygments_lexer": "ipython3",
   "version": "3.10.4"
  },
  "vscode": {
   "interpreter": {
    "hash": "092633841fae5a453d59f3730329b400a8541b45bc6f2e0a3e6c2e0778ee7c3a"
   }
  }
 },
 "nbformat": 4,
 "nbformat_minor": 1
}

{
 "cells": [
  {
   "cell_type": "markdown",
   "metadata": {},
   "source": [
    "# 13.6 Lab: Multiple Testing"
   ]
  },
  {
   "cell_type": "code",
   "execution_count": 1,
   "metadata": {},
   "outputs": [],
   "source": [
    "import warnings\n",
    "warnings.filterwarnings('ignore')"
   ]
  },
  {
   "cell_type": "code",
   "execution_count": 2,
   "metadata": {},
   "outputs": [],
   "source": [
    "import pandas as pd\n",
    "import numpy as np\n",
    "import matplotlib.pyplot as plt\n",
    "from scipy import stats as st\n",
    "from sklearn.metrics import confusion_matrix\n",
    "from statsmodels.sandbox.stats.multicomp import multipletests\n",
    "from statsmodels.stats.multicomp import pairwise_tukeyhsd\n",
    "from statsmodels.sandbox.stats.multicomp import TukeyHSDResults\n",
    "\n",
    "import json\n",
    "\n",
    "%matplotlib inline\n",
    "import seaborn as sns\n",
    "sns.set_theme()\n",
    "sns.set_style(\"ticks\")"
   ]
  },
  {
   "cell_type": "markdown",
   "metadata": {},
   "source": [
    "## 13.6.1 Review of Hypothesis Tests"
   ]
  },
  {
   "cell_type": "code",
   "execution_count": 3,
   "metadata": {},
   "outputs": [],
   "source": [
    "np.random.seed(21)\n",
    "X = np.random.normal(loc=0.0, scale=1.0, size=(10, 100))\n",
    "offset = 0.5\n",
    "X[:,:50] = X[:,:50] + offset"
   ]
  },
  {
   "cell_type": "code",
   "execution_count": 4,
   "metadata": {},
   "outputs": [
    {
     "name": "stdout",
     "output_type": "stream",
     "text": [
      "0.01345182155946442\n"
     ]
    }
   ],
   "source": [
    "# here I used scipy. During google search, I came across bioinfokit module, could explore more. \n",
    "result=st.ttest_1samp(a = X[:, 0], popmean = 0)\n",
    "print(result.pvalue)"
   ]
  },
  {
   "cell_type": "code",
   "execution_count": 5,
   "metadata": {},
   "outputs": [],
   "source": [
    "# let us run the same t-test for all 100 columns\n",
    "p_values = []\n",
    "decision = []\n",
    "for i in range(100):\n",
    "    result=st.ttest_1samp(a = X[:, i], popmean = 0)\n",
    "    p_values.append(result.pvalue)\n",
    "    if result.pvalue < 0.05:\n",
    "        decision.append('Reject H0')\n",
    "    else:\n",
    "        decision.append('Do not reject H0')\n"
   ]
  },
  {
   "cell_type": "code",
   "execution_count": 6,
   "metadata": {},
   "outputs": [
    {
     "name": "stdout",
     "output_type": "stream",
     "text": [
      "[[18 32]\n",
      " [ 2 48]]\n"
     ]
    }
   ],
   "source": [
    "# after computing the p-values, we can use the ground truth to evaluate the performance\n",
    "ground_truth = np.repeat(['Reject H0', 'Do not reject H0'], [50, 50], axis=0)\n",
    "labels = ['Reject H0', 'Do not reject H0']\n",
    "cm = confusion_matrix (ground_truth, decision, labels=labels)\n",
    "print(cm)"
   ]
  },
  {
   "cell_type": "code",
   "execution_count": 7,
   "metadata": {},
   "outputs": [
    {
     "data": {
      "image/png": "[encoded data removed]",
      "text/plain": [
       "<Figure size 432x288 with 2 Axes>"
      ]
     },
     "metadata": {
      "needs_background": "light"
     },
     "output_type": "display_data"
    }
   ],
   "source": [
    "fig = plt.figure()\n",
    "ax = fig.add_subplot(111)\n",
    "cax = ax.matshow(cm)\n",
    "fig.colorbar(cax)\n",
    "ax.set_xticklabels([''] + labels)\n",
    "ax.set_yticklabels([''] + labels)\n",
    "plt.xlabel('One sample t-test')\n",
    "plt.ylabel('Ground truth')\n",
    "plt.show()"
   ]
  },
  {
   "cell_type": "code",
   "execution_count": 8,
   "metadata": {},
   "outputs": [
    {
     "name": "stdout",
     "output_type": "stream",
     "text": [
      "[[50  0]\n",
      " [ 2 48]]\n"
     ]
    }
   ],
   "source": [
    "# we could make the offset larger (from 0.5 to 1) and see the change to the confusion matrix\n",
    "offset = 1\n",
    "X[:,:50] = X[:,:50] + offset\n",
    "\n",
    "p_values = []\n",
    "decision = []\n",
    "for i in range(100):\n",
    "    result=st.ttest_1samp(a = X[:, i], popmean = 0)\n",
    "    p_values.append(result.pvalue)\n",
    "    if result.pvalue < 0.05:\n",
    "        decision.append('Reject H0')\n",
    "    else:\n",
    "        decision.append('Do not reject H0')\n",
    "\n",
    "\n",
    "ground_truth = np.repeat(['Reject H0', 'Do not reject H0'], [50, 50], axis=0)\n",
    "labels = ['Reject H0', 'Do not reject H0']\n",
    "cm = confusion_matrix (ground_truth, decision, labels=labels)\n",
    "print(cm)"
   ]
  },
  {
   "cell_type": "markdown",
   "metadata": {},
   "source": [
    "## 13.6.2 The Family-Wise Error Rate"
   ]
  },
  {
   "cell_type": "code",
   "execution_count": 9,
   "metadata": {},
   "outputs": [],
   "source": [
    "m = range(500)\n",
    "fwe1 = list(map(lambda x:1 - pow(1 - 0.05,x),m))\n",
    "fwe2 = list(map(lambda x:1 - pow(1 - 0.01,x),m))\n",
    "fwe3 = list(map(lambda x:1 - pow(1 - 0.001,x),m))"
   ]
  },
  {
   "cell_type": "code",
   "execution_count": 10,
   "metadata": {},
   "outputs": [
    {
     "data": {
      "image/png": "[encoded data removed]",
      "text/plain": [
       "<Figure size 432x288 with 1 Axes>"
      ]
     },
     "metadata": {
      "needs_background": "light"
     },
     "output_type": "display_data"
    },
    {
     "data": {
      "text/plain": [
       "' \\nWe see that setting α = 0.05 results in a high FWER even for moderate m. \\nWith α = 0.01, we can test no more than five null hypotheses before the FWER exceeds 0.05. \\nOnly for very small values, such as α = 0.001, do we manage to ensure a small FWER, \\nat least for moderately-sized m.\\n\\nOf course, the problem with setting α to such a low value is that we are likely to \\nmake a number of Type II errors: in other words, our power is very low.\\n'"
      ]
     },
     "execution_count": 10,
     "metadata": {},
     "output_type": "execute_result"
    }
   ],
   "source": [
    "plt.plot(m, fwe1, label = \"0.05\")\n",
    "plt.plot(m, fwe2, label = \"0.01\")\n",
    "plt.plot(m, fwe3, label = \"0.001\")\n",
    "plt.xlabel('Number of tests in log scale')\n",
    "plt.ylabel('FWE')\n",
    "plt.xscale(\"log\")\n",
    "plt.legend()\n",
    "plt.show()\n",
    "\n",
    "\"\"\" \n",
    "We see that setting α = 0.05 results in a high FWER even for moderate m. \n",
    "With α = 0.01, we can test no more than five null hypotheses before the FWER exceeds 0.05. \n",
    "Only for very small values, such as α = 0.001, do we manage to ensure a small FWER, \n",
    "at least for moderately-sized m.\n",
    "\n",
    "Of course, the problem with setting α to such a low value is that we are likely to \n",
    "make a number of Type II errors: in other words, our power is very low.\n",
    "\"\"\""
   ]
  },
  {
   "cell_type": "code",
   "execution_count": 11,
   "metadata": {},
   "outputs": [],
   "source": [
    "Fund = pd.read_csv('https://raw.githubusercontent.com/tvanzyl/Sharing_ISL_python/master/data/Fund.csv')"
   ]
  },
  {
   "cell_type": "code",
   "execution_count": 12,
   "metadata": {},
   "outputs": [
    {
     "data": {
      "text/html": [
       "<div>\n",
       "<style scoped>\n",
       "    .dataframe tbody tr th:only-of-type {\n",
       "        vertical-align: middle;\n",
       "    }\n",
       "\n",
       "    .dataframe tbody tr th {\n",
       "        vertical-align: top;\n",
       "    }\n",
       "\n",
       "    .dataframe thead th {\n",
       "        text-align: right;\n",
       "    }\n",
       "</style>\n",
       "<table border=\"1\" class=\"dataframe\">\n",
       "  <thead>\n",
       "    <tr style=\"text-align: right;\">\n",
       "      <th></th>\n",
       "      <th>Manager1</th>\n",
       "      <th>Manager2</th>\n",
       "      <th>Manager3</th>\n",
       "      <th>Manager4</th>\n",
       "      <th>Manager5</th>\n",
       "      <th>Manager6</th>\n",
       "      <th>Manager7</th>\n",
       "      <th>Manager8</th>\n",
       "      <th>Manager9</th>\n",
       "      <th>Manager10</th>\n",
       "      <th>...</th>\n",
       "      <th>Manager1991</th>\n",
       "      <th>Manager1992</th>\n",
       "      <th>Manager1993</th>\n",
       "      <th>Manager1994</th>\n",
       "      <th>Manager1995</th>\n",
       "      <th>Manager1996</th>\n",
       "      <th>Manager1997</th>\n",
       "      <th>Manager1998</th>\n",
       "      <th>Manager1999</th>\n",
       "      <th>Manager2000</th>\n",
       "    </tr>\n",
       "  </thead>\n",
       "  <tbody>\n",
       "    <tr>\n",
       "      <th>0</th>\n",
       "      <td>-3.341992</td>\n",
       "      <td>-4.167469</td>\n",
       "      <td>9.389223</td>\n",
       "      <td>8.417220</td>\n",
       "      <td>0.997863</td>\n",
       "      <td>7.191473</td>\n",
       "      <td>-10.767592</td>\n",
       "      <td>4.072425</td>\n",
       "      <td>1.575264</td>\n",
       "      <td>-0.798505</td>\n",
       "      <td>...</td>\n",
       "      <td>-2.948706</td>\n",
       "      <td>10.350706</td>\n",
       "      <td>-2.855337</td>\n",
       "      <td>-4.431786</td>\n",
       "      <td>0.739544</td>\n",
       "      <td>0.198044</td>\n",
       "      <td>1.752188</td>\n",
       "      <td>-1.534710</td>\n",
       "      <td>-3.359419</td>\n",
       "      <td>6.585654</td>\n",
       "    </tr>\n",
       "    <tr>\n",
       "      <th>1</th>\n",
       "      <td>3.759627</td>\n",
       "      <td>12.525254</td>\n",
       "      <td>3.403366</td>\n",
       "      <td>0.143944</td>\n",
       "      <td>-7.222227</td>\n",
       "      <td>0.067747</td>\n",
       "      <td>-10.737053</td>\n",
       "      <td>-1.138185</td>\n",
       "      <td>-7.166604</td>\n",
       "      <td>4.778522</td>\n",
       "      <td>...</td>\n",
       "      <td>24.003150</td>\n",
       "      <td>-1.966606</td>\n",
       "      <td>-1.609109</td>\n",
       "      <td>1.405325</td>\n",
       "      <td>4.717175</td>\n",
       "      <td>1.540359</td>\n",
       "      <td>-12.218233</td>\n",
       "      <td>-0.073008</td>\n",
       "      <td>-8.547683</td>\n",
       "      <td>-2.382629</td>\n",
       "    </tr>\n",
       "    <tr>\n",
       "      <th>2</th>\n",
       "      <td>12.970091</td>\n",
       "      <td>-2.581061</td>\n",
       "      <td>-0.824734</td>\n",
       "      <td>6.584604</td>\n",
       "      <td>17.050241</td>\n",
       "      <td>1.857130</td>\n",
       "      <td>3.196942</td>\n",
       "      <td>-7.981362</td>\n",
       "      <td>-1.214148</td>\n",
       "      <td>2.338250</td>\n",
       "      <td>...</td>\n",
       "      <td>-2.926914</td>\n",
       "      <td>6.420147</td>\n",
       "      <td>8.946921</td>\n",
       "      <td>3.449013</td>\n",
       "      <td>1.009957</td>\n",
       "      <td>1.481369</td>\n",
       "      <td>14.203314</td>\n",
       "      <td>0.005562</td>\n",
       "      <td>-5.105035</td>\n",
       "      <td>2.292429</td>\n",
       "    </tr>\n",
       "    <tr>\n",
       "      <th>3</th>\n",
       "      <td>-4.874630</td>\n",
       "      <td>7.981743</td>\n",
       "      <td>-4.026743</td>\n",
       "      <td>-4.731946</td>\n",
       "      <td>0.503276</td>\n",
       "      <td>0.740187</td>\n",
       "      <td>-28.969410</td>\n",
       "      <td>4.683751</td>\n",
       "      <td>-0.568840</td>\n",
       "      <td>-4.000547</td>\n",
       "      <td>...</td>\n",
       "      <td>-3.112208</td>\n",
       "      <td>3.173581</td>\n",
       "      <td>-6.017109</td>\n",
       "      <td>-1.984873</td>\n",
       "      <td>1.022525</td>\n",
       "      <td>-2.261927</td>\n",
       "      <td>19.345970</td>\n",
       "      <td>-1.048299</td>\n",
       "      <td>-0.016154</td>\n",
       "      <td>1.196832</td>\n",
       "    </tr>\n",
       "    <tr>\n",
       "      <th>4</th>\n",
       "      <td>2.019279</td>\n",
       "      <td>-5.370236</td>\n",
       "      <td>-4.854669</td>\n",
       "      <td>10.594432</td>\n",
       "      <td>-6.891574</td>\n",
       "      <td>9.877838</td>\n",
       "      <td>1.430033</td>\n",
       "      <td>9.840311</td>\n",
       "      <td>5.311455</td>\n",
       "      <td>18.365094</td>\n",
       "      <td>...</td>\n",
       "      <td>7.173653</td>\n",
       "      <td>-9.157211</td>\n",
       "      <td>7.643125</td>\n",
       "      <td>-1.022339</td>\n",
       "      <td>-1.325865</td>\n",
       "      <td>2.848785</td>\n",
       "      <td>-6.642081</td>\n",
       "      <td>2.488612</td>\n",
       "      <td>0.032060</td>\n",
       "      <td>-7.510032</td>\n",
       "    </tr>\n",
       "  </tbody>\n",
       "</table>\n",
       "<p>5 rows × 2000 columns</p>\n",
       "</div>"
      ],
      "text/plain": [
       "    Manager1   Manager2  Manager3   Manager4   Manager5  Manager6   Manager7  \\\n",
       "0  -3.341992  -4.167469  9.389223   8.417220   0.997863  7.191473 -10.767592   \n",
       "1   3.759627  12.525254  3.403366   0.143944  -7.222227  0.067747 -10.737053   \n",
       "2  12.970091  -2.581061 -0.824734   6.584604  17.050241  1.857130   3.196942   \n",
       "3  -4.874630   7.981743 -4.026743  -4.731946   0.503276  0.740187 -28.969410   \n",
       "4   2.019279  -5.370236 -4.854669  10.594432  -6.891574  9.877838   1.430033   \n",
       "\n",
       "   Manager8  Manager9  Manager10  ...  Manager1991  Manager1992  Manager1993  \\\n",
       "0  4.072425  1.575264  -0.798505  ...    -2.948706    10.350706    -2.855337   \n",
       "1 -1.138185 -7.166604   4.778522  ...    24.003150    -1.966606    -1.609109   \n",
       "2 -7.981362 -1.214148   2.338250  ...    -2.926914     6.420147     8.946921   \n",
       "3  4.683751 -0.568840  -4.000547  ...    -3.112208     3.173581    -6.017109   \n",
       "4  9.840311  5.311455  18.365094  ...     7.173653    -9.157211     7.643125   \n",
       "\n",
       "   Manager1994  Manager1995  Manager1996  Manager1997  Manager1998  \\\n",
       "0    -4.431786     0.739544     0.198044     1.752188    -1.534710   \n",
       "1     1.405325     4.717175     1.540359   -12.218233    -0.073008   \n",
       "2     3.449013     1.009957     1.481369    14.203314     0.005562   \n",
       "3    -1.984873     1.022525    -2.261927    19.345970    -1.048299   \n",
       "4    -1.022339    -1.325865     2.848785    -6.642081     2.488612   \n",
       "\n",
       "   Manager1999  Manager2000  \n",
       "0    -3.359419     6.585654  \n",
       "1    -8.547683    -2.382629  \n",
       "2    -5.105035     2.292429  \n",
       "3    -0.016154     1.196832  \n",
       "4     0.032060    -7.510032  \n",
       "\n",
       "[5 rows x 2000 columns]"
      ]
     },
     "execution_count": 12,
     "metadata": {},
     "output_type": "execute_result"
    }
   ],
   "source": [
    "Fund.head()"
   ]
  },
  {
   "cell_type": "code",
   "execution_count": 13,
   "metadata": {},
   "outputs": [
    {
     "name": "stdout",
     "output_type": "stream",
     "text": [
      "0.0062023554855382655\n"
     ]
    }
   ],
   "source": [
    "# we will do the one sample t test for the first manager\n",
    "result=st.ttest_1samp(a = Fund['Manager1'], popmean = 0)\n",
    "print(result.pvalue)"
   ]
  },
  {
   "cell_type": "code",
   "execution_count": 14,
   "metadata": {},
   "outputs": [
    {
     "name": "stdout",
     "output_type": "stream",
     "text": [
      "[0.0062023554855382655, 0.9182711516514124, 0.011600982682500436, 0.6005396008061651, 0.7557815084668165]\n"
     ]
    },
    {
     "data": {
      "text/plain": [
       "' \\nThe p-values are low for Managers One and Three, and high for the other three managers. \\nHowever, we cannot simply reject H01 and H03, since this would fail to account for \\nthe multiple testing that we have performed. \\nInstead, we will conduct Bonferroni’s method and Holm’s method to control the FWER.\\n'"
      ]
     },
     "execution_count": 14,
     "metadata": {},
     "output_type": "execute_result"
    }
   ],
   "source": [
    "p_values = []\n",
    "manager_number = 5 \n",
    "\n",
    "for i in range(manager_number):\n",
    "    result=st.ttest_1samp(a = Fund.iloc[:,i], popmean = 0)\n",
    "    p_values.append(result.pvalue)\n",
    "\n",
    "print(p_values)\n",
    "\n",
    "\"\"\" \n",
    "The p-values are low for Managers One and Three, and high for the other three managers. \n",
    "However, we cannot simply reject H01 and H03, since this would fail to account for \n",
    "the multiple testing that we have performed. \n",
    "Instead, we will conduct Bonferroni’s method and Holm’s method to control the FWER.\n",
    "\"\"\""
   ]
  },
  {
   "cell_type": "code",
   "execution_count": 15,
   "metadata": {},
   "outputs": [
    {
     "name": "stdout",
     "output_type": "stream",
     "text": [
      "[0.03101178 1.         0.05800491 1.         1.        ]\n",
      "[ True False False False False]\n"
     ]
    }
   ],
   "source": [
    "# we could bonferroni to adjust the raw p-values and take care of family wise error rate\n",
    "reject, p_values_corrected, alphacSidak, alphacBonf = multipletests(p_values, method = 'bonferroni')\n",
    "print(p_values_corrected)\n",
    "\"\"\" \n",
    "Therefore, using Bonferroni’s method, \n",
    "we are able to reject the null hypothesis only for Manager One while controlling the FWER at 0.05.\n",
    "This information is also available in the variable reject.\n",
    "\"\"\"\n",
    "print(reject)\n"
   ]
  },
  {
   "cell_type": "code",
   "execution_count": 16,
   "metadata": {},
   "outputs": [
    {
     "name": "stdout",
     "output_type": "stream",
     "text": [
      "[0.03101178 1.         0.04640393 1.         1.        ]\n",
      "[ True False  True False False]\n"
     ]
    },
    {
     "data": {
      "text/plain": [
       "' \\nBy contrast, using Holm’s method, the adjusted p-values indicate that we can reject the null hypotheses \\nfor Both Managers One and Three at a FWER of 0.05.\\n'"
      ]
     },
     "execution_count": 16,
     "metadata": {},
     "output_type": "execute_result"
    }
   ],
   "source": [
    "# Bonferroni's method is more conservative. We could apply holm's method to control the FWER\n",
    "reject, p_values_corrected, alphacSidak, alphacBonf = multipletests(p_values, method = 'holm')\n",
    "print(p_values_corrected)\n",
    "print(reject)\n",
    "\"\"\" \n",
    "By contrast, using Holm’s method, the adjusted p-values indicate that we can reject the null hypotheses \n",
    "for Both Managers One and Three at a FWER of 0.05.\n",
    "\"\"\""
   ]
  },
  {
   "cell_type": "code",
   "execution_count": 17,
   "metadata": {},
   "outputs": [
    {
     "data": {
      "text/plain": [
       "Manager1       3.000000\n",
       "Manager2      -0.100000\n",
       "Manager3       2.800000\n",
       "Manager4       0.500000\n",
       "Manager5       0.300000\n",
       "                 ...   \n",
       "Manager1996   -0.026088\n",
       "Manager1997    0.911164\n",
       "Manager1998    0.366860\n",
       "Manager1999   -0.389842\n",
       "Manager2000    0.196968\n",
       "Length: 2000, dtype: float64"
      ]
     },
     "execution_count": 17,
     "metadata": {},
     "output_type": "execute_result"
    }
   ],
   "source": [
    "# we can see the average for each manager \n",
    "Fund.mean(axis=0)"
   ]
  },
  {
   "cell_type": "code",
   "execution_count": 18,
   "metadata": {},
   "outputs": [
    {
     "name": "stdout",
     "output_type": "stream",
     "text": [
      "0.038391072368079586\n"
     ]
    }
   ],
   "source": [
    "# next, we could test whether 2 managers are significantly different. For example Manager 1 and Manager 2\n",
    "result=st.ttest_rel(a = Fund['Manager1'], b = Fund['Manager2'])\n",
    "print(result.pvalue)"
   ]
  },
  {
   "cell_type": "code",
   "execution_count": 19,
   "metadata": {},
   "outputs": [
    {
     "name": "stdout",
     "output_type": "stream",
     "text": [
      "Multiple Comparison of Means - Tukey HSD, FWER=0.05\n",
      "===================================================\n",
      "group1 group2 meandiff p-adj   lower  upper  reject\n",
      "---------------------------------------------------\n",
      "     1      2     -3.1 0.1862 -6.9865 0.7865  False\n",
      "     1      3     -0.2 0.9999 -4.0865 3.6865  False\n",
      "     1      4     -2.5 0.3948 -6.3865 1.3865  False\n",
      "     1      5     -2.7 0.3152 -6.5865 1.1865  False\n",
      "     2      3      2.9 0.2453 -0.9865 6.7865  False\n",
      "     2      4      0.6 0.9932 -3.2865 4.4865  False\n",
      "     2      5      0.4 0.9986 -3.4865 4.2865  False\n",
      "     3      4     -2.3  0.482 -6.1865 1.5865  False\n",
      "     3      5     -2.5 0.3948 -6.3865 1.3865  False\n",
      "     4      5     -0.2 0.9999 -4.0865 3.6865  False\n",
      "---------------------------------------------------\n"
     ]
    },
    {
     "data": {
      "text/plain": [
       "' \\nNotice that the p-value for the difference between Managers One and Two has increased from 0.038 to 0.186, \\nso there is no longer clear evidence of a difference between the managers’ performances.\\n\\n'"
      ]
     },
     "execution_count": 19,
     "metadata": {},
     "output_type": "execute_result"
    }
   ],
   "source": [
    "\"\"\" \n",
    "However, we decided to perform this test only after examining the data and \n",
    "noting that Managers One and Two had the highest and lowest mean performances. \n",
    "In a sense, this means that we have implicitly performed a manual selection \n",
    "from the 5(5 − 1)/2 = 10 hypothesis tests, rather than just one. \n",
    "Hence, we use Tukey’s method in order to adjust for multiple testing. \n",
    "\"\"\"\n",
    "returns = Fund.iloc[:, :5].to_numpy().flatten(order='F') # we flatten by col (i.e. order='F')\n",
    "manager = np.repeat(['1', '2', '3', '4', '5'], repeats=Fund.shape[0])\n",
    "\n",
    "# perform Tukey's test\n",
    "tukey = pairwise_tukeyhsd(endog=returns, groups=manager, alpha=0.05)\n",
    "\n",
    "print(tukey)\n",
    "\n",
    "\"\"\" \n",
    "Notice that the p-value for the difference between Managers One and Two has increased from 0.038 to 0.186, \n",
    "so there is no longer clear evidence of a difference between the managers’ performances.\n",
    "\n",
    "\"\"\""
   ]
  },
  {
   "cell_type": "markdown",
   "metadata": {},
   "source": [
    "## 13.6.3 The False Discovery Rate"
   ]
  },
  {
   "cell_type": "code",
   "execution_count": 20,
   "metadata": {},
   "outputs": [
    {
     "name": "stdout",
     "output_type": "stream",
     "text": [
      "[0.0062023554855382655, 0.9182711516514124, 0.011600982682500436, 0.6005396008061651, 0.7557815084668165, 0.0009645725984591884, 0.004651524304645157, 0.0013978025258984373, 0.002604065138148157, 0.0027967384364455815]\n"
     ]
    }
   ],
   "source": [
    "p_values = []\n",
    "manager_number = Fund.shape[1]\n",
    "\n",
    "for i in range(manager_number):\n",
    "    result=st.ttest_1samp(a = Fund.iloc[:,i], popmean = 0)\n",
    "    p_values.append(result.pvalue)\n",
    "\n",
    "print(p_values[0:10])"
   ]
  },
  {
   "cell_type": "code",
   "execution_count": 21,
   "metadata": {},
   "outputs": [
    {
     "name": "stdout",
     "output_type": "stream",
     "text": [
      "[0.08988921 0.991491   0.12211561 0.92342997 0.95603587 0.07513802\n",
      " 0.0767015  0.07513802 0.07513802 0.07513802]\n"
     ]
    },
    {
     "data": {
      "text/plain": [
       "' \\nThe q-values output by the Benjamini-Hochberg procedure can be interpreted as the smallest \\nFDR threshold at which we would reject a particular null hypothesis.\\n\\nFor instance, a q-value of 0.1 indicates that we can reject the corresponding null hypothesis\\nat an FDR of 10% or greater, but that we cannot reject the null hypothesis at an FDR below 10%.\\n'"
      ]
     },
     "execution_count": 21,
     "metadata": {},
     "output_type": "execute_result"
    }
   ],
   "source": [
    "\"\"\" \n",
    "There are far too many managers to consider trying to control the FWER. \n",
    "Instead, we focus on controlling the FDR: that is, the expected fraction of rejected null \n",
    "hypotheses that are actually false positives. \n",
    "\"\"\"\n",
    "\n",
    "reject, p_values_corrected, alphacSidak, alphacBonf = multipletests(p_values, method = 'fdr_bh')\n",
    "print(p_values_corrected[0:10])\n",
    "\n",
    "\"\"\" \n",
    "The q-values output by the Benjamini-Hochberg procedure can be interpreted as the smallest \n",
    "FDR threshold at which we would reject a particular null hypothesis.\n",
    "\n",
    "For instance, a q-value of 0.1 indicates that we can reject the corresponding null hypothesis\n",
    "at an FDR of 10% or greater, but that we cannot reject the null hypothesis at an FDR below 10%.\n",
    "\"\"\""
   ]
  },
  {
   "cell_type": "code",
   "execution_count": 22,
   "metadata": {},
   "outputs": [
    {
     "data": {
      "text/plain": [
       "146"
      ]
     },
     "execution_count": 22,
     "metadata": {},
     "output_type": "execute_result"
    }
   ],
   "source": [
    "# we would find that 146 of the 2,000 fund managers have a p_values_corrected below 0.1\n",
    "sum(p_values_corrected <= .1)"
   ]
  },
  {
   "cell_type": "code",
   "execution_count": 23,
   "metadata": {},
   "outputs": [
    {
     "data": {
      "text/plain": [
       "0"
      ]
     },
     "execution_count": 23,
     "metadata": {},
     "output_type": "execute_result"
    }
   ],
   "source": [
    "# if we use bonferroni method, we will find None\n",
    "sum(np.array(p_values) <= .1/Fund.shape[1])"
   ]
  },
  {
   "cell_type": "markdown",
   "metadata": {},
   "source": [
    "## 13.6.4 A Re-Sampling Approach"
   ]
  },
  {
   "cell_type": "code",
   "execution_count": 39,
   "metadata": {},
   "outputs": [
    {
     "name": "stdout",
     "output_type": "stream",
     "text": [
      "--2022-08-15 13:29:52--  https://raw.githubusercontent.com/tvanzyl/Sharing_ISL_python/master/data/Khan.json\n",
      "Resolving raw.githubusercontent.com (raw.githubusercontent.com)... 185.199.108.133, 185.199.110.133, 185.199.111.133, ...\n",
      "Connecting to raw.githubusercontent.com (raw.githubusercontent.com)|185.199.108.133|:443... connected.\n",
      "HTTP request sent, awaiting response... 200 OK\n",
      "Length: 1783318 (1.7M) [text/plain]\n",
      "Saving to: ‘Khan.json’\n",
      "\n",
      "Khan.json           100%[===================>]   1.70M  --.-KB/s    in 0.01s   \n",
      "\n",
      "Last-modified header missing -- time-stamps turned off.\n",
      "2022-08-15 13:29:52 (149 MB/s) - ‘Khan.json’ saved [1783318/1783318]\n",
      "\n"
     ]
    }
   ],
   "source": [
    "# I saved the gene expression data as a json file, in python we could load the json file using the json library\n",
    "# after reading in the data, we can use the data is same as a dictionary, we can use the keys to access the data\n",
    "!wget https://raw.githubusercontent.com/tvanzyl/Sharing_ISL_python/master/data/Khan.json -N\n",
    "f = open('Khan.json')\n",
    "Khan = json.load(f)\n",
    "\n",
    "X_train = np.array(Khan['xtrain'])\n",
    "y_train = np.array(Khan['ytrain'])\n",
    "X_test = np.array(Khan['xtest'])\n",
    "y_test = np.array(Khan['ytest'])"
   ]
  },
  {
   "cell_type": "code",
   "execution_count": 25,
   "metadata": {},
   "outputs": [
    {
     "name": "stdout",
     "output_type": "stream",
     "text": [
      "[11 29 18 25]\n"
     ]
    }
   ],
   "source": [
    "x = np.concatenate((X_train, X_test), axis=0)\n",
    "y = np.concatenate((y_train, y_test), axis=0)\n",
    "unique, counts = np.unique(y, return_counts=True)\n",
    "print(counts)"
   ]
  },
  {
   "cell_type": "code",
   "execution_count": 26,
   "metadata": {},
   "outputs": [
    {
     "name": "stdout",
     "output_type": "stream",
     "text": [
      "29\n",
      "25\n"
     ]
    }
   ],
   "source": [
    "# x1: take the x for cancer type == 2\n",
    "# x2: take the x for cancer type == 4\n",
    "x1 = x[y==2, :]\n",
    "x2 = x[y==4, :]\n",
    "n1 = x1.shape[0]\n",
    "n2 = x2.shape[0]\n",
    "print(n1)\n",
    "print(n2)"
   ]
  },
  {
   "cell_type": "code",
   "execution_count": 27,
   "metadata": {},
   "outputs": [
    {
     "name": "stdout",
     "output_type": "stream",
     "text": [
      "-2.0936596339807076\n",
      "0.04118396795367345\n"
     ]
    },
    {
     "data": {
      "text/plain": [
       "' \\nThe 2 sample t-test produces a test-statistic of −2.09 and an associated p-value of 0.0412, \\nsuggesting modest evidence of a difference in mean expression levels between the two cancer types.\\n'"
      ]
     },
     "execution_count": 27,
     "metadata": {},
     "output_type": "execute_result"
    }
   ],
   "source": [
    "# performing a standard two-sample t-test on the 11th (gene_index = 10 in python) gene produces a test-statistic \n",
    "gene_index = 10\n",
    "original_result=st.ttest_ind(a=x1[:,gene_index], b=x2[:,gene_index], equal_var=True)\n",
    "print(original_result.statistic)\n",
    "print(original_result.pvalue)\n",
    "\n",
    "\"\"\" \n",
    "The 2 sample t-test produces a test-statistic of −2.09 and an associated p-value of 0.0412, \n",
    "suggesting modest evidence of a difference in mean expression levels between the two cancer types.\n",
    "\"\"\""
   ]
  },
  {
   "cell_type": "code",
   "execution_count": 28,
   "metadata": {},
   "outputs": [],
   "source": [
    "\"\"\" \n",
    "Instead of doing a parameterized 2 sample t-test, we could do a non-parameterized test(i.e. permutation test).\n",
    "we can randomly split the 54 patients (in cancer group 2 and 4) into two groups of 29 and 25 \n",
    "(same as the original split),and compute a new test statistic. \n",
    "Under the null hypothesis of no difference between the groups, this new test statistic should have \n",
    "the same distribution as our original one. \n",
    "Repeating this process many (i.e.10,000) times allows us to approximate the null distribution of the test statistic. \n",
    "We compute the fraction of the time that our observed test statistic exceeds the test statistics obtained \n",
    "via re-sampling.\n",
    "\"\"\"\n",
    "\n",
    "np.random.seed(21)\n",
    "iteration = 10000\n",
    "test_stats = []\n",
    "x_temp = np.concatenate((x1[:,gene_index], x2[:,gene_index]), axis=0)\n",
    "\n",
    "for i in range(iteration):\n",
    "    np.random.shuffle(x_temp)\n",
    "    result_temp = st.ttest_ind(a=x_temp[:n1], b=x_temp[-n2:], equal_var=True)\n",
    "    test_stats.append(result_temp.statistic)"
   ]
  },
  {
   "cell_type": "code",
   "execution_count": 29,
   "metadata": {},
   "outputs": [
    {
     "name": "stdout",
     "output_type": "stream",
     "text": [
      "0.0421\n"
     ]
    },
    {
     "data": {
      "text/plain": [
       "' \\nThis fraction is our re-sampling-based p-value. It is almost identical to the p-value of 0.0412 \\nobtained using the theoretical null distribution.\\n\\nThe reason for this is that the parametrized distribution is a pretty good assumption in this case\\nTo see this, we can plot the histogram of the re-sampled statistics vs. parametrized distribution. \\n\\nWe could try other genes (i.e. gene_index = 876) to see its theoretical and re-sampling null distributions are \\nquite different\\n'"
      ]
     },
     "execution_count": 29,
     "metadata": {},
     "output_type": "execute_result"
    }
   ],
   "source": [
    "print(np.mean((np.abs(test_stats) >= np.abs(original_result.statistic))))\n",
    "\n",
    "\"\"\" \n",
    "This fraction is our re-sampling-based p-value. It is almost identical to the p-value of 0.0412 \n",
    "obtained using the theoretical null distribution.\n",
    "\n",
    "The reason for this is that the parametrized distribution is a pretty good assumption in this case\n",
    "To see this, we can plot the histogram of the re-sampled statistics vs. parametrized distribution. \n",
    "\n",
    "We could try other genes (i.e. gene_index = 876) to see its theoretical and re-sampling null distributions are \n",
    "quite different\n",
    "\"\"\""
   ]
  },
  {
   "cell_type": "code",
   "execution_count": 30,
   "metadata": {},
   "outputs": [
    {
     "data": {
      "image/png": "[encoded data removed]",
      "text/plain": [
       "<Figure size 432x288 with 1 Axes>"
      ]
     },
     "metadata": {
      "needs_background": "light"
     },
     "output_type": "display_data"
    }
   ],
   "source": [
    "# construct the t distribution \n",
    "df = n1 + n2 - 2\n",
    "rv = st.t(df)\n",
    "x = np.linspace(-4.2, 4.2, 1000)\n",
    "\n",
    "\n",
    "plt.hist(test_stats, 100, density=True, facecolor='g', alpha=0.75)\n",
    "plt.plot(x, rv.pdf(x), 'k-', lw=2)\n",
    "plt.xlabel('Null Distribution of Test Statistic')\n",
    "plt.ylabel('Probability')\n",
    "plt.title('Histogram of re-sample stats')\n",
    "plt.xlim(-4.2, 4.2)\n",
    "plt.grid(True)\n",
    "plt.show()"
   ]
  },
  {
   "cell_type": "code",
   "execution_count": 31,
   "metadata": {},
   "outputs": [],
   "source": [
    "# we could do this for 100 and see how FDR works under re-sample \n",
    "# it would be good to use small iterations to make sure the code runs okay \n",
    "num_gene = 100\n",
    "iteration = 500\n",
    "test_stats_matrix = []\n",
    "test_stats_origin = []\n",
    "\n",
    "for j in range(num_gene):\n",
    "    gene_index = j \n",
    "    x_temp = np.concatenate((x1[:,gene_index], x2[:,gene_index]), axis=0)\n",
    "    result_origin = st.ttest_ind(a=x1[:,gene_index], b=x2[:,gene_index], equal_var=True)\n",
    "    test_stats_origin.append(result_origin.statistic)\n",
    "    test_stats = []\n",
    "    for i in range(iteration):\n",
    "        np.random.shuffle(x_temp)\n",
    "        result_temp = st.ttest_ind(a=x_temp[:n1], b=x_temp[-n2:], equal_var=True)\n",
    "        test_stats.append(result_temp.statistic)\n",
    "        \n",
    "    test_stats_matrix.append(test_stats)"
   ]
  },
  {
   "cell_type": "code",
   "execution_count": 32,
   "metadata": {},
   "outputs": [],
   "source": [
    "test_stats_origin_sorted =  np.sort(np.abs(test_stats_origin))"
   ]
  },
  {
   "cell_type": "code",
   "execution_count": 33,
   "metadata": {},
   "outputs": [],
   "source": [
    "Rs = []\n",
    "Vs = []\n",
    "FDRs = []\n",
    "for j in range(num_gene):\n",
    "    R = np.sum(np.abs(test_stats_origin) >= test_stats_origin_sorted[j])\n",
    "    V = np.sum(np.abs(test_stats_matrix) >= test_stats_origin_sorted[j]) / iteration\n",
    "    Rs.append(R)\n",
    "    Vs.append(V)\n",
    "    FDRs.append(V*1.0/R)\n",
    "\n",
    "Rs = np.array(Rs)\n",
    "Vs = np.array(Vs)\n",
    "FDRs = np.array(FDRs) "
   ]
  },
  {
   "cell_type": "code",
   "execution_count": 34,
   "metadata": {},
   "outputs": [
    {
     "name": "stdout",
     "output_type": "stream",
     "text": [
      "10\n",
      "15\n"
     ]
    }
   ],
   "source": [
    "print(np.max(Rs[FDRs <= .1]))\n",
    "print(np.max(Rs[FDRs <= .2]))"
   ]
  },
  {
   "cell_type": "code",
   "execution_count": 35,
   "metadata": {},
   "outputs": [
    {
     "data": {
      "image/png": "[encoded data removed]",
      "text/plain": [
       "<Figure size 432x288 with 1 Axes>"
      ]
     },
     "metadata": {
      "needs_background": "light"
     },
     "output_type": "display_data"
    }
   ],
   "source": [
    "plt.plot(Rs, FDRs, 'k-', lw=2)\n",
    "plt.xlabel('Number of Rejections')\n",
    "plt.ylabel('False Discovery Rate')\n",
    "plt.show()"
   ]
  },
  {
   "cell_type": "code",
   "execution_count": 36,
   "metadata": {},
   "outputs": [],
   "source": [
    "# End of Chapter 13"
   ]
  }
 ],
 "metadata": {
  "kernelspec": {
   "display_name": "Python 3.10.4 ('jupyter')",
   "language": "python",
   "name": "python3"
  },
  "language_info": {
   "codemirror_mode": {
    "name": "ipython",
    "version": 3
   },
   "file_extension": ".py",
   "mimetype": "text/x-python",
   "name": "python",
   "nbconvert_exporter": "python",
   "pygments_lexer": "ipython3",
   "version": "3.10.4"
  },
  "vscode": {
   "interpreter": {
    "hash": "092633841fae5a453d59f3730329b400a8541b45bc6f2e0a3e6c2e0778ee7c3a"
   }
  }
 },
 "nbformat": 4,
 "nbformat_minor": 2
}

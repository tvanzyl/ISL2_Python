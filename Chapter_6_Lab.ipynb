{
 "cells": [
  {
   "cell_type": "markdown",
   "metadata": {},
   "source": [
    "# 6.5 Lab: Linear Models and Regularization Methods"
   ]
  },
  {
   "cell_type": "markdown",
   "metadata": {},
   "source": [
    "## 6.5.1 Subset Selection Methods"
   ]
  },
  {
   "cell_type": "code",
   "execution_count": 1,
   "metadata": {},
   "outputs": [],
   "source": [
    "import warnings\n",
    "warnings.filterwarnings('ignore')"
   ]
  },
  {
   "cell_type": "code",
   "execution_count": 2,
   "metadata": {
    "collapsed": true
   },
   "outputs": [],
   "source": [
    "\"\"\"\n",
    "This notebook contains the code for best subset selection, \n",
    "so this notebook may take longer time to run, for faster run, make\n",
    "max_feature into a smaller number\n",
    "\"\"\"\n",
    "max_feature = 5"
   ]
  },
  {
   "cell_type": "code",
   "execution_count": 3,
   "metadata": {},
   "outputs": [],
   "source": [
    "import numpy as np\n",
    "import matplotlib.pyplot as plt\n",
    "import scipy\n",
    "import pandas as pd \n",
    "import math\n",
    "import random\n",
    "import itertools\n",
    "import statsmodels.api as sm\n",
    "import statsmodels.formula.api as smf\n",
    "from statsmodels.graphics.regressionplots import *\n",
    "from sklearn import datasets, linear_model\n",
    "from sklearn.decomposition import PCA \n",
    "from sklearn.cross_decomposition import PLSRegression, PLSSVD\n",
    "from sklearn.preprocessing import StandardScaler, scale \n",
    "from sklearn import linear_model \n",
    "from sklearn.model_selection import cross_val_predict \n",
    "from sklearn.metrics import mean_squared_error, r2_score\n",
    "from sklearn.model_selection import train_test_split\n",
    "from sklearn.linear_model import Ridge, RidgeCV, Lasso, LassoCV, LinearRegression\n",
    "from sklearn.pipeline import Pipeline\n",
    "\n",
    "from joblib import Parallel, delayed\n",
    "\n",
    "import seaborn as sns\n",
    "sns.set_theme()\n",
    "sns.set_style(\"ticks\")"
   ]
  },
  {
   "cell_type": "code",
   "execution_count": 4,
   "metadata": {
    "collapsed": true
   },
   "outputs": [],
   "source": [
    "# read the data and take a look at the data\n",
    "Hitters = pd.read_csv('https://raw.githubusercontent.com/tvanzyl/Sharing_ISL_python/master/data/Hitters.csv', header=0, na_values='NA')"
   ]
  },
  {
   "cell_type": "markdown",
   "metadata": {},
   "source": [
    "Here we apply the best subset selection approach to the `Hitters` data. We wish to predict a baseball player's `Salary` on the basis of various statistics associated with performance in the previous year.\n",
    "\n",
    "First of all, we note that the `Salary` variable is missing for some of the players.  The `isnull()` function can be used to identify the missing observations. It returns a vector of the same length as the input vector, with a `True` for any elements that are missing, and a `False` for non-missing elements.  The `sum()` function can then be used to count all of the missing elements."
   ]
  },
  {
   "cell_type": "code",
   "execution_count": 5,
   "metadata": {},
   "outputs": [
    {
     "data": {
      "text/html": [
       "<div>\n",
       "<style scoped>\n",
       "    .dataframe tbody tr th:only-of-type {\n",
       "        vertical-align: middle;\n",
       "    }\n",
       "\n",
       "    .dataframe tbody tr th {\n",
       "        vertical-align: top;\n",
       "    }\n",
       "\n",
       "    .dataframe thead th {\n",
       "        text-align: right;\n",
       "    }\n",
       "</style>\n",
       "<table border=\"1\" class=\"dataframe\">\n",
       "  <thead>\n",
       "    <tr style=\"text-align: right;\">\n",
       "      <th></th>\n",
       "      <th>AtBat</th>\n",
       "      <th>Hits</th>\n",
       "      <th>HmRun</th>\n",
       "      <th>Runs</th>\n",
       "      <th>RBI</th>\n",
       "      <th>Walks</th>\n",
       "      <th>Years</th>\n",
       "      <th>CAtBat</th>\n",
       "      <th>CHits</th>\n",
       "      <th>CHmRun</th>\n",
       "      <th>CRuns</th>\n",
       "      <th>CRBI</th>\n",
       "      <th>CWalks</th>\n",
       "      <th>League</th>\n",
       "      <th>Division</th>\n",
       "      <th>PutOuts</th>\n",
       "      <th>Assists</th>\n",
       "      <th>Errors</th>\n",
       "      <th>Salary</th>\n",
       "      <th>NewLeague</th>\n",
       "    </tr>\n",
       "  </thead>\n",
       "  <tbody>\n",
       "    <tr>\n",
       "      <th>count</th>\n",
       "      <td>322.000000</td>\n",
       "      <td>322.000000</td>\n",
       "      <td>322.000000</td>\n",
       "      <td>322.000000</td>\n",
       "      <td>322.000000</td>\n",
       "      <td>322.000000</td>\n",
       "      <td>322.000000</td>\n",
       "      <td>322.00000</td>\n",
       "      <td>322.000000</td>\n",
       "      <td>322.000000</td>\n",
       "      <td>322.000000</td>\n",
       "      <td>322.000000</td>\n",
       "      <td>322.000000</td>\n",
       "      <td>322</td>\n",
       "      <td>322</td>\n",
       "      <td>322.000000</td>\n",
       "      <td>322.000000</td>\n",
       "      <td>322.000000</td>\n",
       "      <td>263.000000</td>\n",
       "      <td>322</td>\n",
       "    </tr>\n",
       "    <tr>\n",
       "      <th>unique</th>\n",
       "      <td>NaN</td>\n",
       "      <td>NaN</td>\n",
       "      <td>NaN</td>\n",
       "      <td>NaN</td>\n",
       "      <td>NaN</td>\n",
       "      <td>NaN</td>\n",
       "      <td>NaN</td>\n",
       "      <td>NaN</td>\n",
       "      <td>NaN</td>\n",
       "      <td>NaN</td>\n",
       "      <td>NaN</td>\n",
       "      <td>NaN</td>\n",
       "      <td>NaN</td>\n",
       "      <td>2</td>\n",
       "      <td>2</td>\n",
       "      <td>NaN</td>\n",
       "      <td>NaN</td>\n",
       "      <td>NaN</td>\n",
       "      <td>NaN</td>\n",
       "      <td>2</td>\n",
       "    </tr>\n",
       "    <tr>\n",
       "      <th>top</th>\n",
       "      <td>NaN</td>\n",
       "      <td>NaN</td>\n",
       "      <td>NaN</td>\n",
       "      <td>NaN</td>\n",
       "      <td>NaN</td>\n",
       "      <td>NaN</td>\n",
       "      <td>NaN</td>\n",
       "      <td>NaN</td>\n",
       "      <td>NaN</td>\n",
       "      <td>NaN</td>\n",
       "      <td>NaN</td>\n",
       "      <td>NaN</td>\n",
       "      <td>NaN</td>\n",
       "      <td>A</td>\n",
       "      <td>W</td>\n",
       "      <td>NaN</td>\n",
       "      <td>NaN</td>\n",
       "      <td>NaN</td>\n",
       "      <td>NaN</td>\n",
       "      <td>A</td>\n",
       "    </tr>\n",
       "    <tr>\n",
       "      <th>freq</th>\n",
       "      <td>NaN</td>\n",
       "      <td>NaN</td>\n",
       "      <td>NaN</td>\n",
       "      <td>NaN</td>\n",
       "      <td>NaN</td>\n",
       "      <td>NaN</td>\n",
       "      <td>NaN</td>\n",
       "      <td>NaN</td>\n",
       "      <td>NaN</td>\n",
       "      <td>NaN</td>\n",
       "      <td>NaN</td>\n",
       "      <td>NaN</td>\n",
       "      <td>NaN</td>\n",
       "      <td>175</td>\n",
       "      <td>165</td>\n",
       "      <td>NaN</td>\n",
       "      <td>NaN</td>\n",
       "      <td>NaN</td>\n",
       "      <td>NaN</td>\n",
       "      <td>176</td>\n",
       "    </tr>\n",
       "    <tr>\n",
       "      <th>mean</th>\n",
       "      <td>380.928571</td>\n",
       "      <td>101.024845</td>\n",
       "      <td>10.770186</td>\n",
       "      <td>50.909938</td>\n",
       "      <td>48.027950</td>\n",
       "      <td>38.742236</td>\n",
       "      <td>7.444099</td>\n",
       "      <td>2648.68323</td>\n",
       "      <td>717.571429</td>\n",
       "      <td>69.490683</td>\n",
       "      <td>358.795031</td>\n",
       "      <td>330.118012</td>\n",
       "      <td>260.239130</td>\n",
       "      <td>NaN</td>\n",
       "      <td>NaN</td>\n",
       "      <td>288.937888</td>\n",
       "      <td>106.913043</td>\n",
       "      <td>8.040373</td>\n",
       "      <td>535.925882</td>\n",
       "      <td>NaN</td>\n",
       "    </tr>\n",
       "    <tr>\n",
       "      <th>std</th>\n",
       "      <td>153.404981</td>\n",
       "      <td>46.454741</td>\n",
       "      <td>8.709037</td>\n",
       "      <td>26.024095</td>\n",
       "      <td>26.166895</td>\n",
       "      <td>21.639327</td>\n",
       "      <td>4.926087</td>\n",
       "      <td>2324.20587</td>\n",
       "      <td>654.472627</td>\n",
       "      <td>86.266061</td>\n",
       "      <td>334.105886</td>\n",
       "      <td>333.219617</td>\n",
       "      <td>267.058085</td>\n",
       "      <td>NaN</td>\n",
       "      <td>NaN</td>\n",
       "      <td>280.704614</td>\n",
       "      <td>136.854876</td>\n",
       "      <td>6.368359</td>\n",
       "      <td>451.118681</td>\n",
       "      <td>NaN</td>\n",
       "    </tr>\n",
       "    <tr>\n",
       "      <th>min</th>\n",
       "      <td>16.000000</td>\n",
       "      <td>1.000000</td>\n",
       "      <td>0.000000</td>\n",
       "      <td>0.000000</td>\n",
       "      <td>0.000000</td>\n",
       "      <td>0.000000</td>\n",
       "      <td>1.000000</td>\n",
       "      <td>19.00000</td>\n",
       "      <td>4.000000</td>\n",
       "      <td>0.000000</td>\n",
       "      <td>1.000000</td>\n",
       "      <td>0.000000</td>\n",
       "      <td>0.000000</td>\n",
       "      <td>NaN</td>\n",
       "      <td>NaN</td>\n",
       "      <td>0.000000</td>\n",
       "      <td>0.000000</td>\n",
       "      <td>0.000000</td>\n",
       "      <td>67.500000</td>\n",
       "      <td>NaN</td>\n",
       "    </tr>\n",
       "    <tr>\n",
       "      <th>25%</th>\n",
       "      <td>255.250000</td>\n",
       "      <td>64.000000</td>\n",
       "      <td>4.000000</td>\n",
       "      <td>30.250000</td>\n",
       "      <td>28.000000</td>\n",
       "      <td>22.000000</td>\n",
       "      <td>4.000000</td>\n",
       "      <td>816.75000</td>\n",
       "      <td>209.000000</td>\n",
       "      <td>14.000000</td>\n",
       "      <td>100.250000</td>\n",
       "      <td>88.750000</td>\n",
       "      <td>67.250000</td>\n",
       "      <td>NaN</td>\n",
       "      <td>NaN</td>\n",
       "      <td>109.250000</td>\n",
       "      <td>7.000000</td>\n",
       "      <td>3.000000</td>\n",
       "      <td>190.000000</td>\n",
       "      <td>NaN</td>\n",
       "    </tr>\n",
       "    <tr>\n",
       "      <th>50%</th>\n",
       "      <td>379.500000</td>\n",
       "      <td>96.000000</td>\n",
       "      <td>8.000000</td>\n",
       "      <td>48.000000</td>\n",
       "      <td>44.000000</td>\n",
       "      <td>35.000000</td>\n",
       "      <td>6.000000</td>\n",
       "      <td>1928.00000</td>\n",
       "      <td>508.000000</td>\n",
       "      <td>37.500000</td>\n",
       "      <td>247.000000</td>\n",
       "      <td>220.500000</td>\n",
       "      <td>170.500000</td>\n",
       "      <td>NaN</td>\n",
       "      <td>NaN</td>\n",
       "      <td>212.000000</td>\n",
       "      <td>39.500000</td>\n",
       "      <td>6.000000</td>\n",
       "      <td>425.000000</td>\n",
       "      <td>NaN</td>\n",
       "    </tr>\n",
       "    <tr>\n",
       "      <th>75%</th>\n",
       "      <td>512.000000</td>\n",
       "      <td>137.000000</td>\n",
       "      <td>16.000000</td>\n",
       "      <td>69.000000</td>\n",
       "      <td>64.750000</td>\n",
       "      <td>53.000000</td>\n",
       "      <td>11.000000</td>\n",
       "      <td>3924.25000</td>\n",
       "      <td>1059.250000</td>\n",
       "      <td>90.000000</td>\n",
       "      <td>526.250000</td>\n",
       "      <td>426.250000</td>\n",
       "      <td>339.250000</td>\n",
       "      <td>NaN</td>\n",
       "      <td>NaN</td>\n",
       "      <td>325.000000</td>\n",
       "      <td>166.000000</td>\n",
       "      <td>11.000000</td>\n",
       "      <td>750.000000</td>\n",
       "      <td>NaN</td>\n",
       "    </tr>\n",
       "    <tr>\n",
       "      <th>max</th>\n",
       "      <td>687.000000</td>\n",
       "      <td>238.000000</td>\n",
       "      <td>40.000000</td>\n",
       "      <td>130.000000</td>\n",
       "      <td>121.000000</td>\n",
       "      <td>105.000000</td>\n",
       "      <td>24.000000</td>\n",
       "      <td>14053.00000</td>\n",
       "      <td>4256.000000</td>\n",
       "      <td>548.000000</td>\n",
       "      <td>2165.000000</td>\n",
       "      <td>1659.000000</td>\n",
       "      <td>1566.000000</td>\n",
       "      <td>NaN</td>\n",
       "      <td>NaN</td>\n",
       "      <td>1378.000000</td>\n",
       "      <td>492.000000</td>\n",
       "      <td>32.000000</td>\n",
       "      <td>2460.000000</td>\n",
       "      <td>NaN</td>\n",
       "    </tr>\n",
       "  </tbody>\n",
       "</table>\n",
       "</div>"
      ],
      "text/plain": [
       "             AtBat        Hits       HmRun        Runs         RBI  \\\n",
       "count   322.000000  322.000000  322.000000  322.000000  322.000000   \n",
       "unique         NaN         NaN         NaN         NaN         NaN   \n",
       "top            NaN         NaN         NaN         NaN         NaN   \n",
       "freq           NaN         NaN         NaN         NaN         NaN   \n",
       "mean    380.928571  101.024845   10.770186   50.909938   48.027950   \n",
       "std     153.404981   46.454741    8.709037   26.024095   26.166895   \n",
       "min      16.000000    1.000000    0.000000    0.000000    0.000000   \n",
       "25%     255.250000   64.000000    4.000000   30.250000   28.000000   \n",
       "50%     379.500000   96.000000    8.000000   48.000000   44.000000   \n",
       "75%     512.000000  137.000000   16.000000   69.000000   64.750000   \n",
       "max     687.000000  238.000000   40.000000  130.000000  121.000000   \n",
       "\n",
       "             Walks       Years       CAtBat        CHits      CHmRun  \\\n",
       "count   322.000000  322.000000    322.00000   322.000000  322.000000   \n",
       "unique         NaN         NaN          NaN          NaN         NaN   \n",
       "top            NaN         NaN          NaN          NaN         NaN   \n",
       "freq           NaN         NaN          NaN          NaN         NaN   \n",
       "mean     38.742236    7.444099   2648.68323   717.571429   69.490683   \n",
       "std      21.639327    4.926087   2324.20587   654.472627   86.266061   \n",
       "min       0.000000    1.000000     19.00000     4.000000    0.000000   \n",
       "25%      22.000000    4.000000    816.75000   209.000000   14.000000   \n",
       "50%      35.000000    6.000000   1928.00000   508.000000   37.500000   \n",
       "75%      53.000000   11.000000   3924.25000  1059.250000   90.000000   \n",
       "max     105.000000   24.000000  14053.00000  4256.000000  548.000000   \n",
       "\n",
       "              CRuns         CRBI       CWalks League Division      PutOuts  \\\n",
       "count    322.000000   322.000000   322.000000    322      322   322.000000   \n",
       "unique          NaN          NaN          NaN      2        2          NaN   \n",
       "top             NaN          NaN          NaN      A        W          NaN   \n",
       "freq            NaN          NaN          NaN    175      165          NaN   \n",
       "mean     358.795031   330.118012   260.239130    NaN      NaN   288.937888   \n",
       "std      334.105886   333.219617   267.058085    NaN      NaN   280.704614   \n",
       "min        1.000000     0.000000     0.000000    NaN      NaN     0.000000   \n",
       "25%      100.250000    88.750000    67.250000    NaN      NaN   109.250000   \n",
       "50%      247.000000   220.500000   170.500000    NaN      NaN   212.000000   \n",
       "75%      526.250000   426.250000   339.250000    NaN      NaN   325.000000   \n",
       "max     2165.000000  1659.000000  1566.000000    NaN      NaN  1378.000000   \n",
       "\n",
       "           Assists      Errors       Salary NewLeague  \n",
       "count   322.000000  322.000000   263.000000       322  \n",
       "unique         NaN         NaN          NaN         2  \n",
       "top            NaN         NaN          NaN         A  \n",
       "freq           NaN         NaN          NaN       176  \n",
       "mean    106.913043    8.040373   535.925882       NaN  \n",
       "std     136.854876    6.368359   451.118681       NaN  \n",
       "min       0.000000    0.000000    67.500000       NaN  \n",
       "25%       7.000000    3.000000   190.000000       NaN  \n",
       "50%      39.500000    6.000000   425.000000       NaN  \n",
       "75%     166.000000   11.000000   750.000000       NaN  \n",
       "max     492.000000   32.000000  2460.000000       NaN  "
      ]
     },
     "execution_count": 5,
     "metadata": {},
     "output_type": "execute_result"
    }
   ],
   "source": [
    "Hitters.describe(include='all')"
   ]
  },
  {
   "cell_type": "markdown",
   "metadata": {},
   "source": [
    "Hence we see that `Salary` is missing for $59$ players. The `dropna()` function removes all of the rows that have missing values in any variable."
   ]
  },
  {
   "cell_type": "code",
   "execution_count": 6,
   "metadata": {
    "collapsed": true
   },
   "outputs": [
    {
     "name": "stdout",
     "output_type": "stream",
     "text": [
      "59\n",
      "0\n"
     ]
    }
   ],
   "source": [
    "# clean the data a bit to remove NAs\n",
    "print(Hitters['Salary'].isnull().sum()) # number of NAs in Salary column'\n",
    "Hitters = Hitters.dropna().reset_index(drop=True) # drop the observation with NA values and reindex the obs from 0\n",
    "print(Hitters['Salary'].isnull().sum())"
   ]
  },
  {
   "cell_type": "markdown",
   "metadata": {},
   "source": [
    "take care of the features \n",
    "1. change category into dummy variables \n",
    "2. Choose (n-1) dummy variable into the feature set: n is the unique values of each categorical variable."
   ]
  },
  {
   "cell_type": "code",
   "execution_count": 7,
   "metadata": {
    "collapsed": true
   },
   "outputs": [
    {
     "name": "stdout",
     "output_type": "stream",
     "text": [
      "   League_A  League_N  Division_E  Division_W  NewLeague_A  NewLeague_N\n",
      "0         0         1           0           1            0            1\n",
      "1         1         0           0           1            1            0\n",
      "2         0         1           1           0            0            1\n",
      "3         0         1           1           0            0            1\n",
      "4         1         0           0           1            1            0\n"
     ]
    }
   ],
   "source": [
    "y = Hitters.Salary  \n",
    "\n",
    "dummies = pd.get_dummies(Hitters[['League', 'Division', 'NewLeague']])\n",
    "print(dummies.head())\n",
    "X_prep = Hitters.drop(['Salary', 'League', 'Division', 'NewLeague'], axis = 1).astype('float64')\n",
    "X = pd.concat([X_prep,  dummies[['League_A', 'Division_E', 'NewLeague_A']]], axis=1)"
   ]
  },
  {
   "cell_type": "markdown",
   "metadata": {},
   "source": [
    "let us get it ready for best subset selection \n",
    "\n",
    "Since in Python there is no well-defined function for best subset selection, \n",
    "we will need to define some functions ourselves.\n",
    "1. Define a function to run on a subset of feature and extract RSS\n",
    "2. Select the best model (models) for a fix number of features"
   ]
  },
  {
   "cell_type": "code",
   "execution_count": 8,
   "metadata": {
    "collapsed": true
   },
   "outputs": [],
   "source": [
    "def getRSS(y, X, feature_list):\n",
    "    model = sm.OLS(y, X[list(feature_list)]).fit()    \n",
    "    return {'Model':model, \n",
    "            \"RSS\":model.ssr, \n",
    "            \"rsq\":model.rsquared, \n",
    "            \"adjr2\":model.rsquared_adj,\n",
    "            \"aic\":model.aic,\n",
    "            \"bic\":model.bic}\n",
    "\n",
    "def bestModel(y, X):\n",
    "    def bestModel_(K):\n",
    "        results = []\n",
    "        for c in itertools.combinations(X.columns, K):\n",
    "            results.append(getRSS(y, X, c))     \n",
    "        model_all =  pd.DataFrame(results)\n",
    "        \n",
    "        best_model = model_all.loc[model_all[\"RSS\"].idxmin()] ## this could be modified to have the top several models\n",
    "        return best_model\n",
    "    return  bestModel_"
   ]
  },
  {
   "cell_type": "code",
   "execution_count": 9,
   "metadata": {
    "collapsed": true
   },
   "outputs": [
    {
     "name": "stdout",
     "output_type": "stream",
     "text": [
      "                                 OLS Regression Results                                \n",
      "=======================================================================================\n",
      "Dep. Variable:                 Salary   R-squared (uncentered):                   0.761\n",
      "Model:                            OLS   Adj. R-squared (uncentered):              0.760\n",
      "Method:                 Least Squares   F-statistic:                              416.7\n",
      "Date:                Mon, 07 Nov 2022   Prob (F-statistic):                    5.80e-82\n",
      "Time:                        15:08:36   Log-Likelihood:                         -1907.6\n",
      "No. Observations:                 263   AIC:                                      3819.\n",
      "Df Residuals:                     261   BIC:                                      3826.\n",
      "Df Model:                           2                                                  \n",
      "Covariance Type:            nonrobust                                                  \n",
      "==============================================================================\n",
      "                 coef    std err          t      P>|t|      [0.025      0.975]\n",
      "------------------------------------------------------------------------------\n",
      "Hits           2.9538      0.261     11.335      0.000       2.441       3.467\n",
      "CRBI           0.6788      0.066     10.295      0.000       0.549       0.809\n",
      "==============================================================================\n",
      "Omnibus:                      117.551   Durbin-Watson:                   1.933\n",
      "Prob(Omnibus):                  0.000   Jarque-Bera (JB):              654.612\n",
      "Skew:                           1.729   Prob(JB):                    7.12e-143\n",
      "Kurtosis:                       9.912   Cond. No.                         5.88\n",
      "==============================================================================\n",
      "\n",
      "Notes:\n",
      "[1] R² is computed without centering (uncentered) since the model does not contain a constant.\n",
      "[2] Standard Errors assume that the covariance matrix of the errors is correctly specified.\n"
     ]
    }
   ],
   "source": [
    "# execute the best model selection \n",
    "models = pd.DataFrame(columns=[\"Model\",\"RSS\",\"rsq\",\"adjr2\",\"aic\",\"bic\"], index=range(1,max_feature+1))\n",
    "\n",
    "models[:] = Parallel(n_jobs=8)(delayed(bestModel(y,X))(i) for i in range(1,max_feature+1))\n",
    "    \n",
    "print(models.loc[2, 'Model'].summary())"
   ]
  },
  {
   "cell_type": "markdown",
   "metadata": {},
   "source": [
    "An asterisk indicates that a given variable is included in the corresponding model.\n",
    "For instance, this output indicates that the best two-variable model contains only `Hits` and `CRBI`.\n",
    "Here we fit up to a 8-variable model."
   ]
  },
  {
   "cell_type": "markdown",
   "metadata": {},
   "source": [
    "The `summary()` function also returns $R^2$, RSS, adjusted $R^2$, $C_p$, and BIC. We can examine these to try to select the *best* overall model."
   ]
  },
  {
   "cell_type": "markdown",
   "metadata": {},
   "source": [
    "For instance, we see that the $R^2$ statistic increases from $32\\,\\%$, when only one variable is included in the model, to almost $55\\,\\%$, when all variables are included. As expected, the $R^2$ statistic increases monotonically as more variables are included."
   ]
  },
  {
   "cell_type": "code",
   "execution_count": 10,
   "metadata": {
    "collapsed": true
   },
   "outputs": [
    {
     "data": {
      "image/png": "[encoded data removed]",
      "text/plain": [
       "<Figure size 576x360 with 2 Axes>"
      ]
     },
     "metadata": {},
     "output_type": "display_data"
    }
   ],
   "source": [
    "fig, (ax1, ax2) = plt.subplots(1,2, figsize=(8,5))\n",
    "ax1.plot(models[\"RSS\"])\n",
    "ax1.set_xlabel('# features')\n",
    "ax1.set_ylabel('RSS')\n",
    "ax2.plot(models[\"adjr2\"])\n",
    "ax2.set_xlabel('# features')\n",
    "ax2.set_ylabel('Adjusted RSq')\n",
    "plt.tight_layout()\n",
    "plt.show()"
   ]
  },
  {
   "cell_type": "markdown",
   "metadata": {},
   "source": [
    "Plotting RSS, adjusted $R^2$, $C_p$, and BIC for all of the models at once will help us decide which model to select."
   ]
  },
  {
   "cell_type": "markdown",
   "metadata": {},
   "source": [
    "In a similar fashion we can plot the AIC and BIC statistics, and indicate the models with the smallest statistic using `which.min()`."
   ]
  },
  {
   "cell_type": "code",
   "execution_count": 11,
   "metadata": {},
   "outputs": [
    {
     "data": {
      "image/png": "[encoded data removed]",
      "text/plain": [
       "<Figure size 576x360 with 2 Axes>"
      ]
     },
     "metadata": {},
     "output_type": "display_data"
    }
   ],
   "source": [
    "fig, (ax1, ax2) = plt.subplots(1,2, figsize=(8,5))\n",
    "ax1.plot(models[\"aic\"])\n",
    "ax1.set_xlabel('# features')\n",
    "ax1.set_ylabel('AIC')\n",
    "ax2.plot(models[\"bic\"])\n",
    "ax2.set_xlabel('# features')\n",
    "ax2.set_ylabel('BIC')\n",
    "plt.tight_layout()\n",
    "plt.show()"
   ]
  },
  {
   "cell_type": "markdown",
   "metadata": {},
   "source": [
    "The top row of each plot contains a black square for each variable selected according to the optimal model associated with that statistic. For instance, we see that several models share a BIC close to $-150$. However, the model with the lowest BIC is the six-variable model that contains only `AtBat`,\n",
    "`Hits`,  `Walks`, `CRBI`, `DivisionW`, and `PutOuts`.\n",
    "We can use the `coef()` function to see the coefficient estimates associated with this model."
   ]
  },
  {
   "cell_type": "markdown",
   "metadata": {},
   "source": [
    "### Forward and Backward Stepwise Selection"
   ]
  },
  {
   "cell_type": "markdown",
   "metadata": {},
   "source": [
    "We can also use the `forward_select()` and `backward_select()` function to perform forward stepwise or backward stepwise selection."
   ]
  },
  {
   "cell_type": "markdown",
   "metadata": {},
   "source": [
    "### Forward Stepwise Selection"
   ]
  },
  {
   "cell_type": "code",
   "execution_count": 12,
   "metadata": {
    "collapsed": true
   },
   "outputs": [],
   "source": [
    "# we can use the previous user defined function 'def getRSS(y, X, feature_list)' \n",
    "# to add 1 feature at a time (start from 0 feature) for forward stepwise selection\n",
    "# or delete 1 feature at a time(start from all the features) for backward stepwise selection. \n",
    "def forward_select(y, X, feature_list):\n",
    "    remaining_predictors = [p for p in X.columns if p not in feature_list]\n",
    "    results = []\n",
    "    for p in remaining_predictors:\n",
    "        results.append(getRSS(y, X, feature_list+[p]))\n",
    "\n",
    "    models = pd.DataFrame(results)\n",
    "    best_model = models.loc[models['RSS'].idxmin()]\n",
    "    return best_model"
   ]
  },
  {
   "cell_type": "code",
   "execution_count": 13,
   "metadata": {
    "collapsed": true
   },
   "outputs": [],
   "source": [
    "models2 = pd.DataFrame(columns=[\"RSS\", \"Model\"])\n",
    "feature_list = []\n",
    "for i in range(1,len(X.columns)+1):\n",
    "    models2.loc[i] = forward_select(y, X, feature_list)\n",
    "    feature_list = models2.loc[i][\"Model\"].model.exog_names"
   ]
  },
  {
   "cell_type": "code",
   "execution_count": 14,
   "metadata": {
    "collapsed": true
   },
   "outputs": [
    {
     "name": "stdout",
     "output_type": "stream",
     "text": [
      "Best max_feature variable from best subset selection on tranining\n",
      "AtBat          -1.571703\n",
      "Hits            7.443980\n",
      "CRBI            0.684000\n",
      "PutOuts         0.288405\n",
      "Division_E    124.035287\n",
      "dtype: float64\n",
      "\n",
      "---------------------------------------------\n",
      "Best max_feature variable from forward selection on tranining\n",
      "Hits            7.443980\n",
      "CRBI            0.684000\n",
      "PutOuts         0.288405\n",
      "AtBat          -1.571703\n",
      "Division_E    124.035287\n",
      "dtype: float64\n"
     ]
    }
   ],
   "source": [
    "# we can compare the results of best subset selection and the forward selection\n",
    "print('Best max_feature variable from best subset selection on tranining')\n",
    "print(models.loc[max_feature, 'Model'].params)\n",
    "print('\\n---------------------------------------------')\n",
    "print('Best max_feature variable from forward selection on tranining')\n",
    "print(models2.loc[max_feature, 'Model'].params)"
   ]
  },
  {
   "cell_type": "markdown",
   "metadata": {},
   "source": [
    "For instance, we see that using forward stepwise selection, the best one-variable model contains only `CRBI`, and the best two-variable model additionally includes `Hits`. For this data, the best one-variable through six-variable models are each identical for best subset and forward selection. However, the best seven-variable models identified by forward stepwise selection, backward stepwise selection, and best subset selection are different."
   ]
  },
  {
   "cell_type": "markdown",
   "metadata": {},
   "source": [
    "### Backward Stepwise Selection"
   ]
  },
  {
   "cell_type": "code",
   "execution_count": 15,
   "metadata": {
    "collapsed": true
   },
   "outputs": [],
   "source": [
    "def backward_select(y, X, feature_list):\n",
    "    results = []\n",
    "    for combo in itertools.combinations(feature_list, len(feature_list)-1):\n",
    "        results.append(getRSS(y, X, combo))\n",
    "\n",
    "    models = pd.DataFrame(results)\n",
    "    best_model = models.loc[models['RSS'].idxmin()]\n",
    "    return best_model  "
   ]
  },
  {
   "cell_type": "code",
   "execution_count": 16,
   "metadata": {
    "collapsed": true
   },
   "outputs": [
    {
     "name": "stdout",
     "output_type": "stream",
     "text": [
      "AtBat     -1.899448\n",
      "Hits       7.754626\n",
      "Walks      3.687280\n",
      "CRuns      0.624463\n",
      "PutOuts    0.301334\n",
      "dtype: float64\n"
     ]
    }
   ],
   "source": [
    "# the backward selection starts from all the variables of features\n",
    "models3 = pd.DataFrame(columns=[\"RSS\", \"Model\"], index = range(1,len(X.columns)))\n",
    "feature_list = X.columns\n",
    "\n",
    "while(len(feature_list) > 1):\n",
    "    models3.loc[len(feature_list)-1] = backward_select(y, X, feature_list)\n",
    "    feature_list = models3.loc[len(feature_list)-1][\"Model\"].model.exog_names\n",
    "\n",
    "print(models3.loc[max_feature, \"Model\"].params)"
   ]
  },
  {
   "cell_type": "markdown",
   "metadata": {},
   "source": [
    "## 6.5.3 Choosing Among Models Using the Validation Set Approach and Cross-Validation\n",
    "\n",
    "In previous sections, we defined the 'best' model based on some statistics (R^2, adj R^2, AIC, BIC, etc) of the training dataset. This may cause 'overfitting' problem which means the best model on training data can not generalize well to new data. In this section, validation approach will be discussed.\n"
   ]
  },
  {
   "cell_type": "markdown",
   "metadata": {},
   "source": [
    "### Choosing Among Models Using the Validation-Set Approach and Cross-Validation"
   ]
  },
  {
   "cell_type": "markdown",
   "metadata": {},
   "source": [
    "We just saw that it is possible to choose among a set of models of different sizes using AIC, BIC, and adjusted $R^2$. We will now consider how to do this using the validation set and cross-validation approaches.\n",
    "\n",
    "In order for these approaches to yield accurate estimates of the test error, we must use *only the training observations* to perform all aspects of model-fitting---including variable  selection.  Therefore, the determination of which model of a\n",
    "given size is best must be made using *only the training observations*. This point is subtle but important. \n",
    "If the full data set is used to perform the best subset selection step, the validation set errors and cross-validation errors that we obtain will not be accurate estimates of the test error.\n",
    "\n",
    "In order to use the validation set approach, we begin by splitting the observations into a training set and a test set.  "
   ]
  },
  {
   "cell_type": "code",
   "execution_count": 17,
   "metadata": {
    "collapsed": true
   },
   "outputs": [],
   "source": [
    "# randomly split the data into traning dataset and validation dateset\n",
    "np.random.seed(seed = 21)\n",
    "train_index = np.random.choice([True, False], size = len(y), replace = True, p = [0.7, 0.3]) \n",
    "# random select ~70% of data into traning sample\n",
    "# the rest of the samples will be in testing set.\n",
    "test_index = np.invert(train_index)\n",
    "X_train= X[train_index]\n",
    "y_train = y[train_index]\n",
    "X_test = X[test_index]\n",
    "y_test = y[test_index]"
   ]
  },
  {
   "cell_type": "code",
   "execution_count": 18,
   "metadata": {},
   "outputs": [
    {
     "data": {
      "text/plain": [
       "(171, 9)"
      ]
     },
     "execution_count": 18,
     "metadata": {},
     "output_type": "execute_result"
    }
   ],
   "source": [
    "from sklearn.feature_selection import SequentialFeatureSelector\n",
    "\n",
    "lr = LinearRegression()\n",
    "sfs = SequentialFeatureSelector(lr, cv=10, scoring='neg_mean_squared_error', n_features_to_select='auto')\n",
    "sfs.fit(X_train, y_train)\n",
    "\n",
    "sfs.transform(X_train).shape"
   ]
  },
  {
   "cell_type": "code",
   "execution_count": 19,
   "metadata": {},
   "outputs": [
    {
     "data": {
      "text/plain": [
       "array([False, False, False, False,  True,  True,  True, False, False,\n",
       "       False,  True, False, False,  True, False,  True,  True,  True,\n",
       "        True])"
      ]
     },
     "execution_count": 19,
     "metadata": {},
     "output_type": "execute_result"
    }
   ],
   "source": [
    "sfs.get_support()"
   ]
  },
  {
   "cell_type": "code",
   "execution_count": 20,
   "metadata": {},
   "outputs": [
    {
     "data": {
      "text/plain": [
       "array(['RBI', 'Walks', 'Years', 'CRuns', 'PutOuts', 'Errors', 'League_A',\n",
       "       'Division_E', 'NewLeague_A'], dtype=object)"
      ]
     },
     "execution_count": 20,
     "metadata": {},
     "output_type": "execute_result"
    }
   ],
   "source": [
    "sfs.get_feature_names_out()"
   ]
  },
  {
   "cell_type": "markdown",
   "metadata": {},
   "source": [
    "We find that the best model is the one that contains nine variables."
   ]
  },
  {
   "cell_type": "markdown",
   "metadata": {},
   "source": [
    "This was a little tedious. We can put this into a Pipeline in sklearn."
   ]
  },
  {
   "cell_type": "code",
   "execution_count": 21,
   "metadata": {},
   "outputs": [
    {
     "data": {
      "text/html": [
       "<style>#sk-container-id-1 {color: black;background-color: white;}#sk-container-id-1 pre{padding: 0;}#sk-container-id-1 div.sk-toggleable {background-color: white;}#sk-container-id-1 label.sk-toggleable__label {cursor: pointer;display: block;width: 100%;margin-bottom: 0;padding: 0.3em;box-sizing: border-box;text-align: center;}#sk-container-id-1 label.sk-toggleable__label-arrow:before {content: \"▸\";float: left;margin-right: 0.25em;color: #696969;}#sk-container-id-1 label.sk-toggleable__label-arrow:hover:before {color: black;}#sk-container-id-1 div.sk-estimator:hover label.sk-toggleable__label-arrow:before {color: black;}#sk-container-id-1 div.sk-toggleable__content {max-height: 0;max-width: 0;overflow: hidden;text-align: left;background-color: #f0f8ff;}#sk-container-id-1 div.sk-toggleable__content pre {margin: 0.2em;color: black;border-radius: 0.25em;background-color: #f0f8ff;}#sk-container-id-1 input.sk-toggleable__control:checked~div.sk-toggleable__content {max-height: 200px;max-width: 100%;overflow: auto;}#sk-container-id-1 input.sk-toggleable__control:checked~label.sk-toggleable__label-arrow:before {content: \"▾\";}#sk-container-id-1 div.sk-estimator input.sk-toggleable__control:checked~label.sk-toggleable__label {background-color: #d4ebff;}#sk-container-id-1 div.sk-label input.sk-toggleable__control:checked~label.sk-toggleable__label {background-color: #d4ebff;}#sk-container-id-1 input.sk-hidden--visually {border: 0;clip: rect(1px 1px 1px 1px);clip: rect(1px, 1px, 1px, 1px);height: 1px;margin: -1px;overflow: hidden;padding: 0;position: absolute;width: 1px;}#sk-container-id-1 div.sk-estimator {font-family: monospace;background-color: #f0f8ff;border: 1px dotted black;border-radius: 0.25em;box-sizing: border-box;margin-bottom: 0.5em;}#sk-container-id-1 div.sk-estimator:hover {background-color: #d4ebff;}#sk-container-id-1 div.sk-parallel-item::after {content: \"\";width: 100%;border-bottom: 1px solid gray;flex-grow: 1;}#sk-container-id-1 div.sk-label:hover label.sk-toggleable__label {background-color: #d4ebff;}#sk-container-id-1 div.sk-serial::before {content: \"\";position: absolute;border-left: 1px solid gray;box-sizing: border-box;top: 0;bottom: 0;left: 50%;z-index: 0;}#sk-container-id-1 div.sk-serial {display: flex;flex-direction: column;align-items: center;background-color: white;padding-right: 0.2em;padding-left: 0.2em;position: relative;}#sk-container-id-1 div.sk-item {position: relative;z-index: 1;}#sk-container-id-1 div.sk-parallel {display: flex;align-items: stretch;justify-content: center;background-color: white;position: relative;}#sk-container-id-1 div.sk-item::before, #sk-container-id-1 div.sk-parallel-item::before {content: \"\";position: absolute;border-left: 1px solid gray;box-sizing: border-box;top: 0;bottom: 0;left: 50%;z-index: -1;}#sk-container-id-1 div.sk-parallel-item {display: flex;flex-direction: column;z-index: 1;position: relative;background-color: white;}#sk-container-id-1 div.sk-parallel-item:first-child::after {align-self: flex-end;width: 50%;}#sk-container-id-1 div.sk-parallel-item:last-child::after {align-self: flex-start;width: 50%;}#sk-container-id-1 div.sk-parallel-item:only-child::after {width: 0;}#sk-container-id-1 div.sk-dashed-wrapped {border: 1px dashed gray;margin: 0 0.4em 0.5em 0.4em;box-sizing: border-box;padding-bottom: 0.4em;background-color: white;}#sk-container-id-1 div.sk-label label {font-family: monospace;font-weight: bold;display: inline-block;line-height: 1.2em;}#sk-container-id-1 div.sk-label-container {text-align: center;}#sk-container-id-1 div.sk-container {/* jupyter's `normalize.less` sets `[hidden] { display: none; }` but bootstrap.min.css set `[hidden] { display: none !important; }` so we also need the `!important` here to be able to override the default hidden behavior on the sphinx rendered scikit-learn.org. See: https://github.com/scikit-learn/scikit-learn/issues/21755 */display: inline-block !important;position: relative;}#sk-container-id-1 div.sk-text-repr-fallback {display: none;}</style><div id=\"sk-container-id-1\" class=\"sk-top-container\"><div class=\"sk-text-repr-fallback\"><pre>Pipeline(steps=[(&#x27;feature_selection&#x27;,\n",
       "                 SequentialFeatureSelector(estimator=LinearRegression(),\n",
       "                                           n_features_to_select=&#x27;auto&#x27;)),\n",
       "                (&#x27;classification&#x27;, LinearRegression())])</pre><b>In a Jupyter environment, please rerun this cell to show the HTML representation or trust the notebook. <br />On GitHub, the HTML representation is unable to render, please try loading this page with nbviewer.org.</b></div><div class=\"sk-container\" hidden><div class=\"sk-item sk-dashed-wrapped\"><div class=\"sk-label-container\"><div class=\"sk-label sk-toggleable\"><input class=\"sk-toggleable__control sk-hidden--visually\" id=\"sk-estimator-id-1\" type=\"checkbox\" ><label for=\"sk-estimator-id-1\" class=\"sk-toggleable__label sk-toggleable__label-arrow\">Pipeline</label><div class=\"sk-toggleable__content\"><pre>Pipeline(steps=[(&#x27;feature_selection&#x27;,\n",
       "                 SequentialFeatureSelector(estimator=LinearRegression(),\n",
       "                                           n_features_to_select=&#x27;auto&#x27;)),\n",
       "                (&#x27;classification&#x27;, LinearRegression())])</pre></div></div></div><div class=\"sk-serial\"><div class=\"sk-item sk-dashed-wrapped\"><div class=\"sk-label-container\"><div class=\"sk-label sk-toggleable\"><input class=\"sk-toggleable__control sk-hidden--visually\" id=\"sk-estimator-id-2\" type=\"checkbox\" ><label for=\"sk-estimator-id-2\" class=\"sk-toggleable__label sk-toggleable__label-arrow\">feature_selection: SequentialFeatureSelector</label><div class=\"sk-toggleable__content\"><pre>SequentialFeatureSelector(estimator=LinearRegression(),\n",
       "                          n_features_to_select=&#x27;auto&#x27;)</pre></div></div></div><div class=\"sk-parallel\"><div class=\"sk-parallel-item\"><div class=\"sk-item\"><div class=\"sk-label-container\"><div class=\"sk-label sk-toggleable\"><input class=\"sk-toggleable__control sk-hidden--visually\" id=\"sk-estimator-id-3\" type=\"checkbox\" ><label for=\"sk-estimator-id-3\" class=\"sk-toggleable__label sk-toggleable__label-arrow\">estimator: LinearRegression</label><div class=\"sk-toggleable__content\"><pre>LinearRegression()</pre></div></div></div><div class=\"sk-serial\"><div class=\"sk-item\"><div class=\"sk-estimator sk-toggleable\"><input class=\"sk-toggleable__control sk-hidden--visually\" id=\"sk-estimator-id-4\" type=\"checkbox\" ><label for=\"sk-estimator-id-4\" class=\"sk-toggleable__label sk-toggleable__label-arrow\">LinearRegression</label><div class=\"sk-toggleable__content\"><pre>LinearRegression()</pre></div></div></div></div></div></div></div></div><div class=\"sk-item\"><div class=\"sk-estimator sk-toggleable\"><input class=\"sk-toggleable__control sk-hidden--visually\" id=\"sk-estimator-id-5\" type=\"checkbox\" ><label for=\"sk-estimator-id-5\" class=\"sk-toggleable__label sk-toggleable__label-arrow\">LinearRegression</label><div class=\"sk-toggleable__content\"><pre>LinearRegression()</pre></div></div></div></div></div></div></div>"
      ],
      "text/plain": [
       "Pipeline(steps=[('feature_selection',\n",
       "                 SequentialFeatureSelector(estimator=LinearRegression(),\n",
       "                                           n_features_to_select='auto')),\n",
       "                ('classification', LinearRegression())])"
      ]
     },
     "execution_count": 21,
     "metadata": {},
     "output_type": "execute_result"
    }
   ],
   "source": [
    "clf = Pipeline([\n",
    "  ('feature_selection', SequentialFeatureSelector(LinearRegression(),\n",
    "                                                  n_features_to_select='auto')),\n",
    "  ('classification', LinearRegression())\n",
    "])\n",
    "clf.fit(X_train, y_train)"
   ]
  },
  {
   "cell_type": "markdown",
   "metadata": {},
   "source": [
    "Finally, we perform best subset selection on the full data set, and select the best nine-variable model. It is important that we make use of  the full data set in order to obtain more accurate coefficient estimates. Note that we perform best subset selection on the full data set and select the best nine-variable model, rather than simply using the variables that were obtained from the training set, because the best nine-variable model on the full data set may differ from the corresponding model on the training set."
   ]
  },
  {
   "cell_type": "code",
   "execution_count": 22,
   "metadata": {},
   "outputs": [
    {
     "data": {
      "text/html": [
       "<style>#sk-container-id-2 {color: black;background-color: white;}#sk-container-id-2 pre{padding: 0;}#sk-container-id-2 div.sk-toggleable {background-color: white;}#sk-container-id-2 label.sk-toggleable__label {cursor: pointer;display: block;width: 100%;margin-bottom: 0;padding: 0.3em;box-sizing: border-box;text-align: center;}#sk-container-id-2 label.sk-toggleable__label-arrow:before {content: \"▸\";float: left;margin-right: 0.25em;color: #696969;}#sk-container-id-2 label.sk-toggleable__label-arrow:hover:before {color: black;}#sk-container-id-2 div.sk-estimator:hover label.sk-toggleable__label-arrow:before {color: black;}#sk-container-id-2 div.sk-toggleable__content {max-height: 0;max-width: 0;overflow: hidden;text-align: left;background-color: #f0f8ff;}#sk-container-id-2 div.sk-toggleable__content pre {margin: 0.2em;color: black;border-radius: 0.25em;background-color: #f0f8ff;}#sk-container-id-2 input.sk-toggleable__control:checked~div.sk-toggleable__content {max-height: 200px;max-width: 100%;overflow: auto;}#sk-container-id-2 input.sk-toggleable__control:checked~label.sk-toggleable__label-arrow:before {content: \"▾\";}#sk-container-id-2 div.sk-estimator input.sk-toggleable__control:checked~label.sk-toggleable__label {background-color: #d4ebff;}#sk-container-id-2 div.sk-label input.sk-toggleable__control:checked~label.sk-toggleable__label {background-color: #d4ebff;}#sk-container-id-2 input.sk-hidden--visually {border: 0;clip: rect(1px 1px 1px 1px);clip: rect(1px, 1px, 1px, 1px);height: 1px;margin: -1px;overflow: hidden;padding: 0;position: absolute;width: 1px;}#sk-container-id-2 div.sk-estimator {font-family: monospace;background-color: #f0f8ff;border: 1px dotted black;border-radius: 0.25em;box-sizing: border-box;margin-bottom: 0.5em;}#sk-container-id-2 div.sk-estimator:hover {background-color: #d4ebff;}#sk-container-id-2 div.sk-parallel-item::after {content: \"\";width: 100%;border-bottom: 1px solid gray;flex-grow: 1;}#sk-container-id-2 div.sk-label:hover label.sk-toggleable__label {background-color: #d4ebff;}#sk-container-id-2 div.sk-serial::before {content: \"\";position: absolute;border-left: 1px solid gray;box-sizing: border-box;top: 0;bottom: 0;left: 50%;z-index: 0;}#sk-container-id-2 div.sk-serial {display: flex;flex-direction: column;align-items: center;background-color: white;padding-right: 0.2em;padding-left: 0.2em;position: relative;}#sk-container-id-2 div.sk-item {position: relative;z-index: 1;}#sk-container-id-2 div.sk-parallel {display: flex;align-items: stretch;justify-content: center;background-color: white;position: relative;}#sk-container-id-2 div.sk-item::before, #sk-container-id-2 div.sk-parallel-item::before {content: \"\";position: absolute;border-left: 1px solid gray;box-sizing: border-box;top: 0;bottom: 0;left: 50%;z-index: -1;}#sk-container-id-2 div.sk-parallel-item {display: flex;flex-direction: column;z-index: 1;position: relative;background-color: white;}#sk-container-id-2 div.sk-parallel-item:first-child::after {align-self: flex-end;width: 50%;}#sk-container-id-2 div.sk-parallel-item:last-child::after {align-self: flex-start;width: 50%;}#sk-container-id-2 div.sk-parallel-item:only-child::after {width: 0;}#sk-container-id-2 div.sk-dashed-wrapped {border: 1px dashed gray;margin: 0 0.4em 0.5em 0.4em;box-sizing: border-box;padding-bottom: 0.4em;background-color: white;}#sk-container-id-2 div.sk-label label {font-family: monospace;font-weight: bold;display: inline-block;line-height: 1.2em;}#sk-container-id-2 div.sk-label-container {text-align: center;}#sk-container-id-2 div.sk-container {/* jupyter's `normalize.less` sets `[hidden] { display: none; }` but bootstrap.min.css set `[hidden] { display: none !important; }` so we also need the `!important` here to be able to override the default hidden behavior on the sphinx rendered scikit-learn.org. See: https://github.com/scikit-learn/scikit-learn/issues/21755 */display: inline-block !important;position: relative;}#sk-container-id-2 div.sk-text-repr-fallback {display: none;}</style><div id=\"sk-container-id-2\" class=\"sk-top-container\"><div class=\"sk-text-repr-fallback\"><pre>Pipeline(steps=[(&#x27;feature_selection&#x27;,\n",
       "                 SequentialFeatureSelector(estimator=LinearRegression(),\n",
       "                                           n_features_to_select=9)),\n",
       "                (&#x27;classification&#x27;, LinearRegression())])</pre><b>In a Jupyter environment, please rerun this cell to show the HTML representation or trust the notebook. <br />On GitHub, the HTML representation is unable to render, please try loading this page with nbviewer.org.</b></div><div class=\"sk-container\" hidden><div class=\"sk-item sk-dashed-wrapped\"><div class=\"sk-label-container\"><div class=\"sk-label sk-toggleable\"><input class=\"sk-toggleable__control sk-hidden--visually\" id=\"sk-estimator-id-6\" type=\"checkbox\" ><label for=\"sk-estimator-id-6\" class=\"sk-toggleable__label sk-toggleable__label-arrow\">Pipeline</label><div class=\"sk-toggleable__content\"><pre>Pipeline(steps=[(&#x27;feature_selection&#x27;,\n",
       "                 SequentialFeatureSelector(estimator=LinearRegression(),\n",
       "                                           n_features_to_select=9)),\n",
       "                (&#x27;classification&#x27;, LinearRegression())])</pre></div></div></div><div class=\"sk-serial\"><div class=\"sk-item sk-dashed-wrapped\"><div class=\"sk-label-container\"><div class=\"sk-label sk-toggleable\"><input class=\"sk-toggleable__control sk-hidden--visually\" id=\"sk-estimator-id-7\" type=\"checkbox\" ><label for=\"sk-estimator-id-7\" class=\"sk-toggleable__label sk-toggleable__label-arrow\">feature_selection: SequentialFeatureSelector</label><div class=\"sk-toggleable__content\"><pre>SequentialFeatureSelector(estimator=LinearRegression(), n_features_to_select=9)</pre></div></div></div><div class=\"sk-parallel\"><div class=\"sk-parallel-item\"><div class=\"sk-item\"><div class=\"sk-label-container\"><div class=\"sk-label sk-toggleable\"><input class=\"sk-toggleable__control sk-hidden--visually\" id=\"sk-estimator-id-8\" type=\"checkbox\" ><label for=\"sk-estimator-id-8\" class=\"sk-toggleable__label sk-toggleable__label-arrow\">estimator: LinearRegression</label><div class=\"sk-toggleable__content\"><pre>LinearRegression()</pre></div></div></div><div class=\"sk-serial\"><div class=\"sk-item\"><div class=\"sk-estimator sk-toggleable\"><input class=\"sk-toggleable__control sk-hidden--visually\" id=\"sk-estimator-id-9\" type=\"checkbox\" ><label for=\"sk-estimator-id-9\" class=\"sk-toggleable__label sk-toggleable__label-arrow\">LinearRegression</label><div class=\"sk-toggleable__content\"><pre>LinearRegression()</pre></div></div></div></div></div></div></div></div><div class=\"sk-item\"><div class=\"sk-estimator sk-toggleable\"><input class=\"sk-toggleable__control sk-hidden--visually\" id=\"sk-estimator-id-10\" type=\"checkbox\" ><label for=\"sk-estimator-id-10\" class=\"sk-toggleable__label sk-toggleable__label-arrow\">LinearRegression</label><div class=\"sk-toggleable__content\"><pre>LinearRegression()</pre></div></div></div></div></div></div></div>"
      ],
      "text/plain": [
       "Pipeline(steps=[('feature_selection',\n",
       "                 SequentialFeatureSelector(estimator=LinearRegression(),\n",
       "                                           n_features_to_select=9)),\n",
       "                ('classification', LinearRegression())])"
      ]
     },
     "execution_count": 22,
     "metadata": {},
     "output_type": "execute_result"
    }
   ],
   "source": [
    "clf = Pipeline([\n",
    "  ('feature_selection', SequentialFeatureSelector(LinearRegression(),\n",
    "                                                  n_features_to_select=9)),\n",
    "  ('classification', LinearRegression())\n",
    "])\n",
    "clf.fit(X, y)"
   ]
  },
  {
   "cell_type": "code",
   "execution_count": 23,
   "metadata": {},
   "outputs": [
    {
     "data": {
      "text/plain": [
       "0.4702776325335545"
      ]
     },
     "execution_count": 23,
     "metadata": {},
     "output_type": "execute_result"
    }
   ],
   "source": [
    "clf.score(X, y)"
   ]
  },
  {
   "cell_type": "code",
   "execution_count": 24,
   "metadata": {},
   "outputs": [
    {
     "data": {
      "text/plain": [
       "array(['Runs', 'RBI', 'Walks', 'CAtBat', 'CHmRun', 'CRuns', 'CWalks',\n",
       "       'League_A', 'Division_E'], dtype=object)"
      ]
     },
     "execution_count": 24,
     "metadata": {},
     "output_type": "execute_result"
    }
   ],
   "source": [
    "clf[0].get_feature_names_out()"
   ]
  },
  {
   "cell_type": "markdown",
   "metadata": {},
   "source": [
    "In fact, we see that the best nine-variable model on the full data set has a different set of variables than the best nine-variable model on the training set.\n",
    "\n",
    "We now try to choose among the models of different sizes using cross-validation.\n",
    "This approach is somewhat involved, as we must perform best subset selection *within each of the $k$ training sets*."
   ]
  },
  {
   "cell_type": "markdown",
   "metadata": {},
   "source": [
    "We see that cross-validation selects a 10-variable model. We now perform best subset selection on the full data set in order to obtain the 10-variable model."
   ]
  },
  {
   "cell_type": "markdown",
   "metadata": {},
   "source": [
    "## 6.5.2 Ridge Regression and the Lasso"
   ]
  },
  {
   "cell_type": "markdown",
   "metadata": {},
   "source": [
    "We will use the `sklearn` package in order to perform ridge regression and the lasso.\n",
    "\n",
    "We will now perform ridge regression and the lasso in order to predict `Salary` on the `Hitters` data. Before proceeding ensure that the missing values have been removed from the data, as described in Section 6.5.1."
   ]
  },
  {
   "cell_type": "code",
   "execution_count": 25,
   "metadata": {
    "collapsed": true
   },
   "outputs": [],
   "source": [
    "# similar to before, we need to prepare the features(indepedent) variables and response(depedent) varisble.\n",
    "Hitters = pd.read_csv('https://raw.githubusercontent.com/tvanzyl/Sharing_ISL_python/master/data/Hitters.csv', header=0, na_values='NA')\n",
    "Hitters = Hitters.dropna().reset_index(drop=True) # drop the observation with NA values and reindex the obs from 0\n",
    "dummies = pd.get_dummies(Hitters[['League', 'Division', 'NewLeague']])\n",
    "\n",
    "y = Hitters.Salary  # the response variable \n",
    "X_prep = Hitters.drop (['Salary', 'League', 'Division', 'NewLeague'], axis = 1).astype('float64')\n",
    "X = pd.concat([X_prep,  dummies[['League_A', 'Division_E', 'NewLeague_A']]], axis=1)"
   ]
  },
  {
   "cell_type": "markdown",
   "metadata": {},
   "source": [
    "### Ridge Regression\n",
    "\n",
    "The `Ridge()` class has an `alpha` argument that determines what type of model is fit. If `alpha=0` then a ridge regression model is fit, and if `alpha=1` then a lasso model is fit. We first fit a ridge regression model."
   ]
  },
  {
   "cell_type": "code",
   "execution_count": 26,
   "metadata": {
    "collapsed": true
   },
   "outputs": [
    {
     "name": "stdout",
     "output_type": "stream",
     "text": [
      "[1.00000000e+10 7.56463328e+09 5.72236766e+09 4.32876128e+09\n",
      " 3.27454916e+09 2.47707636e+09 1.87381742e+09 1.41747416e+09\n",
      " 1.07226722e+09 8.11130831e+08 6.13590727e+08 4.64158883e+08\n",
      " 3.51119173e+08 2.65608778e+08 2.00923300e+08 1.51991108e+08\n",
      " 1.14975700e+08 8.69749003e+07 6.57933225e+07 4.97702356e+07\n",
      " 3.76493581e+07 2.84803587e+07 2.15443469e+07 1.62975083e+07\n",
      " 1.23284674e+07 9.32603347e+06 7.05480231e+06 5.33669923e+06\n",
      " 4.03701726e+06 3.05385551e+06 2.31012970e+06 1.74752840e+06\n",
      " 1.32194115e+06 1.00000000e+06 7.56463328e+05 5.72236766e+05\n",
      " 4.32876128e+05 3.27454916e+05 2.47707636e+05 1.87381742e+05\n",
      " 1.41747416e+05 1.07226722e+05 8.11130831e+04 6.13590727e+04\n",
      " 4.64158883e+04 3.51119173e+04 2.65608778e+04 2.00923300e+04\n",
      " 1.51991108e+04 1.14975700e+04 8.69749003e+03 6.57933225e+03\n",
      " 4.97702356e+03 3.76493581e+03 2.84803587e+03 2.15443469e+03\n",
      " 1.62975083e+03 1.23284674e+03 9.32603347e+02 7.05480231e+02\n",
      " 5.33669923e+02 4.03701726e+02 3.05385551e+02 2.31012970e+02\n",
      " 1.74752840e+02 1.32194115e+02 1.00000000e+02 7.56463328e+01\n",
      " 5.72236766e+01 4.32876128e+01 3.27454916e+01 2.47707636e+01\n",
      " 1.87381742e+01 1.41747416e+01 1.07226722e+01 8.11130831e+00\n",
      " 6.13590727e+00 4.64158883e+00 3.51119173e+00 2.65608778e+00\n",
      " 2.00923300e+00 1.51991108e+00 1.14975700e+00 8.69749003e-01\n",
      " 6.57933225e-01 4.97702356e-01 3.76493581e-01 2.84803587e-01\n",
      " 2.15443469e-01 1.62975083e-01 1.23284674e-01 9.32603347e-02\n",
      " 7.05480231e-02 5.33669923e-02 4.03701726e-02 3.05385551e-02\n",
      " 2.31012970e-02 1.74752840e-02 1.32194115e-02 1.00000000e-02]\n"
     ]
    }
   ],
   "source": [
    "alphas = 10**np.linspace(10,-2,100)\n",
    "print(alphas)"
   ]
  },
  {
   "cell_type": "markdown",
   "metadata": {},
   "source": [
    "However, here we have chosen to implement the function over a grid of values ranging from $\\lambda=10^{10}$ to $\\lambda=10^{-2}$, essentially covering the full range of scenarios from the null model containing only the intercept, to the least squares fit. As we will see, we can also compute model fits for a particular value of $\\lambda$ that is not one of the original `grid` values. \n",
    "\n",
    "Associated with each value of $\\lambda$ is a vector of ridge regression coefficients, stored in a matrix that can be accessed by `coef()`. In this case, it is a $20 \\times 100$ matrix, with $20$ rows (one for each predictor, plus an intercept) and $100$ columns (one for each value of $\\lambda$)."
   ]
  },
  {
   "cell_type": "code",
   "execution_count": 27,
   "metadata": {
    "collapsed": true
   },
   "outputs": [],
   "source": [
    "# associated with each value of alpha is a vector of ridge regression coefficients, \n",
    "# stored in a matrix that can be accessed by coeffs. In this case, it is a 19×100, \n",
    "# 19 is the dimension of the features + (intercept needs to call separately) and 100 \n",
    "# is the len of the alphas. The result is a numpy series with len 100 and len(coffes[0]) is 19. \n",
    "# In this specific implementation, the default is no intercept. \n",
    "# here I used list to store them, we could also use dictionary to store them as we did before.\n",
    "ridge = Ridge(fit_intercept=True, normalize=True)\n",
    "coeffs = []\n",
    "intercepts = []\n",
    "\n",
    "for a in alphas:\n",
    "    ridge.set_params(alpha=a)\n",
    "    ridge.fit(X, y)\n",
    "    coeffs.append(ridge.coef_)\n",
    "    intercepts.append(ridge.intercept_)"
   ]
  },
  {
   "cell_type": "code",
   "execution_count": 28,
   "metadata": {
    "collapsed": true
   },
   "outputs": [
    {
     "name": "stdout",
     "output_type": "stream",
     "text": [
      "100\n",
      "19\n",
      "100\n",
      "535.9258816915063\n"
     ]
    }
   ],
   "source": [
    "print(len(coeffs))\n",
    "print(len(coeffs[0]))\n",
    "print(len(intercepts))\n",
    "print(intercepts[0])"
   ]
  },
  {
   "cell_type": "code",
   "execution_count": 29,
   "metadata": {
    "collapsed": true
   },
   "outputs": [
    {
     "data": {
      "image/png": "[encoded data removed]",
      "text/plain": [
       "<Figure size 432x288 with 1 Axes>"
      ]
     },
     "metadata": {},
     "output_type": "display_data"
    }
   ],
   "source": [
    "# as design, as alphas get bigger, magnitude of coefficients turn to be closer to zero. \n",
    "# one thing to remember is that the decay is quite smooth\n",
    "ax = plt.gca()\n",
    "ax.plot(alphas, coeffs)\n",
    "\"\"\"\n",
    "Typically, we scale the alpha in log scale.\n",
    "Try to plot it without. \n",
    "\"\"\"\n",
    "ax.set_xscale('log') \n",
    "plt.axis('tight')\n",
    "plt.xlabel('alpha')\n",
    "plt.ylabel('weights')\n",
    "plt.show()"
   ]
  },
  {
   "cell_type": "markdown",
   "metadata": {},
   "source": [
    "We expect the coefficient estimates to be much smaller, in terms of $\\ell_2$ norm, when a large value of $\\lambda$ is used, as compared to when a small value of\n",
    "$\\lambda$ is used. These are the coefficients when $\\lambda=11{,}498$, along with their $\\ell_2$ norm:"
   ]
  },
  {
   "cell_type": "code",
   "execution_count": 30,
   "metadata": {
    "collapsed": true
   },
   "outputs": [
    {
     "name": "stdout",
     "output_type": "stream",
     "text": [
      "11497.569953977356\n",
      "0.015604015364701388\n",
      "[ 1.05084190e-04  3.81213219e-04  1.53587268e-03  6.44641457e-04\n",
      "  6.80918080e-04  8.01446032e-04  3.27704404e-03  9.02214059e-06\n",
      "  3.32048758e-05  2.50408429e-04  6.66164023e-05  6.87496444e-05\n",
      "  7.27332307e-05  4.21005722e-05  6.87621309e-06 -3.21056660e-05\n",
      "  1.11649125e-03  1.50775795e-02  2.19838773e-04]\n"
     ]
    }
   ],
   "source": [
    "# let us take one example\n",
    "\"\"\"\n",
    "We may notice the coefficients l2 norm is different from R output \n",
    "I tried a few different normalization methods but still did not get the exact same output \n",
    "\"\"\"\n",
    "sample = 49\n",
    "print(alphas[sample])\n",
    "print(math.sqrt(sum(map(lambda x:x*x, coeffs[sample]))))\n",
    "print(coeffs[sample])\n"
   ]
  },
  {
   "cell_type": "markdown",
   "metadata": {},
   "source": [
    "In contrast, here are the coefficients when $\\lambda=705$, along with their $\\ell_2$ norm. Note the much larger $\\ell_2$ norm of the coefficients associated with this smaller value of $\\lambda$."
   ]
  },
  {
   "cell_type": "markdown",
   "metadata": {},
   "source": [
    "We  now split the samples into a training set and a test set in order to estimate the test error of ridge regression and the lasso. There are two common ways to randomly split a data set. The first is to produce a random vector of `TRUE`, `FALSE` elements and select the observations corresponding to `TRUE` for the training data. The second is to randomly choose a subset of numbers between $1$ and $n$; these can then be used as the indices for the training observations. The two approaches work equally well. We used the former method in Section 6.5.1. Here we demonstrate the latter approach.\n",
    "\n",
    "We first set a random seed so that the results obtained will be reproducible."
   ]
  },
  {
   "cell_type": "code",
   "execution_count": 31,
   "metadata": {
    "collapsed": true
   },
   "outputs": [],
   "source": [
    "# we now split the samples into a training set and a test set in order to estimate \n",
    "# the test error of ridge regression and the lasso. \n",
    "# Python provides a built-in function to produce training and test data set.\n",
    "X_train, X_test , y_train, y_test = train_test_split(X, y, test_size=0.66)"
   ]
  },
  {
   "cell_type": "markdown",
   "metadata": {},
   "source": [
    "Next we fit a ridge regression model on the training set, and evaluate its MSE on the test set, using $\\lambda=4$.  Note the use of the `predict()` function again."
   ]
  },
  {
   "cell_type": "code",
   "execution_count": 32,
   "metadata": {
    "collapsed": true
   },
   "outputs": [
    {
     "name": "stdout",
     "output_type": "stream",
     "text": [
      "AtBat           0.140401\n",
      "Hits            0.502269\n",
      "HmRun           1.566403\n",
      "Runs            0.730003\n",
      "RBI             0.666613\n",
      "Walks           0.696304\n",
      "Years           3.540244\n",
      "CAtBat          0.009477\n",
      "CHits           0.034620\n",
      "CHmRun          0.180378\n",
      "CRuns           0.066102\n",
      "CRBI            0.058552\n",
      "CWalks          0.070382\n",
      "PutOuts         0.024093\n",
      "Assists         0.017444\n",
      "Errors          0.132390\n",
      "League_A       -5.292163\n",
      "Division_E     18.779448\n",
      "NewLeague_A   -10.845347\n",
      "dtype: float64\n",
      "158169.7986782719\n"
     ]
    }
   ],
   "source": [
    "# train the model and do prediction on test dataset\n",
    "ridge = Ridge(fit_intercept=True, normalize=True, alpha=4)\n",
    "ridge.fit(X_train, y_train)             # Fit a ridge regression on the training data\n",
    "pred = ridge.predict(X_test)           # Use this model to predict the test data\n",
    "print(pd.Series(ridge.coef_, index=X.columns)) # Print coefficients\n",
    "print(mean_squared_error(y_test, pred))        # Calculate the test MSE"
   ]
  },
  {
   "cell_type": "markdown",
   "metadata": {},
   "source": [
    "The test MSE is $158{,}798$. \n",
    "\n",
    "Note that if we had instead simply fit a model with just an intercept, we would have predicted each test observation using the mean of the training observations. In that case, we could compute the test set MSE like this:"
   ]
  },
  {
   "cell_type": "code",
   "execution_count": 33,
   "metadata": {},
   "outputs": [
    {
     "data": {
      "text/plain": [
       "237526.7450487441"
      ]
     },
     "execution_count": 33,
     "metadata": {},
     "output_type": "execute_result"
    }
   ],
   "source": [
    "((y_test - y_train.mean())**2).mean()"
   ]
  },
  {
   "cell_type": "markdown",
   "metadata": {},
   "source": [
    "So fitting a ridge regression model with $\\lambda=4$ leads to a much lower test MSE than fitting a model with just an intercept.\n",
    "We now check whether there is any benefit to performing ridge regression with $\\lambda=4$ instead of just performing least squares regression. Recall that least squares is simply ridge regression with $\\lambda=0$."
   ]
  },
  {
   "cell_type": "code",
   "execution_count": 34,
   "metadata": {},
   "outputs": [
    {
     "name": "stdout",
     "output_type": "stream",
     "text": [
      "AtBat          -1.036608\n",
      "Hits            1.247736\n",
      "HmRun          -1.446054\n",
      "Runs            1.309007\n",
      "RBI             4.653507\n",
      "Walks           4.880508\n",
      "Years          -3.320797\n",
      "CAtBat         -0.102341\n",
      "CHits           1.829129\n",
      "CHmRun          3.606345\n",
      "CRuns          -0.894601\n",
      "CRBI           -1.835604\n",
      "CWalks         -0.517837\n",
      "PutOuts         0.116911\n",
      "Assists         0.206200\n",
      "Errors         -2.551689\n",
      "League_A       20.427276\n",
      "Division_E     99.136556\n",
      "NewLeague_A   -55.599948\n",
      "dtype: float64\n",
      "143859.24905103864\n"
     ]
    }
   ],
   "source": [
    "# train the model and do prediction on test dataset\n",
    "ridge = Ridge(fit_intercept=True, normalize=True, alpha=0)\n",
    "ridge.fit(X_train, y_train)             # Fit a ridge regression on the training data\n",
    "pred = ridge.predict(X_test)           # Use this model to predict the test data\n",
    "print(pd.Series(ridge.coef_, index=X.columns)) # Print coefficients\n",
    "print(mean_squared_error(y_test, pred))        # Calculate the test MSE"
   ]
  },
  {
   "cell_type": "markdown",
   "metadata": {},
   "source": [
    "This represents a further improvement over the test MSE that we got using $\\lambda=4$.\n",
    "Finally, we refit our ridge regression model on the full data set, using the value of $\\lambda$ chosen by cross-validation, and examine the coefficient estimates."
   ]
  },
  {
   "cell_type": "code",
   "execution_count": 35,
   "metadata": {
    "collapsed": true
   },
   "outputs": [
    {
     "data": {
      "text/plain": [
       "2.009233002565046"
      ]
     },
     "execution_count": 35,
     "metadata": {},
     "output_type": "execute_result"
    }
   ],
   "source": [
    "# to select best alpha, we will use cross validation. \n",
    "# as standard, we will report test set performance as the final performance metric\n",
    "ridgecv =  RidgeCV(alphas, scoring='neg_mean_squared_error', normalize = True)\n",
    "ridgecv.fit(X_train, y_train)\n",
    "ridgecv.alpha_"
   ]
  },
  {
   "cell_type": "code",
   "execution_count": 36,
   "metadata": {
    "collapsed": true
   },
   "outputs": [
    {
     "data": {
      "text/plain": [
       "149456.41864238377"
      ]
     },
     "execution_count": 36,
     "metadata": {},
     "output_type": "execute_result"
    }
   ],
   "source": [
    "# produce the mean squred error of the selected alpha on test dataset\n",
    "ridge_best = Ridge(alpha=ridgecv.alpha_, normalize=True)\n",
    "ridge_best.fit(X_train, y_train)\n",
    "mean_squared_error(y_test, ridge_best.predict(X_test))"
   ]
  },
  {
   "cell_type": "code",
   "execution_count": 37,
   "metadata": {
    "collapsed": true
   },
   "outputs": [
    {
     "data": {
      "text/plain": [
       "AtBat           0.169999\n",
       "Hits            0.639215\n",
       "HmRun           1.878439\n",
       "Runs            0.906496\n",
       "RBI             0.810615\n",
       "Walks           0.820017\n",
       "Years           4.334067\n",
       "CAtBat          0.011820\n",
       "CHits           0.044248\n",
       "CHmRun          0.191351\n",
       "CRuns           0.082013\n",
       "CRBI            0.069101\n",
       "CWalks          0.074531\n",
       "PutOuts         0.032628\n",
       "Assists         0.020510\n",
       "Errors          0.124686\n",
       "League_A       -9.452157\n",
       "Division_E     30.012946\n",
       "NewLeague_A   -17.974926\n",
       "dtype: float64"
      ]
     },
     "execution_count": 37,
     "metadata": {},
     "output_type": "execute_result"
    }
   ],
   "source": [
    "# we can exame the values of the coefficients \n",
    "pd.Series(ridge_best.coef_, index=X.columns)"
   ]
  },
  {
   "cell_type": "markdown",
   "metadata": {},
   "source": [
    "As expected, none of the coefficients are zero---ridge regression does not perform variable selection!\n",
    "\n",
    "### The Lasso\n",
    "\n",
    "We saw that ridge regression with a wise choice of $\\lambda$ can outperform least squares as well as the null model on the `Hitters` data set. We now ask whether the lasso can yield either a more accurate or a more interpretable model than ridge regression. Other than that change, we proceed just as we did in fitting a ridge model."
   ]
  },
  {
   "cell_type": "code",
   "execution_count": 38,
   "metadata": {
    "collapsed": true
   },
   "outputs": [
    {
     "data": {
      "image/png": "[encoded data removed]",
      "text/plain": [
       "<Figure size 432x288 with 1 Axes>"
      ]
     },
     "metadata": {},
     "output_type": "display_data"
    },
    {
     "name": "stdout",
     "output_type": "stream",
     "text": [
      "156759.698816488\n"
     ]
    }
   ],
   "source": [
    "# same precedure as before, we will use cross validation to select the best alpha\n",
    "lasso= Lasso(normalize=True, max_iter=int(1e5))\n",
    "coeffs = []\n",
    "\n",
    "for a in alphas:\n",
    "    lasso.set_params(alpha=a)\n",
    "    lasso.fit(X_train, y_train)\n",
    "    coeffs.append(lasso.coef_)\n",
    "    \n",
    "ax = plt.gca()\n",
    "ax.plot(alphas, coeffs)\n",
    "ax.set_xscale('log')\n",
    "plt.axis('tight')\n",
    "plt.xlabel('alpha')\n",
    "plt.ylabel('weights')\n",
    "plt.show()\n",
    "\n",
    "lassocv = LassoCV(alphas=None, cv=10, max_iter=int(1e5), normalize=True)\n",
    "lassocv.fit(X_train, y_train)\n",
    "\n",
    "lasso.set_params(alpha=lassocv.alpha_)\n",
    "lasso.fit(X_train, y_train)\n",
    "print(mean_squared_error(y_test, lasso.predict(X_test)))"
   ]
  },
  {
   "cell_type": "markdown",
   "metadata": {},
   "source": [
    "We can see from the coefficient plot that depending on the choice of tuning parameter, some of the coefficients will be exactly equal to zero.\n",
    "We now perform cross-validation and compute the associated test error."
   ]
  },
  {
   "cell_type": "code",
   "execution_count": 39,
   "metadata": {
    "collapsed": true
   },
   "outputs": [
    {
     "data": {
      "text/plain": [
       "AtBat          0.000000\n",
       "Hits           1.154708\n",
       "HmRun          0.000000\n",
       "Runs           0.805094\n",
       "RBI            1.492200\n",
       "Walks          0.184973\n",
       "Years          0.000000\n",
       "CAtBat         0.000000\n",
       "CHits          0.227180\n",
       "CHmRun         0.000000\n",
       "CRuns          0.000000\n",
       "CRBI           0.000000\n",
       "CWalks         0.000000\n",
       "PutOuts        0.000000\n",
       "Assists        0.000000\n",
       "Errors         0.000000\n",
       "League_A      -0.000000\n",
       "Division_E     0.000000\n",
       "NewLeague_A   -0.000000\n",
       "dtype: float64"
      ]
     },
     "execution_count": 39,
     "metadata": {},
     "output_type": "execute_result"
    }
   ],
   "source": [
    "# some of the coefficients should reduce to exact zero\n",
    "pd.Series(lasso.coef_, index=X.columns)"
   ]
  },
  {
   "cell_type": "markdown",
   "metadata": {},
   "source": [
    "This is substantially lower than the test set MSE of the null model and of least squares, and very similar to the test MSE of ridge regression with $\\lambda$ chosen by cross-validation.\n",
    "\n",
    "However, the lasso has a substantial advantage over ridge regression in that the resulting coefficient estimates are sparse. Here we see that 8 of the 19 coefficient estimates are exactly\n",
    "zero. So the lasso model with $\\lambda$ chosen by cross-validation contains only eleven variables."
   ]
  },
  {
   "cell_type": "markdown",
   "metadata": {},
   "source": [
    "## 6.5.3 PCR and PLS Regression"
   ]
  },
  {
   "cell_type": "markdown",
   "metadata": {},
   "source": [
    "### Principal Components Regression\n",
    "Principal components regression (PCR) can be performed using the PCA function + regression afterwards. The PCA function is part of the scikit-learn module. In this section, we will continue using Hitters data, in order to predict Salary. Again, we will drop NA and deal with the categorical variables from the data set as what we did in Section 6.5. "
   ]
  },
  {
   "cell_type": "code",
   "execution_count": 40,
   "metadata": {
    "collapsed": true
   },
   "outputs": [],
   "source": [
    "Hitters = pd.read_csv('https://raw.githubusercontent.com/tvanzyl/Sharing_ISL_python/master/data/Hitters.csv', header=0, na_values='NA')\n",
    "Hitters = Hitters.dropna().reset_index(drop=True) # drop the observation with NA values and reindex the obs from 0\n",
    "y = Hitters.Salary  # the response variable \n",
    "dummies = pd.get_dummies(Hitters[['League', 'Division', 'NewLeague']])\n",
    "X_prep = Hitters.drop (['Salary', 'League', 'Division', 'NewLeague'], axis = 1).astype('float64')\n",
    "X = pd.concat([X_prep,  dummies[['League_A', 'Division_E', 'NewLeague_A']]], axis=1)"
   ]
  },
  {
   "cell_type": "code",
   "execution_count": 41,
   "metadata": {
    "collapsed": true
   },
   "outputs": [],
   "source": [
    "# let us do PCA on the input dataset. \n",
    "# since the units of the variables are different, it is always recommended to scale the variables.\n",
    "pca = PCA()\n",
    "X_pca = pca.fit_transform(scale(X))\n",
    "regr = linear_model.LinearRegression()"
   ]
  },
  {
   "cell_type": "markdown",
   "metadata": {},
   "source": [
    "We now apply PCR to the `Hitters` data, in order to predict `Salary`. Again,  we ensure that the missing values have been removed from the data, as described in Section 6.5.1."
   ]
  },
  {
   "cell_type": "markdown",
   "metadata": {},
   "source": [
    "The syntax for the `pcr()` function is similar to that for `lm()`, with a few additional\n",
    "options. Setting `scale = TRUE` has the effect of *standardizing* each\n",
    "predictor, using ( 6.6), prior to generating the principal\n",
    "components, so that the scale on which each variable is measured will not have an effect.\n",
    " Setting `validation = \"CV\"` causes\n",
    "`pcr()` to compute the ten-fold cross-validation error for each possible\n",
    "value of $M$, the number of principal components used. The resulting fit can be examined using `summary()`."
   ]
  },
  {
   "cell_type": "markdown",
   "metadata": {},
   "source": [
    "The CV score is provided for each possible number of components, ranging\n",
    "from $M=0$ onwards. (We have printed the CV output only up to $M=4$.)\n",
    "Note that  `pcr()` reports the *root mean squared error*; in order to obtain the usual MSE, we must square this quantity. For instance, a root mean squared error of $352.8$ corresponds to an MSE of\n",
    "$352.8^2=124{,}468$.\n",
    "\n",
    "One can also plot the cross-validation scores using the\n",
    "`validationplot()` function. Using `val.type = \"MSEP\"`\n",
    "will cause the cross-validation MSE to be plotted."
   ]
  },
  {
   "cell_type": "code",
   "execution_count": 42,
   "metadata": {
    "collapsed": true
   },
   "outputs": [],
   "source": [
    "\"\"\"\n",
    "Here comes a problem, how to choose the number of PCs. We still use cross-validation. \n",
    "We compute MSE for validation set at different number of PCs, \n",
    "and choose the one with lowest validation MSE as the optimal number for PCA dimension reduction. \n",
    "\n",
    "[NOT fully covered here, covered in Chapter 12] We may decide on the number of PCS by the explained variance ratio.\n",
    "\"\"\"\n",
    "\n",
    "def pcr(X,y,pc):\n",
    "    ''' Principal Component Regression in Python'''\n",
    "    ''' Step 1: PCA on input data'''\n",
    "\n",
    "    # Define the PCA object\n",
    "    pca = PCA()\n",
    "\n",
    "    # Preprocessing (1): first derivative\n",
    "    X_pca = pca.fit_transform(scale(X))[:,:pc]\n",
    "\n",
    "    ''' Step 2: regression on selected principal components'''\n",
    "\n",
    "    # Create linear regression object\n",
    "    regr = linear_model.LinearRegression()\n",
    "    \n",
    "    # Fit\n",
    "    regr.fit(X_pca, y)\n",
    "\n",
    "    # Calibration\n",
    "    y_train = regr.predict(X_pca)\n",
    "\n",
    "    # Cross-validation\n",
    "    y_cv = cross_val_predict(regr, X_pca, y, cv=20)\n",
    "\n",
    "    # Calculate scores for training and cross-validation\n",
    "    score_train = r2_score(y, y_train)\n",
    "    score_cv = r2_score(y, y_cv)\n",
    "\n",
    "    # Calculate mean square error for training and cross validation\n",
    "    mse_train = mean_squared_error(y, y_train)\n",
    "    mse_cv = mean_squared_error(y, y_cv)\n",
    "\n",
    "    return(y_cv, score_train, score_cv, mse_train, mse_cv)\n"
   ]
  },
  {
   "cell_type": "markdown",
   "metadata": {},
   "source": [
    "We see that the smallest cross-validation error occurs when $M=18$ components are used. This is barely fewer than $M=19$, which amounts to simply performing least squares, because when all of the components are used in PCR no dimension reduction occurs. However, from the plot we also see that the cross-validation error is roughly the same when only one component is included in the model. This suggests that a model that uses just a small number of components might suffice.\n",
    "\n",
    " The\n",
    "`summary()` function also provides the *percentage of variance explained* in the predictors and in the response using different numbers of components. This concept is discussed in greater detail in Chapter 12.\n",
    "   Briefly, we can think of this as\n",
    "the amount of information about the predictors or the\n",
    "response that is captured using $M$ principal components. For example,\n",
    "setting $M=1$ only captures $38.31\\,\\%$ of all the variance, or information,\n",
    "in the predictors. In contrast, using $M=5$ increases the value to $84.29\\,\\%$. If we\n",
    "were to use all $M=p=19$ components, this would increase to $100\\,\\%$."
   ]
  },
  {
   "cell_type": "code",
   "execution_count": 43,
   "metadata": {
    "collapsed": true
   },
   "outputs": [
    {
     "data": {
      "image/png": "[encoded data removed]",
      "text/plain": [
       "<Figure size 432x288 with 1 Axes>"
      ]
     },
     "metadata": {},
     "output_type": "display_data"
    }
   ],
   "source": [
    "mse_train = []\n",
    "mse_cv = []\n",
    "\n",
    "# calculate MSE using CV for the 19 principle components, adding one component at the time.\n",
    "for i in np.arange(1, 20):\n",
    "    results =  pcr(X,y,i)\n",
    "    mse_train.append(results[3])\n",
    "    mse_cv.append(results[4])\n",
    "    \n",
    "# plot results    \n",
    "plt.plot(np.arange(1, 20), mse_cv, '-v', label = 'Validation_MSE')\n",
    "plt.plot(np.arange(1, 20), mse_train, '-v', label = 'Train_MSE')\n",
    "plt.xlabel('Number of principal components in regression')\n",
    "plt.ylabel('MSE')\n",
    "plt.title('Salary')\n",
    "plt.xlim(left=-1)\n",
    "plt.legend()\n",
    "plt.show()"
   ]
  },
  {
   "cell_type": "markdown",
   "metadata": {},
   "source": [
    "From the above picture, we can observe three things \n",
    "\n",
    "1) PC = 6, 16, 17, 18, 19 give us the small validation MSE; \n",
    "2) for all the PC dimensions,  validation MSE is higher than training MSE, is this normal? \n",
    "3) the training MSE keeps decreasing as PC number goes up, is this as expected?\n",
    "\n",
    "\n",
    "From the plot we also see that the cross-validation error is roughly the same when \n",
    "only one component is included in the model. \n",
    "This suggests that a model that uses just a small number of components might suffice. \n",
    "In the book, the authors used train/test to select the best dimension. \n",
    "I will skip that part since most of those were already covered in the previous sections."
   ]
  },
  {
   "cell_type": "markdown",
   "metadata": {},
   "source": [
    "We now perform PCR on the training data and evaluate its test set performance."
   ]
  },
  {
   "cell_type": "markdown",
   "metadata": {},
   "source": [
    "This test set MSE is competitive with the results obtained using ridge regression and the lasso. However, as a result of the way PCR is implemented, the final model is more difficult to interpret because it does not perform any kind of variable selection or even directly produce coefficient estimates.\n",
    "\n",
    "Finally, we fit PCR on the full data set, using $M=6$, the number of components identified by cross-validation."
   ]
  },
  {
   "cell_type": "code",
   "execution_count": 44,
   "metadata": {
    "collapsed": true
   },
   "outputs": [
    {
     "data": {
      "text/plain": [
       "107276.07631078806"
      ]
     },
     "execution_count": 44,
     "metadata": {},
     "output_type": "execute_result"
    }
   ],
   "source": [
    "# let us move forwward with 6 PCs\n",
    "pcs = 6\n",
    "X_train, X_test , y_train, y_test = train_test_split(X, y, test_size=0.66)\n",
    "\n",
    "pca2 = PCA()\n",
    "# scale the data\n",
    "X_reduced_train = pca2.fit_transform(scale(X_train))\n",
    "X_reduced_test = pca2.transform(scale(X_test))[:,:pcs]\n",
    "# train regression model on training data \n",
    "regr = linear_model.LinearRegression()\n",
    "regr.fit(X_reduced_train[:,:6], y_train)\n",
    "# prediction with test data\n",
    "pred = regr.predict(X_reduced_test)\n",
    "mean_squared_error(y_test, pred)"
   ]
  },
  {
   "cell_type": "markdown",
   "metadata": {},
   "source": [
    "Now we find that the lowest cross-validation error occurs when $M=6$ components are used. \n",
    "We compute the test MSE as follows."
   ]
  },
  {
   "cell_type": "markdown",
   "metadata": {},
   "source": [
    "We'll do a little math to get the amount of variance explained by adding each consecutive principal component. \n",
    "We can think of this as the amount of information(variance) about the data(X) or the response that is \n",
    "captured using $M$ principal components. For example, setting $M = 1$ only captures 38.31% of all the variance, or information, in the data."
   ]
  },
  {
   "cell_type": "code",
   "execution_count": 45,
   "metadata": {
    "collapsed": true
   },
   "outputs": [
    {
     "data": {
      "text/plain": [
       "array([ 38.31423957,  60.15531541,  70.8416746 ,  79.03419435,\n",
       "        84.29027516,  88.63477938,  92.26288766,  94.96304322,\n",
       "        96.28269124,  97.25541298,  97.97775424,  98.64870031,\n",
       "        99.15178693,  99.4730334 ,  99.74659124,  99.89398793,\n",
       "        99.96815949,  99.99375108, 100.        ])"
      ]
     },
     "execution_count": 45,
     "metadata": {},
     "output_type": "execute_result"
    }
   ],
   "source": [
    "np.cumsum(pca.explained_variance_ratio_) * 100"
   ]
  },
  {
   "cell_type": "markdown",
   "metadata": {},
   "source": [
    "### Partial Least Squares"
   ]
  },
  {
   "cell_type": "markdown",
   "metadata": {},
   "source": [
    "Scikit-learn has function PLSRegression for partial least squares regression. "
   ]
  },
  {
   "cell_type": "code",
   "execution_count": 46,
   "metadata": {
    "collapsed": true
   },
   "outputs": [
    {
     "data": {
      "text/plain": [
       "174126.72168654652"
      ]
     },
     "execution_count": 46,
     "metadata": {},
     "output_type": "execute_result"
    }
   ],
   "source": [
    "X_train, X_test , y_train, y_test = train_test_split(X, y, test_size=0.66)\n",
    "pls = PLSRegression(n_components=2)\n",
    "pls.fit(scale(X_train), y_train)\n",
    "\n",
    "mean_squared_error(y_test, pls.predict(scale(X_test)))"
   ]
  },
  {
   "cell_type": "markdown",
   "metadata": {},
   "source": [
    "But, we still need to write a few line of codes to do the cross validation. The logic is same as before. "
   ]
  },
  {
   "cell_type": "code",
   "execution_count": 47,
   "metadata": {},
   "outputs": [],
   "source": [
    "#TODO Exercise"
   ]
  },
  {
   "cell_type": "markdown",
   "metadata": {},
   "source": [
    "The lowest cross-validation error occurs when only $M=1$ partial least squares directions are used. We now evaluate the corresponding test set MSE."
   ]
  },
  {
   "cell_type": "markdown",
   "metadata": {},
   "source": [
    "The test MSE is comparable to, but slightly higher than, the test MSE obtained using ridge regression, the lasso, and PCR.\n",
    "Finally, perform PLS using the full data set, using $M=1$, the number of components identified by cross-validation."
   ]
  },
  {
   "cell_type": "code",
   "execution_count": 48,
   "metadata": {},
   "outputs": [],
   "source": [
    "#TODO Exercise"
   ]
  },
  {
   "cell_type": "markdown",
   "metadata": {},
   "source": [
    "Notice that the percentage of variance in `Salary` that the one-component PLS fit explains, $43.05\\,\\%$, is almost as much as that explained using the final five-component model PCR fit, $44.90\\,\\%$. This is because PCR only attempts to maximize the amount of variance explained in the predictors, while PLS searches for directions that explain variance in both the predictors and the response."
   ]
  },
  {
   "cell_type": "code",
   "execution_count": 49,
   "metadata": {},
   "outputs": [],
   "source": [
    "# End of Chapter 6"
   ]
  }
 ],
 "metadata": {
  "anaconda-cloud": {},
  "kernelspec": {
   "display_name": "Python 3.10.4 ('jupyter')",
   "language": "python",
   "name": "python3"
  },
  "language_info": {
   "codemirror_mode": {
    "name": "ipython",
    "version": 3
   },
   "file_extension": ".py",
   "mimetype": "text/x-python",
   "name": "python",
   "nbconvert_exporter": "python",
   "pygments_lexer": "ipython3",
   "version": "3.10.4"
  },
  "vscode": {
   "interpreter": {
    "hash": "092633841fae5a453d59f3730329b400a8541b45bc6f2e0a3e6c2e0778ee7c3a"
   }
  }
 },
 "nbformat": 4,
 "nbformat_minor": 1
}
